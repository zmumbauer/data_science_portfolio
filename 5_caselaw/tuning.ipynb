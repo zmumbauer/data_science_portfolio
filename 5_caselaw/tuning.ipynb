{
 "cells": [
  {
   "cell_type": "markdown",
   "metadata": {},
   "source": "# Milestone 3: Fine-Tuning and Testing a ChatGPT Model"
  },
  {
   "metadata": {
    "ExecuteTime": {
     "end_time": "2025-07-21T00:26:09.972346Z",
     "start_time": "2025-07-21T00:25:53.375305Z"
    }
   },
   "cell_type": "code",
   "source": [
    "from datasets import load_dataset\n",
    "from dotenv import load_dotenv\n",
    "\n",
    "dataset = load_dataset(\"common-pile/caselaw_access_project\", split=\"train\", data_files=\"cap_00000.jsonl.gz\")"
   ],
   "outputs": [
    {
     "name": "stderr",
     "output_type": "stream",
     "text": [
      "/Users/zachmumbauer/code/gen_ai/.venv/lib/python3.11/site-packages/tqdm/auto.py:21: TqdmWarning: IProgress not found. Please update jupyter and ipywidgets. See https://ipywidgets.readthedocs.io/en/stable/user_install.html\n",
      "  from .autonotebook import tqdm as notebook_tqdm\n",
      "Generating train split: 40000 examples [00:02, 16887.33 examples/s]\n"
     ]
    }
   ],
   "execution_count": 2
  },
  {
   "metadata": {},
   "cell_type": "markdown",
   "source": "I chose the Caselaw Access Project dataset from Hugging Face because it provides a collection of legal texts which ideal for exploring legal AI applications. I loaded a single file (`cap_00000.jsonl.gz`) to manage size and cost constraints. Originally, I was going to use fine-tuning for writing grant proposals, but that would have requires more examples of funded projects than I could find and manually creating a dataset."
  },
  {
   "metadata": {
    "ExecuteTime": {
     "end_time": "2025-07-21T00:37:02.385399Z",
     "start_time": "2025-07-21T00:36:59.033018Z"
    }
   },
   "cell_type": "code",
   "source": [
    "df = pd.DataFrame(dataset)\n",
    "print(df.head())\n",
    "print(\"Columns:\", df.columns.tolist())"
   ],
   "outputs": [
    {
     "name": "stdout",
     "output_type": "stream",
     "text": [
      "                          id                  source  \\\n",
      "0  f2d_474/html/0001-01.html  Caselaw Access Project   \n",
      "1  f2d_474/html/0003-01.html  Caselaw Access Project   \n",
      "2  f2d_474/html/0004-01.html  Caselaw Access Project   \n",
      "3  f2d_474/html/0006-01.html  Caselaw Access Project   \n",
      "4  f2d_474/html/0008-01.html  Caselaw Access Project   \n",
      "\n",
      "                        added                     created  \\\n",
      "0  2024-08-24T03:29:51.129235  2024-08-24T03:29:51.129683   \n",
      "1  2024-08-24T03:29:51.129235  2024-08-24T03:29:51.129683   \n",
      "2  2024-08-24T03:29:51.129235  2024-08-24T03:29:51.129683   \n",
      "3  2024-08-24T03:29:51.129235  2024-08-24T03:29:51.129683   \n",
      "4  2024-08-24T03:29:51.129235  2024-08-24T03:29:51.129683   \n",
      "\n",
      "                                            metadata  \\\n",
      "0  {'author': 'PER CURIAM:', 'license': 'Public D...   \n",
      "1  {'author': '\n",
      "      PER CURIAM:', 'license': 'P...   \n",
      "2  {'author': 'PER CURIAM:', 'license': 'Public D...   \n",
      "3  {'author': 'PER CURIAM:', 'license': 'Public D...   \n",
      "4  {'author': 'PER CURIAM:', 'license': 'Public D...   \n",
      "\n",
      "                                                text  \n",
      "0  \\n    UNITED STATES of America, Appellee, v. D...  \n",
      "1  \\n    John OTERO and Grace Otero, his wife, Ap...  \n",
      "2  \\n    UNITED STATES of America, Plaintiff-Appe...  \n",
      "3  \\n    UNITED STATES of America, Plaintiff-Appe...  \n",
      "4  \\n    YORK-SHIPLEY, INC., Plaintiff-Appellee, ...  \n",
      "Columns: ['id', 'source', 'added', 'created', 'metadata', 'text']\n"
     ]
    }
   ],
   "execution_count": 9
  },
  {
   "metadata": {},
   "cell_type": "markdown",
   "source": "The CAP dataset loaded with 40,000 rows, and the `text` column contains case narratives and the `metadata` provides author and license info, but I’ll focus on `text`."
  },
  {
   "metadata": {
    "ExecuteTime": {
     "end_time": "2025-07-21T00:32:17.196675Z",
     "start_time": "2025-07-21T00:32:17.182697Z"
    }
   },
   "cell_type": "code",
   "source": "df[\"text\"][1]",
   "outputs": [
    {
     "data": {
      "text/plain": [
       "\"\\n    John OTERO and Grace Otero, his wife, Appellants, v. INTERNATIONAL UNION OF ELECTRICAL, RADIO AND MACHINE WORKERS (IUE) an association, Ap-pellee.\\n    No. 71-1716.\\n    United States Court of Appeals, Ninth Circuit.\\n    Feb. 9, 1973.\\n    W. Roy Tribble (argued), Chandler, Ariz., for appellants.\\n    Melvin Warshaw, Asst. Gen. Counsel ' (argued), Ruth Weyand, Richard Seupi, International Union of Electrical, Radio, & Machine Workers, Washington, D.C., Herbert B. Finn, of Finn & Van Baalen, Phoenix, Ariz., for appellee.\\n    Before BARNES, KILKENNY and GOODWIN, Circuit Judges.\\n   PER CURIAM:\\n\\nThe district court had jurisdiction of this action, though not by reason of diversity, which does not here exist. 28 U.S.C. § 1332; United Steel Workers of America v. Bouligny, Inc., 382 U.S. 145, 150-151, 86 S.Ct. 272 (1965). Jurisdiction depends on the existence herein of a collective bargaining contract between an employer (itself a union) and a “labor organization” representing the employer’s employees. (See. 301, Labor Management Relations Act of 1947, 29 U.S. C., Sec. 185).\\n\\nThe undisputed facts presented by affidavits on the motion heard indicate a settlement was arrived at after proceedings were instituted by the union representing the employee (herein Council of Industrial Organizers, or “Council”) on Otero’s behalf. These proceedings were but partially completed; and had proceeded to, but not through, available arbitration proceedings (Motion for Summary Judgment, Exhibit A, Contract; Article VII, Sec. 2). At that point, a complete and final settlement was agreed upon between the Union employer (IUE) and the employee’s designated representative (Council), which involved a change of position on each side and the delivery of two substantial sums of money to Otero. While Otero refused to sign certain releases, he cashed the checks amounting to $5,380.64.\\n\\nNo failure on the part of the Council of Industrial Organizers to act, and no unfairness on its part in acting for the plaintiff, was charged by Otero, either at the time of settlement, or in his complaint, or on the hearing of the motion for summary judgment.\\n\\n“The parties herein agreed upon a method for final adjustment of all grievances. They further agreed that this would be final and binding upon the parties involved . . . (between the two unions). . . . This clearly was a matter subject to the contractual requirement. ... A party is entitled to no more than he bargained for and received under the contract. Chambers v. Beaunit Corporation, 404 F.2d 128 (6th Cir. 1968).”\\n\\nAlonso v. Kaiser Aluminum & Chemical Corporation, D.C., 345 F.Supp. 1356, 1360 (1971), affirmed per curiam (4th Cir. 1972), 69 L.C. ¶ 13001.\\n\\nThe grievance and arbitration procedure contained in the Council — IUE’s collective agreement is plaintiff’s sole and exclusive remedy. Republic Steel v. Maddox, 379 U.S. 650, 652-659, 85 S.Ct. 614, 13 L.Ed.2d 580 (1964).\\n\\nWe agree with the district court that no claim is stated. See: Baca v. Sipes, 386 U.S. 171, 87 S.Ct. 903, 17 L.Ed.2d 842 (1967); Woody v. Sterling Aluminum Products, Inc., 365 F.2d 448 (8th Cir. 1966), cert. denied 386 U.S. 957, 87 S.Ct. 1026, 18 L.Ed.2d 105 (1967); Dessert Coca Cola v. General Sales Drivers, 335 F.2d 198 (9th Cir. 1964); C.C.H. (L.L.R.) 3255.55 (p. 8240); Andrews v. Louisville & Nashville R. Co., 406 U.S. 320, 92 S.Ct. 1562, 32 L.Ed.2d 95 (1972).\\n\\nThe summary judgment granted appel-lee is affirmed. \\n      \\n      . This was also an action by an employee against an employer alleging wilful and malicious charges of stealing property, re-suiting in the discharge of the employee. It was also based on the granting of a motion for summary judgment.\\n     \""
      ]
     },
     "execution_count": 7,
     "metadata": {},
     "output_type": "execute_result"
    }
   ],
   "execution_count": 7
  },
  {
   "metadata": {
    "ExecuteTime": {
     "end_time": "2025-07-21T00:37:30.954613Z",
     "start_time": "2025-07-21T00:37:28.378084Z"
    }
   },
   "cell_type": "code",
   "source": [
    "def label_case(text):\n",
    "    text = str(text).lower() if text else \"\"\n",
    "    if \"affirmed\" in text and \"appellee\" in text:\n",
    "        return \"Favorable\"  # Favorable to appellee\n",
    "    elif \"reversed\" in text and \"appellant\" in text:\n",
    "        return \"Favorable\"  # Favorable to appellant\n",
    "    elif \"dismissed\" in text and \"appellant\" in text:\n",
    "        return \"Unfavorable\"  # Unfavorable to appellant\n",
    "    elif \"reversed\" in text and \"appellee\" in text:\n",
    "        return \"Unfavorable\"  # Unfavorable to appellee\n",
    "    else:\n",
    "        return None  # Insufficient context\n",
    "\n",
    "df[\"label\"] = df[\"text\"].apply(label_case)\n",
    "df = df.dropna(subset=[\"label\"])\n",
    "print(\"Labeled rows:\", len(df))\n",
    "print(\"Unlabeled rows dropped:\", len(dataset) - len(df))"
   ],
   "outputs": [
    {
     "name": "stdout",
     "output_type": "stream",
     "text": [
      "Labeled rows: 30560\n",
      "Unlabeled rows dropped: 9440\n"
     ]
    }
   ],
   "execution_count": 11
  },
  {
   "metadata": {},
   "cell_type": "markdown",
   "source": "I labeled cases as “Favorable” or “Unfavorable” using keywords like “affirmed” or “reversed” in the `text` column. I subsampled 1000 cases and dropped unlabeled rows, resulting in 30560 examples. This simple rule-based approach may miss more complex outcomes."
  },
  {
   "metadata": {
    "ExecuteTime": {
     "end_time": "2025-07-21T01:55:56.240983Z",
     "start_time": "2025-07-21T01:55:49.179496Z"
    }
   },
   "cell_type": "code",
   "source": [
    "def convert_to_jsonl(df, filename):\n",
    "    with open(filename, \"w\", encoding=\"utf-8\", errors=\"replace\") as f:\n",
    "        for _, row in df.iterrows():\n",
    "            try:\n",
    "                text = str(row[\"text\"]).encode(errors=\"replace\").decode()\n",
    "                user_content = text.replace(\"\\n\", \" \").replace('\"', '\\\\\"')\n",
    "                if len(user_content) > 500:\n",
    "                    user_content = user_content[:500]\n",
    "                assistant_content = str(row[\"label\"])\n",
    "                messages = [\n",
    "                    {\"role\": \"system\", \"content\": \"You're a chatbot that only responds with emojis!\"},\n",
    "                    {\"role\": \"user\", \"content\": user_content},\n",
    "                    {\"role\": \"assistant\", \"content\": assistant_content}\n",
    "                ]\n",
    "                json_obj = {\"messages\": messages}\n",
    "                f.write(json.dumps(json_obj) + \"\\n\")\n",
    "            except Exception as e:\n",
    "                print(f\"Error processing row: {e}, skipping row\")\n",
    "                continue\n",
    "\n",
    "from sklearn.model_selection import train_test_split\n",
    "train_df, valid_df = train_test_split(df, test_size=0.2)\n",
    "convert_to_jsonl(train_df, \"train.jsonl\")\n",
    "convert_to_jsonl(valid_df, \"valid.jsonl\")\n",
    "\n",
    "with open(\"train.jsonl\") as f:\n",
    "    print(f.read()[:500])"
   ],
   "outputs": [
    {
     "name": "stdout",
     "output_type": "stream",
     "text": [
      "{\"messages\": [{\"role\": \"system\", \"content\": \"You're a chatbot that only responds with emojis!\"}, {\"role\": \"user\", \"content\": \"     Charles B. CANNON et al., Plaintiffs-Appellants, v. U. S. ACOUSTICS CORPORATION et al., Defendants-Appellees.     No. 75-1810.     United States Court of Appeals, Seventh Circuit.     Argued Jan. 20, 1976.     Decided March 31, 1976.                 N. A. Giambalvo, Chicago, Ill., for plaintiffs-appellants.     Francis D. Morrissey, Joseph M. Fasano, Chicago, Ill., f\n"
     ]
    }
   ],
   "execution_count": 42
  },
  {
   "metadata": {},
   "cell_type": "markdown",
   "source": [
    "On my first successful run, the job failed because it would have cost over $100.\n",
    "> Creating this fine-tuning job would exceed your hard limit, please check your plan and billing details. Cost of job ftjob-kfKUttFukXm0vQr6qEUQKvaD: USD 104.30. Quota remaining for your project proj_5GjmgsX2kTZp9OuilKK176GW: USD 9.28.\n",
    "\n",
    "So I reduced the dataset size to 200 training and 50 validation samples for testing."
   ]
  },
  {
   "metadata": {
    "ExecuteTime": {
     "end_time": "2025-07-21T01:57:27.215355Z",
     "start_time": "2025-07-21T01:57:27.162702Z"
    }
   },
   "cell_type": "code",
   "source": [
    "train_sample = train_df.sample(n=200) if len(train_df) > 200 else train_df\n",
    "valid_sample = valid_df.sample(n=50) if len(valid_df) > 50 else valid_df\n",
    "convert_to_jsonl(train_sample, \"train.jsonl\")\n",
    "convert_to_jsonl(valid_sample, \"valid.jsonl\")\n",
    "\n",
    "with open(\"train.jsonl\") as f:\n",
    "    print(f.read()[:500])"
   ],
   "outputs": [
    {
     "name": "stdout",
     "output_type": "stream",
     "text": [
      "{\"messages\": [{\"role\": \"system\", \"content\": \"You're a chatbot that only responds with emojis!\"}, {\"role\": \"user\", \"content\": \"     BITUMINOUS FIRE & MARINE INSURANCE COMPANY, Appellant, v. IZZY ROSEN\\u2019S, INC., Appellee.     No. 73-1313.     United States Court of Appeals, Sixth Circuit. .     Argued Nov. 27, 1973.     Decided and Filed March 21, 1974.            Eugene C. Gaerig, Memphis, Tenn., on brief, for appellant.     Thomas R. Prewitt, and Edward M. Kaplan, Memphis, Tenn., on brief, f\n"
     ]
    }
   ],
   "execution_count": 44
  },
  {
   "cell_type": "code",
   "metadata": {
    "ExecuteTime": {
     "end_time": "2025-07-21T01:57:31.436382Z",
     "start_time": "2025-07-21T01:57:30.168039Z"
    }
   },
   "source": [
    "!pip install openai requests tiktoken numpy"
   ],
   "outputs": [
    {
     "name": "stdout",
     "output_type": "stream",
     "text": [
      "Requirement already satisfied: openai in /Users/zachmumbauer/.asdf/installs/python/3.11.8/lib/python3.11/site-packages (1.95.1)\r\n",
      "Requirement already satisfied: requests in /Users/zachmumbauer/.asdf/installs/python/3.11.8/lib/python3.11/site-packages (2.32.4)\r\n",
      "Requirement already satisfied: tiktoken in /Users/zachmumbauer/.asdf/installs/python/3.11.8/lib/python3.11/site-packages (0.9.0)\r\n",
      "Requirement already satisfied: numpy in /Users/zachmumbauer/.asdf/installs/python/3.11.8/lib/python3.11/site-packages (2.3.1)\r\n",
      "Requirement already satisfied: anyio<5,>=3.5.0 in /Users/zachmumbauer/.asdf/installs/python/3.11.8/lib/python3.11/site-packages (from openai) (4.9.0)\r\n",
      "Requirement already satisfied: distro<2,>=1.7.0 in /Users/zachmumbauer/.asdf/installs/python/3.11.8/lib/python3.11/site-packages (from openai) (1.9.0)\r\n",
      "Requirement already satisfied: httpx<1,>=0.23.0 in /Users/zachmumbauer/.asdf/installs/python/3.11.8/lib/python3.11/site-packages (from openai) (0.28.1)\r\n",
      "Requirement already satisfied: jiter<1,>=0.4.0 in /Users/zachmumbauer/.asdf/installs/python/3.11.8/lib/python3.11/site-packages (from openai) (0.10.0)\r\n",
      "Requirement already satisfied: pydantic<3,>=1.9.0 in /Users/zachmumbauer/.asdf/installs/python/3.11.8/lib/python3.11/site-packages (from openai) (2.11.7)\r\n",
      "Requirement already satisfied: sniffio in /Users/zachmumbauer/.asdf/installs/python/3.11.8/lib/python3.11/site-packages (from openai) (1.3.1)\r\n",
      "Requirement already satisfied: tqdm>4 in /Users/zachmumbauer/.asdf/installs/python/3.11.8/lib/python3.11/site-packages (from openai) (4.67.1)\r\n",
      "Requirement already satisfied: typing-extensions<5,>=4.11 in /Users/zachmumbauer/.asdf/installs/python/3.11.8/lib/python3.11/site-packages (from openai) (4.14.1)\r\n",
      "Requirement already satisfied: charset_normalizer<4,>=2 in /Users/zachmumbauer/.asdf/installs/python/3.11.8/lib/python3.11/site-packages (from requests) (3.4.2)\r\n",
      "Requirement already satisfied: idna<4,>=2.5 in /Users/zachmumbauer/.asdf/installs/python/3.11.8/lib/python3.11/site-packages (from requests) (3.10)\r\n",
      "Requirement already satisfied: urllib3<3,>=1.21.1 in /Users/zachmumbauer/.asdf/installs/python/3.11.8/lib/python3.11/site-packages (from requests) (2.5.0)\r\n",
      "Requirement already satisfied: certifi>=2017.4.17 in /Users/zachmumbauer/.asdf/installs/python/3.11.8/lib/python3.11/site-packages (from requests) (2025.7.14)\r\n",
      "Requirement already satisfied: regex>=2022.1.18 in /Users/zachmumbauer/.asdf/installs/python/3.11.8/lib/python3.11/site-packages (from tiktoken) (2024.11.6)\r\n",
      "Requirement already satisfied: httpcore==1.* in /Users/zachmumbauer/.asdf/installs/python/3.11.8/lib/python3.11/site-packages (from httpx<1,>=0.23.0->openai) (1.0.9)\r\n",
      "Requirement already satisfied: h11>=0.16 in /Users/zachmumbauer/.asdf/installs/python/3.11.8/lib/python3.11/site-packages (from httpcore==1.*->httpx<1,>=0.23.0->openai) (0.16.0)\r\n",
      "Requirement already satisfied: annotated-types>=0.6.0 in /Users/zachmumbauer/.asdf/installs/python/3.11.8/lib/python3.11/site-packages (from pydantic<3,>=1.9.0->openai) (0.7.0)\r\n",
      "Requirement already satisfied: pydantic-core==2.33.2 in /Users/zachmumbauer/.asdf/installs/python/3.11.8/lib/python3.11/site-packages (from pydantic<3,>=1.9.0->openai) (2.33.2)\r\n",
      "Requirement already satisfied: typing-inspection>=0.4.0 in /Users/zachmumbauer/.asdf/installs/python/3.11.8/lib/python3.11/site-packages (from pydantic<3,>=1.9.0->openai) (0.4.1)\r\n",
      "\r\n",
      "\u001B[1m[\u001B[0m\u001B[34;49mnotice\u001B[0m\u001B[1;39;49m]\u001B[0m\u001B[39;49m A new release of pip is available: \u001B[0m\u001B[31;49m24.0\u001B[0m\u001B[39;49m -> \u001B[0m\u001B[32;49m25.1.1\u001B[0m\r\n",
      "\u001B[1m[\u001B[0m\u001B[34;49mnotice\u001B[0m\u001B[1;39;49m]\u001B[0m\u001B[39;49m To update, run: \u001B[0m\u001B[32;49mpip install --upgrade pip\u001B[0m\r\n"
     ]
    }
   ],
   "execution_count": 45
  },
  {
   "cell_type": "code",
   "metadata": {
    "ExecuteTime": {
     "end_time": "2025-07-21T01:57:31.486744Z",
     "start_time": "2025-07-21T01:57:31.454492Z"
    }
   },
   "source": [
    "import openai\n",
    "import os\n",
    "import json\n",
    "import requests\n",
    "import time\n",
    "import tiktoken\n",
    "import numpy as np\n",
    "from collections import defaultdict\n",
    "from dotenv import load_dotenv\n",
    "\n",
    "load_dotenv()\n",
    "\n",
    "client = openai.OpenAI(api_key=os.getenv(\"OPENAI_API_KEY\"))"
   ],
   "outputs": [],
   "execution_count": 46
  },
  {
   "metadata": {},
   "cell_type": "markdown",
   "source": "I encountered a `JSONDecodeError` at character 406 in `train.jsonl`, indicating a malformed JSON object. I’m inspecting the first line to identify the issue, likely due to unescaped characters or truncation, as of 08:46 PM EDT on July 20, 2025."
  },
  {
   "metadata": {
    "ExecuteTime": {
     "end_time": "2025-07-21T01:57:33.258090Z",
     "start_time": "2025-07-21T01:57:33.254129Z"
    }
   },
   "cell_type": "code",
   "source": [
    "with open(\"train.jsonl\", encoding=\"utf-8\") as f:\n",
    "    first_line = f.readline()\n",
    "print(\"First line of train.jsonl:\")\n",
    "print(first_line)\n",
    "print(f\"Length: {len(first_line)}\")\n",
    "print(f\"Character 406: '{first_line[406]}' if available\")"
   ],
   "outputs": [
    {
     "name": "stdout",
     "output_type": "stream",
     "text": [
      "First line of train.jsonl:\n",
      "{\"messages\": [{\"role\": \"system\", \"content\": \"You're a chatbot that only responds with emojis!\"}, {\"role\": \"user\", \"content\": \"     BITUMINOUS FIRE & MARINE INSURANCE COMPANY, Appellant, v. IZZY ROSEN\\u2019S, INC., Appellee.     No. 73-1313.     United States Court of Appeals, Sixth Circuit. .     Argued Nov. 27, 1973.     Decided and Filed March 21, 1974.            Eugene C. Gaerig, Memphis, Tenn., on brief, for appellant.     Thomas R. Prewitt, and Edward M. Kaplan, Memphis, Tenn., on brief, for appellee.     Before PHILLIPS, Chief Judge, and CELEBREZZE and MILLER, Circuit Judges.    WILLIAM E. MILLER, Circuit Judge.  Thi\"}, {\"role\": \"assistant\", \"content\": \"Favorable\"}]}\n",
      "\n",
      "Length: 683\n",
      "Character 406: 'b' if available\n"
     ]
    }
   ],
   "execution_count": 47
  },
  {
   "metadata": {
    "ExecuteTime": {
     "end_time": "2025-07-21T01:57:34.506064Z",
     "start_time": "2025-07-21T01:57:34.347540Z"
    }
   },
   "cell_type": "code",
   "source": [
    "import json\n",
    "\n",
    "data_file = \"train.jsonl\"\n",
    "\n",
    "def basic_checks(data_file):\n",
    "    try:\n",
    "        with open(data_file, encoding=\"utf-8\") as f:\n",
    "            dataset = [json.loads(line) for line in f]\n",
    "\n",
    "        print(f\"Basic checks for file {data_file}:\")\n",
    "        print(\"Count of examples in training dataset:\", len(dataset))\n",
    "        print(\"First example:\")\n",
    "        print(dataset[0])\n",
    "        return True, dataset\n",
    "    except FileNotFoundError as e:\n",
    "        print(f\"File not found error occurred in file {data_file}: {e}\")\n",
    "        return False, None\n",
    "    except json.JSONDecodeError as e:\n",
    "        print(f\"JSON decoding error occurred in file {data_file}: {e}\")\n",
    "        return False, None\n",
    "    except Exception as e:\n",
    "        print(f\"An error occurred in file {data_file}: {e}\")\n",
    "        return False, None\n",
    "\n",
    "valid, dataset = basic_checks(data_file)"
   ],
   "outputs": [
    {
     "name": "stdout",
     "output_type": "stream",
     "text": [
      "Basic checks for file train.jsonl:\n",
      "Count of examples in training dataset: 200\n",
      "First example:\n",
      "{'messages': [{'role': 'system', 'content': \"You're a chatbot that only responds with emojis!\"}, {'role': 'user', 'content': '     BITUMINOUS FIRE & MARINE INSURANCE COMPANY, Appellant, v. IZZY ROSEN’S, INC., Appellee.     No. 73-1313.     United States Court of Appeals, Sixth Circuit. .     Argued Nov. 27, 1973.     Decided and Filed March 21, 1974.            Eugene C. Gaerig, Memphis, Tenn., on brief, for appellant.     Thomas R. Prewitt, and Edward M. Kaplan, Memphis, Tenn., on brief, for appellee.     Before PHILLIPS, Chief Judge, and CELEBREZZE and MILLER, Circuit Judges.    WILLIAM E. MILLER, Circuit Judge.  Thi'}, {'role': 'assistant', 'content': 'Favorable'}]}\n"
     ]
    }
   ],
   "execution_count": 48
  },
  {
   "cell_type": "code",
   "metadata": {
    "ExecuteTime": {
     "end_time": "2025-07-21T01:57:35.613523Z",
     "start_time": "2025-07-21T01:57:35.605073Z"
    }
   },
   "source": [
    "def format_checks(dataset, filename):\n",
    "    format_errors = defaultdict(int)\n",
    "\n",
    "    for ex in dataset:\n",
    "        if not isinstance(ex, dict):\n",
    "            format_errors[\"data_type\"] += 1\n",
    "            continue\n",
    "        messages = ex.get(\"messages\")\n",
    "        if not isinstance(messages, list) or len(messages) < 3:\n",
    "            format_errors[\"missing_or_invalid_messages\"] += 1\n",
    "            continue\n",
    "        expected_roles = [\"system\", \"user\", \"assistant\"]\n",
    "        for i, (msg, expected_role) in enumerate(zip(messages, expected_roles)):\n",
    "            if not isinstance(msg, dict):\n",
    "                format_errors[f\"message_{i}_not_dict\"] += 1\n",
    "                continue\n",
    "            if msg.get(\"role\") != expected_role:\n",
    "                format_errors[f\"message_{i}_role_incorrect\"] += 1\n",
    "            if \"content\" not in msg or not isinstance(msg[\"content\"], str) or not msg[\"content\"].strip():\n",
    "                format_errors[f\"message_{i}_missing_or_empty_content\"] += 1\n",
    "\n",
    "    if format_errors:\n",
    "        print(f\"Formatting errors found in file {filename}:\")\n",
    "        for k, v in format_errors.items():\n",
    "            print(f\"{k}: {v}\")\n",
    "        return False\n",
    "    print(f\"No formatting errors found in file {filename}\")\n",
    "    return True\n",
    "\n",
    "format_ok = format_checks(dataset, data_file)"
   ],
   "outputs": [
    {
     "name": "stdout",
     "output_type": "stream",
     "text": [
      "No formatting errors found in file train.jsonl\n"
     ]
    }
   ],
   "execution_count": 49
  },
  {
   "cell_type": "code",
   "metadata": {
    "ExecuteTime": {
     "end_time": "2025-07-21T01:58:22.855476Z",
     "start_time": "2025-07-21T01:58:21.527087Z"
    }
   },
   "source": [
    "with open(\"train.jsonl\", \"rb\") as f:\n",
    "    train_file = client.files.create(file=f, purpose=\"fine-tune\")\n",
    "train_file_id = train_file.id\n",
    "\n",
    "with open(\"valid.jsonl\", \"rb\") as f:\n",
    "    valid_file = client.files.create(file=f, purpose=\"fine-tune\")\n",
    "valid_file_id = valid_file.id\n",
    "\n",
    "print(f\"Train file uploaded with ID: {train_file_id}\")\n",
    "print(f\"Valid file uploaded with ID: {valid_file_id}\")"
   ],
   "outputs": [
    {
     "name": "stdout",
     "output_type": "stream",
     "text": [
      "Train file uploaded with ID: file-MfNr19Xz118qptzpnsKAtU\n",
      "Valid file uploaded with ID: file-KTz5y9wafNqAmsgDHT95yv\n"
     ]
    }
   ],
   "execution_count": 51
  },
  {
   "cell_type": "code",
   "metadata": {
    "ExecuteTime": {
     "end_time": "2025-07-21T01:58:37.102896Z",
     "start_time": "2025-07-21T01:58:36.137340Z"
    }
   },
   "source": [
    "fine_tuning_job = client.fine_tuning.jobs.create(\n",
    "    training_file=train_file_id,\n",
    "    validation_file=valid_file_id,\n",
    "    model=\"gpt-4o\",\n",
    "    hyperparameters={\n",
    "        \"n_epochs\": 3\n",
    "    },\n",
    "    suffix=\"case_law\"\n",
    ")\n",
    "\n",
    "print(f\"Fine-tuning job created with ID: {fine_tuning_job.id}\")"
   ],
   "outputs": [
    {
     "name": "stdout",
     "output_type": "stream",
     "text": [
      "Fine-tuning job created with ID: ftjob-kuRap6Olf5Vgu22vqOvK8BSq\n"
     ]
    }
   ],
   "execution_count": 52
  },
  {
   "cell_type": "code",
   "metadata": {
    "ExecuteTime": {
     "end_time": "2025-07-21T04:25:12.986479Z",
     "start_time": "2025-07-21T04:25:12.752352Z"
    }
   },
   "source": [
    "job_id = \"ftjob-cvGcW25lZtw4UH1txiSiEuZs\"\n",
    "\n",
    "api_key = os.getenv(\"OPENAI_API_KEY\")\n",
    "headers = {\n",
    "    \"Authorization\": f\"Bearer {api_key}\"\n",
    "}\n",
    "\n",
    "start_time = time.time()\n",
    "\n",
    "while True:\n",
    "    response = requests.get(f\"https://api.openai.com/v1/fine_tuning/jobs/{job_id}\", headers=headers)\n",
    "    job_status = response.json()[\"status\"]\n",
    "    print(f\"Elapsed time: {int((time.time() - start_time) // 60)} minutes {int((time.time() - start_time) % 60)} seconds\")\n",
    "    print(f\"Job Status: {job_status}\")\n",
    "    if job_status == \"succeeded\":\n",
    "        fine_tuned_model_name = response.json()[\"fine_tuned_model\"]\n",
    "        print(f\"Fine-tuning complete. Model name: {fine_tuned_model_name}\")\n",
    "        break\n",
    "    elif job_status == \"failed\":\n",
    "        print(\"Fine-tuning failed.\")\n",
    "        break\n",
    "    time.sleep(30)"
   ],
   "outputs": [
    {
     "name": "stdout",
     "output_type": "stream",
     "text": [
      "Elapsed time: 0 minutes 0 seconds\n",
      "Job Status: succeeded\n",
      "Fine-tuning complete. Model name: ft:gpt-4o-2024-08-06:personal:emoji:BvbXkZhR\n"
     ]
    }
   ],
   "execution_count": 59
  },
  {
   "metadata": {},
   "cell_type": "markdown",
   "source": "Yet again, using gpt-3.5-turbo caused moderation failures, so I switched to gpt-4o. The job completed successfully after about an hour."
  },
  {
   "cell_type": "code",
   "metadata": {
    "ExecuteTime": {
     "end_time": "2025-07-21T04:25:25.010552Z",
     "start_time": "2025-07-21T04:25:24.594202Z"
    }
   },
   "source": [
    "result = client.fine_tuning.jobs.retrieve(job_id)\n",
    "print(result)"
   ],
   "outputs": [
    {
     "name": "stdout",
     "output_type": "stream",
     "text": [
      "FineTuningJob(id='ftjob-cvGcW25lZtw4UH1txiSiEuZs', created_at=1753066955, error=Error(code=None, message=None, param=None), fine_tuned_model='ft:gpt-4o-2024-08-06:personal:emoji:BvbXkZhR', finished_at=1753068710, hyperparameters=Hyperparameters(batch_size=1, learning_rate_multiplier=2.0, n_epochs=3), model='gpt-4o-2024-08-06', object='fine_tuning.job', organization_id='org-x0P8HBiXM7Scb14exTndOhLB', result_files=['file-Uj5LVLNjVAVc2LemcQXaZp'], seed=1079288, status='succeeded', trained_tokens=104532, training_file='file-MfNr19Xz118qptzpnsKAtU', validation_file='file-KTz5y9wafNqAmsgDHT95yv', estimated_finish=None, integrations=[], metadata=None, method=Method(type='supervised', dpo=None, reinforcement=None, supervised=SupervisedMethod(hyperparameters=SupervisedHyperparameters(batch_size=1, learning_rate_multiplier=2.0, n_epochs=3))), user_provided_suffix='emoji', usage_metrics=None, shared_with_openai=False, eval_id=None)\n"
     ]
    }
   ],
   "execution_count": 60
  },
  {
   "cell_type": "code",
   "metadata": {
    "ExecuteTime": {
     "end_time": "2025-07-21T04:29:29.643202Z",
     "start_time": "2025-07-21T04:29:28.978872Z"
    }
   },
   "source": [
    "result_file_id = result.result_files[0]\n",
    "result_file_content = client.files.content(result_file_id).read()\n",
    "import base64\n",
    "decoded = base64.b64decode(result_file_content).decode()\n",
    "\n",
    "with open(\"decoded_result.csv\", \"w\") as f:\n",
    "    f.write(decoded)"
   ],
   "outputs": [],
   "execution_count": 62
  },
  {
   "metadata": {},
   "cell_type": "markdown",
   "source": [
    "import pandas as pd\n",
    "import matplotlib.pyplot as plt\n",
    "\n",
    "df = pd.read_csv(\"decoded_result.csv\")\n",
    "\n",
    "df['step'] = pd.to_numeric(df['step'], errors='coerce')\n",
    "df['train_loss'] = pd.to_numeric(df['train_loss'], errors='coerce')\n",
    "df['train_accuracy'] = pd.to_numeric(df['train_accuracy'], errors='coerce')\n",
    "df['valid_loss'] = pd.to_numeric(df['valid_loss'], errors='coerce')\n",
    "df['valid_mean_token_accuracy'] = pd.to_numeric(df['valid_mean_token_accuracy'], errors='coerce')\n",
    "\n",
    "plt.figure(figsize=(12, 5))\n",
    "plt.plot(df['step'], df['train_loss'], label='Training Loss', linewidth=2)\n",
    "plt.plot(df['step'], df['valid_loss'], label='Validation Loss', linewidth=2, linestyle='--')\n",
    "plt.title('Loss over Training Steps')\n",
    "plt.xlabel('Step')\n",
    "plt.ylabel('Loss')e\n",
    "plt.legend()\n",
    "plt.grid(True)\n",
    "plt.show()\n",
    "\n",
    "plt.figure(figsize=(12, 5))\n",
    "plt.plot(df['step'], df['train_accuracy'], label='Training Accuracy', linewidth=2)\n",
    "plt.plot(df['step'], df['valid_mean_token_accuracy'], label='Validation Accuracy', linewidth=2, linestyle='--')\n",
    "plt.title('Accuracy over Training Steps')\n",
    "plt.xlabel('Step')\n",
    "plt.ylabel('Accuracy')\n",
    "plt.legend()\n",
    "plt.grid(True)\n",
    "plt.show()"
   ]
  },
  {
   "metadata": {},
   "cell_type": "markdown",
   "source": "The fine-tuned model completed training successfully on the third attempt with a total of 104,532 tokens over 3 epochs. The training and validation losses were extremely low (0.001 and 0.002 respectively), which suggest strong learning on the training set. The full validation loss was 0.195. The loss curves show rapid convergence within the first 200 steps and where relatively flat thereafter. Accuracy was variable mid-training, which could mean there was a mix of easy and hard samples in the validation data. Overall, the metrics suggest a highly successful fine-tune."
  },
  {
   "metadata": {
    "ExecuteTime": {
     "end_time": "2025-07-21T04:39:49.540444Z",
     "start_time": "2025-07-21T04:39:42.636959Z"
    }
   },
   "cell_type": "code",
   "source": [
    "messages = [\n",
    "    {\"role\": \"system\", \"content\": \"You are a legal case classifier.\"},\n",
    "    {\"role\": \"user\", \"content\": \"BITUMINOUS FIRE & MARINE INSURANCE COMPANY, Appellant, v. IZZY ROSEN’S, INC., Appellee. United States Court of Appeals, Sixth Circuit. Argued Nov. 27, 1973. Decided and Filed March 21, 1974. Eugene C. Gaerig, Memphis, Tenn., on brief, for appellant. Thomas R. Prewitt, and Edward M. Kaplan, Memphis, Tenn., on brief, for appellee. Before PHILLIPS, Chief Judge, and CELEBREZZE and MILLER, Circuit Judges. WILLIAM E. MILLER, Circuit Judge.\"}\n",
    "]\n",
    "\n",
    "response = client.chat.completions.create(\n",
    "    model=\"ft:gpt-4o-2024-08-06:personal:emoji:BvbXkZhR\",\n",
    "    messages=messages\n",
    ")\n",
    "\n",
    "print(response.choices[0].message.content)"
   ],
   "outputs": [
    {
     "name": "stdout",
     "output_type": "stream",
     "text": [
      "Favorable\n"
     ]
    }
   ],
   "execution_count": 67
  },
  {
   "metadata": {
    "ExecuteTime": {
     "end_time": "2025-07-21T04:40:02.895336Z",
     "start_time": "2025-07-21T04:40:01.195240Z"
    }
   },
   "cell_type": "code",
   "source": [
    "messages = [\n",
    "    {\"role\": \"system\", \"content\": \"You are a legal case classifier.\"},\n",
    "    {\"role\": \"user\", \"content\": \"Priscilla E. CHAVEZ, Plaintiff-Appellant, v. TEMPE UNION HIGH SCHOOL DISTRICT #213, et al. United States Court of Appeals, Ninth Circuit. Dec. 5, 1977. Theodore C. Jarvi, Scottsdale, Ariz., for plaintiff-appellant.\"}\n",
    "]\n",
    "\n",
    "response = client.chat.completions.create(\n",
    "    model=\"ft:gpt-4o-2024-08-06:personal:emoji:BvbXkZhR\",\n",
    "    messages=messages\n",
    ")\n",
    "\n",
    "print(response.choices[0].message.content)"
   ],
   "outputs": [
    {
     "name": "stdout",
     "output_type": "stream",
     "text": [
      "Favorable\n"
     ]
    }
   ],
   "execution_count": 68
  },
  {
   "metadata": {
    "ExecuteTime": {
     "end_time": "2025-07-21T04:40:14.699075Z",
     "start_time": "2025-07-21T04:40:10.532295Z"
    }
   },
   "cell_type": "code",
   "source": [
    "messages = [\n",
    "    {\"role\": \"system\", \"content\": \"You are a legal case classifier.\"},\n",
    "    {\"role\": \"user\", \"content\": \"UNITED STATES of America, Plaintiff-Appellant, v. James E. HOOKER, Defendant-Appellee. United States Court of Appeals, Ninth Circuit. Oct. 26, 1979. Donald M. Currie, Asst. U.S. Atty., Seattle, Wash., for plaintiff-appellant. Irwin H. Schwartz, Federal Public Defender, Tacoma, Wash., for defendant-appellee. Before DUNIWAY, PECK and HUG, Circuit Judges.\"}\n",
    "]\n",
    "\n",
    "response = client.chat.completions.create(\n",
    "    model=\"ft:gpt-4o-2024-08-06:personal:emoji:BvbXkZhR\",\n",
    "    messages=messages\n",
    ")\n",
    "\n",
    "print(response.choices[0].message.content)"
   ],
   "outputs": [
    {
     "name": "stdout",
     "output_type": "stream",
     "text": [
      "Favorable\n"
     ]
    }
   ],
   "execution_count": 69
  },
  {
   "metadata": {
    "ExecuteTime": {
     "end_time": "2025-07-21T04:41:49.249072Z",
     "start_time": "2025-07-21T04:41:46.662833Z"
    }
   },
   "cell_type": "code",
   "source": [
    "messages = [\n",
    "    {\"role\": \"system\", \"content\": \"You are a legal case classifier.\"},\n",
    "    {\"role\": \"user\", \"content\": \"UNITED STATES of America, Plaintiff-Appellee, v. John Doe, Defendant-Appellant. The Ninth Circuit affirmed the lower court’s conviction of the defendant on all counts, rejecting arguments about improper jury instructions and ineffective assistance of counsel. The court held that the trial was fair and the evidence against the defendant was overwhelming.\"}\n",
    "]\n",
    "response = client.chat.completions.create(\n",
    "    model=\"ft:gpt-4o-2024-08-06:personal:emoji:BvbXkZhR\",\n",
    "    messages=messages\n",
    ")\n",
    "\n",
    "print(response.choices[0].message.content)"
   ],
   "outputs": [
    {
     "name": "stdout",
     "output_type": "stream",
     "text": [
      "Favorable\n"
     ]
    }
   ],
   "execution_count": 70
  },
  {
   "metadata": {},
   "cell_type": "markdown",
   "source": "It seems despite the training metrics showing a good fit, the model isn't performing great on these test cases. It seems to consistently predict \"Favorable\" even in cases where it was clearly \"Unfavorable\". This suggests the model may have overfit to the training data. More diverse training examples and possibly more epochs could help. I could also check the training samples to ensure a balanced representation of both classes. Overall, while the fine-tuning process completed successfully, the model's real-world performance definitely needs improvement."
  },
  {
   "metadata": {},
   "cell_type": "code",
   "outputs": [],
   "execution_count": null,
   "source": ""
  }
 ],
 "metadata": {
  "kernelspec": {
   "display_name": "Python 3",
   "language": "python",
   "name": "python3"
  },
  "language_info": {
   "name": "python",
   "version": "3.9.7"
  }
 },
 "nbformat": 4,
 "nbformat_minor": 2
}
