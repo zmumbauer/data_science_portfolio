{
 "cells": [
  {
   "cell_type": "markdown",
   "id": "c34920a5c03accb5",
   "metadata": {},
   "source": [
    "# DSC550 Data Mining Final Project\n"
   ]
  },
  {
   "cell_type": "markdown",
   "id": "ec65cf89f4f32b45",
   "metadata": {},
   "source": [
    "# Milestone 1"
   ]
  },
  {
   "cell_type": "markdown",
   "id": "3217d83020551372",
   "metadata": {},
   "source": [
    "## Narrative"
   ]
  },
  {
   "cell_type": "markdown",
   "id": "eced549e2a510229",
   "metadata": {},
   "source": [
    "Anxiety disorders are among the most prevalent mental health conditions in modern society, affecting millions of individuals worldwide. As someone personally living with generalized anxiety disorder, this topic has personal significance. Anxiety attacks often feel like a sudden, rapid spiral into physical and mental distress. Attacks are difficult to predict and can severely impact daily life, productivity, and overall well-being. Understanding the factors that contribute to the severity of anxiety attacks is not only scientifically valuable but also valuable on a personal level.\n",
    "\n",
    "The severity of anxiety attacks is influenced by a complex interplay of factors, including lifestyle choices, physiological responses, and external stressors. These include sleep patterns, physical activity, caffeine and alcohol consumption, stress levels, and recent major life events. Understanding how these variables contribute to anxiety attack severity is essential for developing targeted and effective prevention strategies.\n",
    "\n",
    "The primary goal of this project is to analyze the relationships between these variables and predict the severity of anxiety attacks using a machine learning model. By building a predictive model, I aim to uncover patterns and insights that healthcare providers can use to identify high-risk individuals and recommend tailored therapeutic strategies. Additionally, this model can help mental health practitioners craft personalized interventions, potentially guiding their treatment plans and improving outcomes for those suffering from severe anxiety.\n",
    "\n",
    "This project has potential to improve mental health care by leveraging data-driven insights. Early detection of individuals at risk for severe anxiety attacks can lead to timely interventions, reducing the long-term burden on healthcare systems and improving patients' quality of life. Furthermore, the findings may empower individuals to make informed decisions about their lifestyle choices, mitigating the risk or severity of anxiety attacks and fostering a sense of control over their mental health.\n",
    "\n",
    "The model will focus on predicting the severity of anxiety attacks on a scale of 1 to 10. It will incorporate features such as sleep hours, stress levels, heart rate, breathing rate, physical activity, dietary quality, and other variables that influence anxiety. By identifying correlations and trends, the project aims to offer actionable insights for both healthcare providers and individuals. The ultimate goal is not only to predict but to foster proactive mental health care, helping people manage anxiety with greater confidence and precision.\n",
    "\n",
    "This project is a step toward creating a more empathetic, effective, and data-driven approach to mental health care, addressing one of the most pervasive challenges in modern society."
   ]
  },
  {
   "cell_type": "code",
   "execution_count": 1,
   "id": "63f9a99b42d7c906",
   "metadata": {
    "ExecuteTime": {
     "end_time": "2025-03-03T05:23:27.857086Z",
     "start_time": "2025-03-03T05:23:27.651249Z"
    }
   },
   "outputs": [],
   "source": [
    "import pandas as pd\n",
    "import matplotlib.pyplot as plt\n",
    "import seaborn as sns\n",
    "\n",
    "from sklearn.model_selection import train_test_split, cross_val_score\n",
    "from sklearn.preprocessing import StandardScaler, OneHotEncoder\n",
    "from sklearn.pipeline import Pipeline\n",
    "from sklearn.compose import ColumnTransformer"
   ]
  },
  {
   "cell_type": "markdown",
   "id": "d8719d2473fac646",
   "metadata": {},
   "source": [
    "Load the dataset"
   ]
  },
  {
   "cell_type": "code",
   "execution_count": 2,
   "id": "16099dacbf331077",
   "metadata": {
    "ExecuteTime": {
     "end_time": "2025-03-03T05:23:27.894412Z",
     "start_time": "2025-03-03T05:23:27.863398Z"
    }
   },
   "outputs": [
    {
     "data": {
      "text/html": [
       "<div>\n",
       "<style scoped>\n",
       "    .dataframe tbody tr th:only-of-type {\n",
       "        vertical-align: middle;\n",
       "    }\n",
       "\n",
       "    .dataframe tbody tr th {\n",
       "        vertical-align: top;\n",
       "    }\n",
       "\n",
       "    .dataframe thead th {\n",
       "        text-align: right;\n",
       "    }\n",
       "</style>\n",
       "<table border=\"1\" class=\"dataframe\">\n",
       "  <thead>\n",
       "    <tr style=\"text-align: right;\">\n",
       "      <th></th>\n",
       "      <th>ID</th>\n",
       "      <th>Age</th>\n",
       "      <th>Gender</th>\n",
       "      <th>Occupation</th>\n",
       "      <th>Sleep Hours</th>\n",
       "      <th>Physical Activity (hrs/week)</th>\n",
       "      <th>Caffeine Intake (mg/day)</th>\n",
       "      <th>Alcohol Consumption (drinks/week)</th>\n",
       "      <th>Smoking</th>\n",
       "      <th>Family History of Anxiety</th>\n",
       "      <th>Stress Level (1-10)</th>\n",
       "      <th>Heart Rate (bpm during attack)</th>\n",
       "      <th>Breathing Rate (breaths/min)</th>\n",
       "      <th>Sweating Level (1-5)</th>\n",
       "      <th>Dizziness</th>\n",
       "      <th>Medication</th>\n",
       "      <th>Therapy Sessions (per month)</th>\n",
       "      <th>Recent Major Life Event</th>\n",
       "      <th>Diet Quality (1-10)</th>\n",
       "      <th>Severity of Anxiety Attack (1-10)</th>\n",
       "    </tr>\n",
       "  </thead>\n",
       "  <tbody>\n",
       "    <tr>\n",
       "      <th>0</th>\n",
       "      <td>1</td>\n",
       "      <td>56</td>\n",
       "      <td>Female</td>\n",
       "      <td>Other</td>\n",
       "      <td>9.6</td>\n",
       "      <td>8.3</td>\n",
       "      <td>175</td>\n",
       "      <td>6</td>\n",
       "      <td>No</td>\n",
       "      <td>No</td>\n",
       "      <td>4</td>\n",
       "      <td>145</td>\n",
       "      <td>33</td>\n",
       "      <td>3</td>\n",
       "      <td>No</td>\n",
       "      <td>No</td>\n",
       "      <td>4</td>\n",
       "      <td>Yes</td>\n",
       "      <td>9</td>\n",
       "      <td>10</td>\n",
       "    </tr>\n",
       "    <tr>\n",
       "      <th>1</th>\n",
       "      <td>2</td>\n",
       "      <td>46</td>\n",
       "      <td>Male</td>\n",
       "      <td>Teacher</td>\n",
       "      <td>6.4</td>\n",
       "      <td>7.3</td>\n",
       "      <td>97</td>\n",
       "      <td>6</td>\n",
       "      <td>No</td>\n",
       "      <td>No</td>\n",
       "      <td>3</td>\n",
       "      <td>143</td>\n",
       "      <td>18</td>\n",
       "      <td>5</td>\n",
       "      <td>Yes</td>\n",
       "      <td>No</td>\n",
       "      <td>0</td>\n",
       "      <td>No</td>\n",
       "      <td>9</td>\n",
       "      <td>8</td>\n",
       "    </tr>\n",
       "    <tr>\n",
       "      <th>2</th>\n",
       "      <td>3</td>\n",
       "      <td>32</td>\n",
       "      <td>Female</td>\n",
       "      <td>Doctor</td>\n",
       "      <td>6.9</td>\n",
       "      <td>1.0</td>\n",
       "      <td>467</td>\n",
       "      <td>14</td>\n",
       "      <td>No</td>\n",
       "      <td>No</td>\n",
       "      <td>2</td>\n",
       "      <td>60</td>\n",
       "      <td>34</td>\n",
       "      <td>1</td>\n",
       "      <td>No</td>\n",
       "      <td>No</td>\n",
       "      <td>7</td>\n",
       "      <td>Yes</td>\n",
       "      <td>10</td>\n",
       "      <td>5</td>\n",
       "    </tr>\n",
       "    <tr>\n",
       "      <th>3</th>\n",
       "      <td>4</td>\n",
       "      <td>60</td>\n",
       "      <td>Male</td>\n",
       "      <td>Doctor</td>\n",
       "      <td>9.2</td>\n",
       "      <td>3.7</td>\n",
       "      <td>471</td>\n",
       "      <td>16</td>\n",
       "      <td>No</td>\n",
       "      <td>Yes</td>\n",
       "      <td>6</td>\n",
       "      <td>94</td>\n",
       "      <td>19</td>\n",
       "      <td>1</td>\n",
       "      <td>No</td>\n",
       "      <td>Yes</td>\n",
       "      <td>4</td>\n",
       "      <td>Yes</td>\n",
       "      <td>5</td>\n",
       "      <td>8</td>\n",
       "    </tr>\n",
       "    <tr>\n",
       "      <th>4</th>\n",
       "      <td>5</td>\n",
       "      <td>25</td>\n",
       "      <td>Male</td>\n",
       "      <td>Student</td>\n",
       "      <td>9.2</td>\n",
       "      <td>2.5</td>\n",
       "      <td>364</td>\n",
       "      <td>2</td>\n",
       "      <td>No</td>\n",
       "      <td>Yes</td>\n",
       "      <td>7</td>\n",
       "      <td>152</td>\n",
       "      <td>15</td>\n",
       "      <td>4</td>\n",
       "      <td>No</td>\n",
       "      <td>Yes</td>\n",
       "      <td>0</td>\n",
       "      <td>No</td>\n",
       "      <td>1</td>\n",
       "      <td>1</td>\n",
       "    </tr>\n",
       "  </tbody>\n",
       "</table>\n",
       "</div>"
      ],
      "text/plain": [
       "   ID  Age  Gender Occupation  Sleep Hours  Physical Activity (hrs/week)  \\\n",
       "0   1   56  Female      Other          9.6                           8.3   \n",
       "1   2   46    Male    Teacher          6.4                           7.3   \n",
       "2   3   32  Female     Doctor          6.9                           1.0   \n",
       "3   4   60    Male     Doctor          9.2                           3.7   \n",
       "4   5   25    Male    Student          9.2                           2.5   \n",
       "\n",
       "   Caffeine Intake (mg/day)  Alcohol Consumption (drinks/week) Smoking  \\\n",
       "0                       175                                  6      No   \n",
       "1                        97                                  6      No   \n",
       "2                       467                                 14      No   \n",
       "3                       471                                 16      No   \n",
       "4                       364                                  2      No   \n",
       "\n",
       "  Family History of Anxiety  Stress Level (1-10)  \\\n",
       "0                        No                    4   \n",
       "1                        No                    3   \n",
       "2                        No                    2   \n",
       "3                       Yes                    6   \n",
       "4                       Yes                    7   \n",
       "\n",
       "   Heart Rate (bpm during attack)  Breathing Rate (breaths/min)  \\\n",
       "0                             145                            33   \n",
       "1                             143                            18   \n",
       "2                              60                            34   \n",
       "3                              94                            19   \n",
       "4                             152                            15   \n",
       "\n",
       "   Sweating Level (1-5) Dizziness Medication  Therapy Sessions (per month)  \\\n",
       "0                     3        No         No                             4   \n",
       "1                     5       Yes         No                             0   \n",
       "2                     1        No         No                             7   \n",
       "3                     1        No        Yes                             4   \n",
       "4                     4        No        Yes                             0   \n",
       "\n",
       "  Recent Major Life Event  Diet Quality (1-10)  \\\n",
       "0                     Yes                    9   \n",
       "1                      No                    9   \n",
       "2                     Yes                   10   \n",
       "3                     Yes                    5   \n",
       "4                      No                    1   \n",
       "\n",
       "   Severity of Anxiety Attack (1-10)  \n",
       "0                                 10  \n",
       "1                                  8  \n",
       "2                                  5  \n",
       "3                                  8  \n",
       "4                                  1  "
      ]
     },
     "execution_count": 2,
     "metadata": {},
     "output_type": "execute_result"
    }
   ],
   "source": [
    "file_path = '~/Downloads/anxiety_attack_dataset.csv'\n",
    "data = pd.read_csv(file_path)\n",
    "data.head()"
   ]
  },
  {
   "cell_type": "markdown",
   "id": "dc2c06a08865c0bc",
   "metadata": {},
   "source": [
    "Given that the \"healthy\" maximum daily caffeine intake is 400 mg, let's categorize the caffeine intake levels as low, medium, and high.\n",
    "100mg would equate to about 1 cup of coffee, 300mg would equate to about 3 cups of coffee."
   ]
  },
  {
   "cell_type": "code",
   "execution_count": 3,
   "id": "c3104713e5858c74",
   "metadata": {
    "ExecuteTime": {
     "end_time": "2025-03-03T05:23:28.002035Z",
     "start_time": "2025-03-03T05:23:27.999811Z"
    }
   },
   "outputs": [],
   "source": [
    "def categorize_caffeine(mg):\n",
    "    if mg < 100:\n",
    "        return 'Low'\n",
    "    elif mg <= 300:\n",
    "        return 'Medium'\n",
    "    else:\n",
    "        return 'High'"
   ]
  },
  {
   "cell_type": "code",
   "execution_count": 4,
   "id": "8f62ec7ea93c0481",
   "metadata": {
    "ExecuteTime": {
     "end_time": "2025-03-03T05:23:28.029550Z",
     "start_time": "2025-03-03T05:23:28.025665Z"
    }
   },
   "outputs": [],
   "source": [
    "data['Caffeine Intake Category'] = data['Caffeine Intake (mg/day)'].apply(categorize_caffeine)"
   ]
  },
  {
   "cell_type": "code",
   "execution_count": 5,
   "id": "caf9c119d8ced259",
   "metadata": {
    "ExecuteTime": {
     "end_time": "2025-03-03T05:23:28.199858Z",
     "start_time": "2025-03-03T05:23:28.065195Z"
    }
   },
   "outputs": [
    {
     "data": {
      "image/png": "[encoded data removed]",
      "text/plain": [
       "<Figure size 1000x600 with 1 Axes>"
      ]
     },
     "metadata": {},
     "output_type": "display_data"
    }
   ],
   "source": [
    "# Box Plot: Sleep Hours vs. Severity of Anxiety Attack\n",
    "plt.figure(figsize=(10, 6))\n",
    "sns.boxplot(\n",
    "    data=data,\n",
    "    x=pd.cut(data['Sleep Hours'], bins=[2, 4, 6, 8, 10], labels=['2-4', '4-6', '6-8', '8-10']),\n",
    "    y='Severity of Anxiety Attack (1-10)'\n",
    ")\n",
    "plt.title('Severity of Anxiety Attack by Sleep Hours (Grouped)')\n",
    "plt.xlabel('Sleep Hours (Grouped)')\n",
    "plt.ylabel('Severity of Anxiety Attack (1-10)')\n",
    "plt.show()"
   ]
  },
  {
   "cell_type": "markdown",
   "id": "c3aeac1e958c2347",
   "metadata": {},
   "source": [
    "The median severity of anxiety attacks remains relatively constant across all sleep groups. Severity levels for all groups show a similar spread, indicating no significant differences in variability. This suggests that sleep hours may not be a strong predictor of anxiety attack severity."
   ]
  },
  {
   "cell_type": "code",
   "execution_count": 6,
   "id": "a13de70f163b10ec",
   "metadata": {
    "ExecuteTime": {
     "end_time": "2025-03-03T05:23:28.303501Z",
     "start_time": "2025-03-03T05:23:28.205142Z"
    }
   },
   "outputs": [
    {
     "data": {
      "image/png": "[encoded data removed]",
      "text/plain": [
       "<Figure size 1000x600 with 1 Axes>"
      ]
     },
     "metadata": {},
     "output_type": "display_data"
    }
   ],
   "source": [
    "# Bar Chart: Average Anxiety Severity by Occupation\n",
    "plt.figure(figsize=(10, 6))\n",
    "avg_severity_by_occupation = data.groupby('Occupation')['Severity of Anxiety Attack (1-10)'].mean().sort_values()\n",
    "sns.barplot(x=avg_severity_by_occupation.index, y=avg_severity_by_occupation.values)\n",
    "plt.title('Average Anxiety Severity by Occupation')\n",
    "plt.xlabel('Occupation')\n",
    "plt.ylabel('Average Severity of Anxiety Attack (1-10)')\n",
    "plt.xticks(rotation=45)\n",
    "plt.show()"
   ]
  },
  {
   "cell_type": "markdown",
   "id": "fb724bb3371ca12",
   "metadata": {},
   "source": [
    "Based on this bar chart, the occupation of the individual doesn't seem to have any bearing at all on the severity of their anxiety attacks. The average severity of anxiety attacks is consistent across all occupations, indicating that occupation is not a significant factor in determining anxiety attack severity."
   ]
  },
  {
   "cell_type": "code",
   "execution_count": 7,
   "id": "3384fc47e78303c6",
   "metadata": {
    "ExecuteTime": {
     "end_time": "2025-03-03T05:23:28.400660Z",
     "start_time": "2025-03-03T05:23:28.313463Z"
    }
   },
   "outputs": [
    {
     "data": {
      "image/png": "[encoded data removed]",
      "text/plain": [
       "<Figure size 800x600 with 1 Axes>"
      ]
     },
     "metadata": {},
     "output_type": "display_data"
    }
   ],
   "source": [
    "# Box Plot: Caffeine Intake Categories vs. Anxiety Severity\n",
    "plt.figure(figsize=(8, 6))\n",
    "sns.boxplot(data=data, x='Caffeine Intake Category', y='Severity of Anxiety Attack (1-10)')\n",
    "plt.title('Caffeine Intake Categories vs. Anxiety Severity')\n",
    "plt.xlabel('Caffeine Intake Category')\n",
    "plt.ylabel('Severity of Anxiety Attack (1-10)')\n",
    "plt.show()"
   ]
  },
  {
   "cell_type": "markdown",
   "id": "276fef738707e08f",
   "metadata": {},
   "source": [
    "The median severity of anxiety attacks is consistent across all caffeine intake categories. This indicates that caffeine intake levels might not have a substantial direct effect on anxiety attack severity.The spread and distribution of severity scores are similar across low, medium, and high caffeine categories."
   ]
  },
  {
   "cell_type": "code",
   "execution_count": 8,
   "id": "33e23a04ca97de5",
   "metadata": {
    "ExecuteTime": {
     "end_time": "2025-03-03T05:23:28.563689Z",
     "start_time": "2025-03-03T05:23:28.419506Z"
    }
   },
   "outputs": [
    {
     "data": {
      "image/png": "[encoded data removed]",
      "text/plain": [
       "<Figure size 1000x800 with 2 Axes>"
      ]
     },
     "metadata": {},
     "output_type": "display_data"
    }
   ],
   "source": [
    "plt.figure(figsize=(10, 8))\n",
    "correlation_matrix = data[['Sleep Hours', 'Stress Level (1-10)', 'Physical Activity (hrs/week)', 'Caffeine Intake (mg/day)', 'Severity of Anxiety Attack (1-10)']].corr()\n",
    "sns.heatmap(correlation_matrix, annot=True, cmap='coolwarm', fmt=\".2f\", linewidths=0.5)\n",
    "plt.title('Correlation Matrix')\n",
    "plt.show()"
   ]
  },
  {
   "cell_type": "markdown",
   "id": "d68cdf7b6b4bdb14",
   "metadata": {},
   "source": [
    "None of the values shown in the correlation matrix are close to 1 or -1, indicating that there is no strong linear relationship between any of the variables. I will need to explore the relationships further to determine if there are any non-linear relationships or interactions between the variables."
   ]
  },
  {
   "cell_type": "markdown",
   "id": "133e95aad0cab9bd",
   "metadata": {},
   "source": [
    "# Milestone 2"
   ]
  },
  {
   "cell_type": "markdown",
   "id": "ae7848ecb3493404",
   "metadata": {},
   "source": [
    "Drop non-useful features"
   ]
  },
  {
   "cell_type": "code",
   "execution_count": 9,
   "id": "f34187c306af06a7",
   "metadata": {
    "ExecuteTime": {
     "end_time": "2025-03-03T05:23:28.572881Z",
     "start_time": "2025-03-03T05:23:28.569653Z"
    }
   },
   "outputs": [],
   "source": [
    "# Dropping the 'ID' column as it is a unique identifier and does not help in predictions\n",
    "data.drop(columns=['ID'], inplace=True)"
   ]
  },
  {
   "cell_type": "markdown",
   "id": "25d94f1282bf316a",
   "metadata": {},
   "source": [
    "Handle categorical variables"
   ]
  },
  {
   "cell_type": "markdown",
   "id": "517c9f2a9c4442d",
   "metadata": {},
   "source": [
    "To avoid data snooping, I'm going to split the data into train and test before any modifications."
   ]
  },
  {
   "cell_type": "code",
   "execution_count": 10,
   "id": "e2206895c6ac8340",
   "metadata": {
    "ExecuteTime": {
     "end_time": "2025-03-03T05:23:28.597626Z",
     "start_time": "2025-03-03T05:23:28.587727Z"
    }
   },
   "outputs": [],
   "source": [
    "from sklearn.model_selection import train_test_split\n",
    "\n",
    "# Define target variable\n",
    "target = 'Severity of Anxiety Attack (1-10)'\n",
    "X = data.drop(columns=[target])\n",
    "y = data[target]\n",
    "\n",
    "# Split data into training and testing sets\n",
    "X_train, X_test, y_train, y_test = train_test_split(X, y, test_size=0.2, random_state=42, stratify=y)"
   ]
  },
  {
   "cell_type": "code",
   "execution_count": 11,
   "id": "ed44166fc972c9b6",
   "metadata": {
    "ExecuteTime": {
     "end_time": "2025-03-03T05:23:28.610305Z",
     "start_time": "2025-03-03T05:23:28.602959Z"
    }
   },
   "outputs": [
    {
     "data": {
      "text/html": [
       "<div>\n",
       "<style scoped>\n",
       "    .dataframe tbody tr th:only-of-type {\n",
       "        vertical-align: middle;\n",
       "    }\n",
       "\n",
       "    .dataframe tbody tr th {\n",
       "        vertical-align: top;\n",
       "    }\n",
       "\n",
       "    .dataframe thead th {\n",
       "        text-align: right;\n",
       "    }\n",
       "</style>\n",
       "<table border=\"1\" class=\"dataframe\">\n",
       "  <thead>\n",
       "    <tr style=\"text-align: right;\">\n",
       "      <th></th>\n",
       "      <th>Age</th>\n",
       "      <th>Gender</th>\n",
       "      <th>Occupation</th>\n",
       "      <th>Sleep Hours</th>\n",
       "      <th>Physical Activity (hrs/week)</th>\n",
       "      <th>Caffeine Intake (mg/day)</th>\n",
       "      <th>Alcohol Consumption (drinks/week)</th>\n",
       "      <th>Smoking</th>\n",
       "      <th>Family History of Anxiety</th>\n",
       "      <th>Stress Level (1-10)</th>\n",
       "      <th>Heart Rate (bpm during attack)</th>\n",
       "      <th>Breathing Rate (breaths/min)</th>\n",
       "      <th>Sweating Level (1-5)</th>\n",
       "      <th>Dizziness</th>\n",
       "      <th>Medication</th>\n",
       "      <th>Therapy Sessions (per month)</th>\n",
       "      <th>Recent Major Life Event</th>\n",
       "      <th>Diet Quality (1-10)</th>\n",
       "      <th>Caffeine Intake Category</th>\n",
       "    </tr>\n",
       "  </thead>\n",
       "  <tbody>\n",
       "    <tr>\n",
       "      <th>2632</th>\n",
       "      <td>18</td>\n",
       "      <td>Female</td>\n",
       "      <td>Engineer</td>\n",
       "      <td>3.2</td>\n",
       "      <td>8.8</td>\n",
       "      <td>46</td>\n",
       "      <td>3</td>\n",
       "      <td>No</td>\n",
       "      <td>Yes</td>\n",
       "      <td>3</td>\n",
       "      <td>177</td>\n",
       "      <td>29</td>\n",
       "      <td>3</td>\n",
       "      <td>No</td>\n",
       "      <td>No</td>\n",
       "      <td>5</td>\n",
       "      <td>No</td>\n",
       "      <td>7</td>\n",
       "      <td>Low</td>\n",
       "    </tr>\n",
       "    <tr>\n",
       "      <th>5609</th>\n",
       "      <td>34</td>\n",
       "      <td>Male</td>\n",
       "      <td>Engineer</td>\n",
       "      <td>8.6</td>\n",
       "      <td>6.0</td>\n",
       "      <td>31</td>\n",
       "      <td>10</td>\n",
       "      <td>Yes</td>\n",
       "      <td>No</td>\n",
       "      <td>9</td>\n",
       "      <td>101</td>\n",
       "      <td>16</td>\n",
       "      <td>5</td>\n",
       "      <td>No</td>\n",
       "      <td>No</td>\n",
       "      <td>2</td>\n",
       "      <td>No</td>\n",
       "      <td>2</td>\n",
       "      <td>Low</td>\n",
       "    </tr>\n",
       "    <tr>\n",
       "      <th>8875</th>\n",
       "      <td>53</td>\n",
       "      <td>Male</td>\n",
       "      <td>Teacher</td>\n",
       "      <td>3.6</td>\n",
       "      <td>5.6</td>\n",
       "      <td>237</td>\n",
       "      <td>10</td>\n",
       "      <td>Yes</td>\n",
       "      <td>No</td>\n",
       "      <td>10</td>\n",
       "      <td>78</td>\n",
       "      <td>28</td>\n",
       "      <td>3</td>\n",
       "      <td>No</td>\n",
       "      <td>No</td>\n",
       "      <td>8</td>\n",
       "      <td>No</td>\n",
       "      <td>1</td>\n",
       "      <td>Medium</td>\n",
       "    </tr>\n",
       "    <tr>\n",
       "      <th>9813</th>\n",
       "      <td>53</td>\n",
       "      <td>Female</td>\n",
       "      <td>Teacher</td>\n",
       "      <td>7.3</td>\n",
       "      <td>6.1</td>\n",
       "      <td>464</td>\n",
       "      <td>17</td>\n",
       "      <td>No</td>\n",
       "      <td>Yes</td>\n",
       "      <td>1</td>\n",
       "      <td>149</td>\n",
       "      <td>26</td>\n",
       "      <td>4</td>\n",
       "      <td>No</td>\n",
       "      <td>No</td>\n",
       "      <td>8</td>\n",
       "      <td>No</td>\n",
       "      <td>3</td>\n",
       "      <td>High</td>\n",
       "    </tr>\n",
       "    <tr>\n",
       "      <th>8912</th>\n",
       "      <td>31</td>\n",
       "      <td>Female</td>\n",
       "      <td>Unemployed</td>\n",
       "      <td>9.5</td>\n",
       "      <td>6.8</td>\n",
       "      <td>38</td>\n",
       "      <td>0</td>\n",
       "      <td>No</td>\n",
       "      <td>No</td>\n",
       "      <td>1</td>\n",
       "      <td>162</td>\n",
       "      <td>26</td>\n",
       "      <td>4</td>\n",
       "      <td>No</td>\n",
       "      <td>No</td>\n",
       "      <td>8</td>\n",
       "      <td>No</td>\n",
       "      <td>5</td>\n",
       "      <td>Low</td>\n",
       "    </tr>\n",
       "  </tbody>\n",
       "</table>\n",
       "</div>"
      ],
      "text/plain": [
       "      Age  Gender  Occupation  Sleep Hours  Physical Activity (hrs/week)  \\\n",
       "2632   18  Female    Engineer          3.2                           8.8   \n",
       "5609   34    Male    Engineer          8.6                           6.0   \n",
       "8875   53    Male     Teacher          3.6                           5.6   \n",
       "9813   53  Female     Teacher          7.3                           6.1   \n",
       "8912   31  Female  Unemployed          9.5                           6.8   \n",
       "\n",
       "      Caffeine Intake (mg/day)  Alcohol Consumption (drinks/week) Smoking  \\\n",
       "2632                        46                                  3      No   \n",
       "5609                        31                                 10     Yes   \n",
       "8875                       237                                 10     Yes   \n",
       "9813                       464                                 17      No   \n",
       "8912                        38                                  0      No   \n",
       "\n",
       "     Family History of Anxiety  Stress Level (1-10)  \\\n",
       "2632                       Yes                    3   \n",
       "5609                        No                    9   \n",
       "8875                        No                   10   \n",
       "9813                       Yes                    1   \n",
       "8912                        No                    1   \n",
       "\n",
       "      Heart Rate (bpm during attack)  Breathing Rate (breaths/min)  \\\n",
       "2632                             177                            29   \n",
       "5609                             101                            16   \n",
       "8875                              78                            28   \n",
       "9813                             149                            26   \n",
       "8912                             162                            26   \n",
       "\n",
       "      Sweating Level (1-5) Dizziness Medication  Therapy Sessions (per month)  \\\n",
       "2632                     3        No         No                             5   \n",
       "5609                     5        No         No                             2   \n",
       "8875                     3        No         No                             8   \n",
       "9813                     4        No         No                             8   \n",
       "8912                     4        No         No                             8   \n",
       "\n",
       "     Recent Major Life Event  Diet Quality (1-10) Caffeine Intake Category  \n",
       "2632                      No                    7                      Low  \n",
       "5609                      No                    2                      Low  \n",
       "8875                      No                    1                   Medium  \n",
       "9813                      No                    3                     High  \n",
       "8912                      No                    5                      Low  "
      ]
     },
     "execution_count": 11,
     "metadata": {},
     "output_type": "execute_result"
    }
   ],
   "source": [
    "X_train.head()"
   ]
  },
  {
   "cell_type": "code",
   "execution_count": 12,
   "id": "32c71e2f8a9149e",
   "metadata": {
    "ExecuteTime": {
     "end_time": "2025-03-03T05:23:28.702142Z",
     "start_time": "2025-03-03T05:23:28.690014Z"
    }
   },
   "outputs": [],
   "source": [
    "# Convert categorical variables to dummy variables using one-hot encoding\n",
    "X_train = pd.get_dummies(X_train, columns=['Gender', 'Family History of Anxiety', 'Caffeine Intake Category', 'Dizziness', 'Occupation', 'Smoking', 'Medication', 'Recent Major Life Event'], drop_first=True)\n",
    "X_test = pd.get_dummies(X_test, columns=['Gender', 'Family History of Anxiety', 'Caffeine Intake Category', 'Dizziness', 'Occupation', 'Smoking', 'Medication', 'Recent Major Life Event'], drop_first=True)"
   ]
  },
  {
   "cell_type": "markdown",
   "id": "1679be87c5733ffd",
   "metadata": {},
   "source": [
    "Handle missing data"
   ]
  },
  {
   "cell_type": "code",
   "execution_count": 13,
   "id": "bbdaf3cd4e4753a4",
   "metadata": {
    "ExecuteTime": {
     "end_time": "2025-03-03T05:23:28.736188Z",
     "start_time": "2025-03-03T05:23:28.731210Z"
    }
   },
   "outputs": [
    {
     "name": "stdout",
     "output_type": "stream",
     "text": [
      "Age                                  0\n",
      "Gender                               0\n",
      "Occupation                           0\n",
      "Sleep Hours                          0\n",
      "Physical Activity (hrs/week)         0\n",
      "Caffeine Intake (mg/day)             0\n",
      "Alcohol Consumption (drinks/week)    0\n",
      "Smoking                              0\n",
      "Family History of Anxiety            0\n",
      "Stress Level (1-10)                  0\n",
      "Heart Rate (bpm during attack)       0\n",
      "Breathing Rate (breaths/min)         0\n",
      "Sweating Level (1-5)                 0\n",
      "Dizziness                            0\n",
      "Medication                           0\n",
      "Therapy Sessions (per month)         0\n",
      "Recent Major Life Event              0\n",
      "Diet Quality (1-10)                  0\n",
      "Severity of Anxiety Attack (1-10)    0\n",
      "Caffeine Intake Category             0\n",
      "dtype: int64\n"
     ]
    }
   ],
   "source": [
    "# Check for missing values in the dataset\n",
    "missing_values = data.isnull().sum()\n",
    "print(missing_values)"
   ]
  },
  {
   "cell_type": "markdown",
   "id": "d90909e19cd28fc9",
   "metadata": {},
   "source": [
    "Since there are no missing values we can skip imputation."
   ]
  },
  {
   "cell_type": "markdown",
   "id": "d832fe704abd4285",
   "metadata": {},
   "source": [
    "Feature engineering"
   ]
  },
  {
   "cell_type": "code",
   "execution_count": 14,
   "id": "64ab3d5283913ceb",
   "metadata": {
    "ExecuteTime": {
     "end_time": "2025-03-03T05:23:28.857017Z",
     "start_time": "2025-03-03T05:23:28.854231Z"
    }
   },
   "outputs": [],
   "source": [
    "# Create a new feature called 'Treatment Score' by combining therapy sessions and medication status\n",
    "X_train['Treatment Score'] = X_train['Therapy Sessions (per month)'] + X_train['Medication_Yes']\n",
    "X_test['Treatment Score'] = X_test['Therapy Sessions (per month)'] + X_test['Medication_Yes']"
   ]
  },
  {
   "cell_type": "code",
   "execution_count": 15,
   "id": "ee5b837e1e7cf94d",
   "metadata": {
    "ExecuteTime": {
     "end_time": "2025-03-03T05:23:28.891570Z",
     "start_time": "2025-03-03T05:23:28.888395Z"
    }
   },
   "outputs": [],
   "source": [
    "# Create a feature that scales the caffeine and alcohol consumption to generate a lifestyle impact score\n",
    "X_train['Lifestyle Impact Score'] = X_train['Caffeine Intake (mg/day)'] + X_train['Alcohol Consumption (drinks/week)']\n",
    "X_test['Lifestyle Impact Score'] = X_test['Caffeine Intake (mg/day)'] + X_test['Alcohol Consumption (drinks/week)']"
   ]
  },
  {
   "cell_type": "markdown",
   "id": "11a44eb6d1e1c258",
   "metadata": {},
   "source": [
    "Normalize continuous features"
   ]
  },
  {
   "cell_type": "code",
   "execution_count": 16,
   "id": "fba7cbb767e9615b",
   "metadata": {
    "ExecuteTime": {
     "end_time": "2025-03-03T05:23:28.916241Z",
     "start_time": "2025-03-03T05:23:28.914412Z"
    }
   },
   "outputs": [],
   "source": [
    "from sklearn.preprocessing import MinMaxScaler"
   ]
  },
  {
   "cell_type": "code",
   "execution_count": 17,
   "id": "f9708e41d83a4ecf",
   "metadata": {
    "ExecuteTime": {
     "end_time": "2025-03-03T05:23:28.936197Z",
     "start_time": "2025-03-03T05:23:28.929050Z"
    }
   },
   "outputs": [],
   "source": [
    "scaler = MinMaxScaler()\n",
    "continuous_features = [\n",
    "    'Age', 'Sleep Hours', 'Physical Activity (hrs/week)',\n",
    "    'Caffeine Intake (mg/day)', 'Alcohol Consumption (drinks/week)',\n",
    "    'Stress Level (1-10)', 'Heart Rate (bpm during attack)',\n",
    "    'Breathing Rate (breaths/min)', 'Sweating Level (1-5)',\n",
    "    'Therapy Sessions (per month)', 'Diet Quality (1-10)',\n",
    "]\n",
    "\n",
    "X_train[continuous_features] = scaler.fit_transform(X_train[continuous_features])\n",
    "X_test[continuous_features] = scaler.transform(X_test[continuous_features])"
   ]
  },
  {
   "cell_type": "code",
   "execution_count": 18,
   "id": "8af05f4b57326826",
   "metadata": {
    "ExecuteTime": {
     "end_time": "2025-03-03T05:23:28.959946Z",
     "start_time": "2025-03-03T05:23:28.951972Z"
    }
   },
   "outputs": [],
   "source": [
    "# Convert boolean dummy variables to integers\n",
    "X_train = X_train.astype({col: 'int' for col in X_train.select_dtypes('bool').columns})\n",
    "X_test = X_test.astype({col: 'int' for col in X_test.select_dtypes('bool').columns})"
   ]
  },
  {
   "cell_type": "code",
   "execution_count": 19,
   "id": "b614fd47ff405696",
   "metadata": {
    "ExecuteTime": {
     "end_time": "2025-03-03T05:23:28.984134Z",
     "start_time": "2025-03-03T05:23:28.976625Z"
    }
   },
   "outputs": [
    {
     "name": "stdout",
     "output_type": "stream",
     "text": [
      "Transformed training data:\n",
      "           Age  Sleep Hours  Physical Activity (hrs/week)  \\\n",
      "2632  0.000000     0.028571                          0.88   \n",
      "5609  0.347826     0.800000                          0.60   \n",
      "8875  0.760870     0.085714                          0.56   \n",
      "9813  0.760870     0.614286                          0.61   \n",
      "8912  0.282609     0.928571                          0.68   \n",
      "\n",
      "      Caffeine Intake (mg/day)  Alcohol Consumption (drinks/week)  \\\n",
      "2632                  0.092184                           0.157895   \n",
      "5609                  0.062124                           0.526316   \n",
      "8875                  0.474950                           0.526316   \n",
      "9813                  0.929860                           0.894737   \n",
      "8912                  0.076152                           0.000000   \n",
      "\n",
      "      Stress Level (1-10)  Heart Rate (bpm during attack)  \\\n",
      "2632             0.222222                        0.983193   \n",
      "5609             0.888889                        0.344538   \n",
      "8875             1.000000                        0.151261   \n",
      "9813             0.000000                        0.747899   \n",
      "8912             0.000000                        0.857143   \n",
      "\n",
      "      Breathing Rate (breaths/min)  Sweating Level (1-5)  \\\n",
      "2632                      0.629630                  0.50   \n",
      "5609                      0.148148                  1.00   \n",
      "8875                      0.592593                  0.50   \n",
      "9813                      0.518519                  0.75   \n",
      "8912                      0.518519                  0.75   \n",
      "\n",
      "      Therapy Sessions (per month)  ...  Occupation_Engineer  \\\n",
      "2632                      0.555556  ...                    1   \n",
      "5609                      0.222222  ...                    1   \n",
      "8875                      0.888889  ...                    0   \n",
      "9813                      0.888889  ...                    0   \n",
      "8912                      0.888889  ...                    0   \n",
      "\n",
      "      Occupation_Other  Occupation_Student  Occupation_Teacher  \\\n",
      "2632                 0                   0                   0   \n",
      "5609                 0                   0                   0   \n",
      "8875                 0                   0                   1   \n",
      "9813                 0                   0                   1   \n",
      "8912                 0                   0                   0   \n",
      "\n",
      "      Occupation_Unemployed  Smoking_Yes  Medication_Yes  \\\n",
      "2632                      0            0               0   \n",
      "5609                      0            1               0   \n",
      "8875                      0            1               0   \n",
      "9813                      0            0               0   \n",
      "8912                      1            0               0   \n",
      "\n",
      "      Recent Major Life Event_Yes  Treatment Score  Lifestyle Impact Score  \n",
      "2632                            0                5                      49  \n",
      "5609                            0                2                      41  \n",
      "8875                            0                8                     247  \n",
      "9813                            0                8                     481  \n",
      "8912                            0                8                      38  \n",
      "\n",
      "[5 rows x 27 columns]\n",
      "2632     7\n",
      "5609     7\n",
      "8875     5\n",
      "9813    10\n",
      "8912    10\n",
      "Name: Severity of Anxiety Attack (1-10), dtype: int64\n",
      "\n",
      "Transformed test data:\n",
      "           Age  Sleep Hours  Physical Activity (hrs/week)  \\\n",
      "5388  0.804348     0.242857                          0.25   \n",
      "6260  0.282609     1.000000                          0.25   \n",
      "5787  0.086957     0.114286                          0.26   \n",
      "1658  0.521739     0.414286                          0.29   \n",
      "2785  0.565217     0.757143                          0.74   \n",
      "\n",
      "      Caffeine Intake (mg/day)  Alcohol Consumption (drinks/week)  \\\n",
      "5388                  0.434870                           0.421053   \n",
      "6260                  0.649299                           0.052632   \n",
      "5787                  0.436874                           0.263158   \n",
      "1658                  0.653307                           0.421053   \n",
      "2785                  0.507014                           0.105263   \n",
      "\n",
      "      Stress Level (1-10)  Heart Rate (bpm during attack)  \\\n",
      "5388             0.666667                        0.000000   \n",
      "6260             0.666667                        1.000000   \n",
      "5787             0.777778                        0.159664   \n",
      "1658             0.777778                        0.487395   \n",
      "2785             0.555556                        0.126050   \n",
      "\n",
      "      Breathing Rate (breaths/min)  Sweating Level (1-5)  \\\n",
      "5388                      0.259259                  0.75   \n",
      "6260                      0.074074                  0.25   \n",
      "5787                      0.444444                  0.00   \n",
      "1658                      0.629630                  0.25   \n",
      "2785                      0.296296                  0.50   \n",
      "\n",
      "      Therapy Sessions (per month)  ...  Occupation_Engineer  \\\n",
      "5388                      0.777778  ...                    1   \n",
      "6260                      0.888889  ...                    1   \n",
      "5787                      0.777778  ...                    0   \n",
      "1658                      1.000000  ...                    1   \n",
      "2785                      0.444444  ...                    1   \n",
      "\n",
      "      Occupation_Other  Occupation_Student  Occupation_Teacher  \\\n",
      "5388                 0                   0                   0   \n",
      "6260                 0                   0                   0   \n",
      "5787                 0                   1                   0   \n",
      "1658                 0                   0                   0   \n",
      "2785                 0                   0                   0   \n",
      "\n",
      "      Occupation_Unemployed  Smoking_Yes  Medication_Yes  \\\n",
      "5388                      0            0               0   \n",
      "6260                      0            0               0   \n",
      "5787                      0            0               0   \n",
      "1658                      0            1               0   \n",
      "2785                      0            1               0   \n",
      "\n",
      "      Recent Major Life Event_Yes  Treatment Score  Lifestyle Impact Score  \n",
      "5388                            0                7                     225  \n",
      "6260                            0                8                     325  \n",
      "5787                            0                7                     223  \n",
      "1658                            1                9                     334  \n",
      "2785                            0                4                     255  \n",
      "\n",
      "[5 rows x 27 columns]\n",
      "5388     6\n",
      "6260    10\n",
      "5787     9\n",
      "1658     5\n",
      "2785     8\n",
      "Name: Severity of Anxiety Attack (1-10), dtype: int64\n"
     ]
    }
   ],
   "source": [
    "print(\"Transformed training data:\")\n",
    "print(X_train.head())\n",
    "print(y_train.head())\n",
    "print(\"\\nTransformed test data:\")\n",
    "print(X_test.head())\n",
    "print(y_test.head())"
   ]
  },
  {
   "cell_type": "markdown",
   "id": "4a0e5044f5f39987",
   "metadata": {},
   "source": [
    "# Milestone 3"
   ]
  },
  {
   "cell_type": "code",
   "execution_count": 20,
   "id": "e18a4e0a",
   "metadata": {
    "ExecuteTime": {
     "end_time": "2025-03-03T05:23:29.110384Z",
     "start_time": "2025-03-03T05:23:29.000959Z"
    }
   },
   "outputs": [],
   "source": [
    "from sklearn.linear_model import LinearRegression\n",
    "from sklearn.ensemble import RandomForestRegressor\n",
    "from xgboost import XGBRegressor"
   ]
  },
  {
   "cell_type": "code",
   "execution_count": 21,
   "id": "eb25c658",
   "metadata": {
    "ExecuteTime": {
     "end_time": "2025-03-03T05:23:35.169087Z",
     "start_time": "2025-03-03T05:23:29.126143Z"
    }
   },
   "outputs": [
    {
     "data": {
      "text/html": [
       "<style>#sk-container-id-1 {\n",
       "  /* Definition of color scheme common for light and dark mode */\n",
       "  --sklearn-color-text: #000;\n",
       "  --sklearn-color-text-muted: #666;\n",
       "  --sklearn-color-line: gray;\n",
       "  /* Definition of color scheme for unfitted estimators */\n",
       "  --sklearn-color-unfitted-level-0: #fff5e6;\n",
       "  --sklearn-color-unfitted-level-1: #f6e4d2;\n",
       "  --sklearn-color-unfitted-level-2: #ffe0b3;\n",
       "  --sklearn-color-unfitted-level-3: chocolate;\n",
       "  /* Definition of color scheme for fitted estimators */\n",
       "  --sklearn-color-fitted-level-0: #f0f8ff;\n",
       "  --sklearn-color-fitted-level-1: #d4ebff;\n",
       "  --sklearn-color-fitted-level-2: #b3dbfd;\n",
       "  --sklearn-color-fitted-level-3: cornflowerblue;\n",
       "\n",
       "  /* Specific color for light theme */\n",
       "  --sklearn-color-text-on-default-background: var(--sg-text-color, var(--theme-code-foreground, var(--jp-content-font-color1, black)));\n",
       "  --sklearn-color-background: var(--sg-background-color, var(--theme-background, var(--jp-layout-color0, white)));\n",
       "  --sklearn-color-border-box: var(--sg-text-color, var(--theme-code-foreground, var(--jp-content-font-color1, black)));\n",
       "  --sklearn-color-icon: #696969;\n",
       "\n",
       "  @media (prefers-color-scheme: dark) {\n",
       "    /* Redefinition of color scheme for dark theme */\n",
       "    --sklearn-color-text-on-default-background: var(--sg-text-color, var(--theme-code-foreground, var(--jp-content-font-color1, white)));\n",
       "    --sklearn-color-background: var(--sg-background-color, var(--theme-background, var(--jp-layout-color0, #111)));\n",
       "    --sklearn-color-border-box: var(--sg-text-color, var(--theme-code-foreground, var(--jp-content-font-color1, white)));\n",
       "    --sklearn-color-icon: #878787;\n",
       "  }\n",
       "}\n",
       "\n",
       "#sk-container-id-1 {\n",
       "  color: var(--sklearn-color-text);\n",
       "}\n",
       "\n",
       "#sk-container-id-1 pre {\n",
       "  padding: 0;\n",
       "}\n",
       "\n",
       "#sk-container-id-1 input.sk-hidden--visually {\n",
       "  border: 0;\n",
       "  clip: rect(1px 1px 1px 1px);\n",
       "  clip: rect(1px, 1px, 1px, 1px);\n",
       "  height: 1px;\n",
       "  margin: -1px;\n",
       "  overflow: hidden;\n",
       "  padding: 0;\n",
       "  position: absolute;\n",
       "  width: 1px;\n",
       "}\n",
       "\n",
       "#sk-container-id-1 div.sk-dashed-wrapped {\n",
       "  border: 1px dashed var(--sklearn-color-line);\n",
       "  margin: 0 0.4em 0.5em 0.4em;\n",
       "  box-sizing: border-box;\n",
       "  padding-bottom: 0.4em;\n",
       "  background-color: var(--sklearn-color-background);\n",
       "}\n",
       "\n",
       "#sk-container-id-1 div.sk-container {\n",
       "  /* jupyter's `normalize.less` sets `[hidden] { display: none; }`\n",
       "     but bootstrap.min.css set `[hidden] { display: none !important; }`\n",
       "     so we also need the `!important` here to be able to override the\n",
       "     default hidden behavior on the sphinx rendered scikit-learn.org.\n",
       "     See: https://github.com/scikit-learn/scikit-learn/issues/21755 */\n",
       "  display: inline-block !important;\n",
       "  position: relative;\n",
       "}\n",
       "\n",
       "#sk-container-id-1 div.sk-text-repr-fallback {\n",
       "  display: none;\n",
       "}\n",
       "\n",
       "div.sk-parallel-item,\n",
       "div.sk-serial,\n",
       "div.sk-item {\n",
       "  /* draw centered vertical line to link estimators */\n",
       "  background-image: linear-gradient(var(--sklearn-color-text-on-default-background), var(--sklearn-color-text-on-default-background));\n",
       "  background-size: 2px 100%;\n",
       "  background-repeat: no-repeat;\n",
       "  background-position: center center;\n",
       "}\n",
       "\n",
       "/* Parallel-specific style estimator block */\n",
       "\n",
       "#sk-container-id-1 div.sk-parallel-item::after {\n",
       "  content: \"\";\n",
       "  width: 100%;\n",
       "  border-bottom: 2px solid var(--sklearn-color-text-on-default-background);\n",
       "  flex-grow: 1;\n",
       "}\n",
       "\n",
       "#sk-container-id-1 div.sk-parallel {\n",
       "  display: flex;\n",
       "  align-items: stretch;\n",
       "  justify-content: center;\n",
       "  background-color: var(--sklearn-color-background);\n",
       "  position: relative;\n",
       "}\n",
       "\n",
       "#sk-container-id-1 div.sk-parallel-item {\n",
       "  display: flex;\n",
       "  flex-direction: column;\n",
       "}\n",
       "\n",
       "#sk-container-id-1 div.sk-parallel-item:first-child::after {\n",
       "  align-self: flex-end;\n",
       "  width: 50%;\n",
       "}\n",
       "\n",
       "#sk-container-id-1 div.sk-parallel-item:last-child::after {\n",
       "  align-self: flex-start;\n",
       "  width: 50%;\n",
       "}\n",
       "\n",
       "#sk-container-id-1 div.sk-parallel-item:only-child::after {\n",
       "  width: 0;\n",
       "}\n",
       "\n",
       "/* Serial-specific style estimator block */\n",
       "\n",
       "#sk-container-id-1 div.sk-serial {\n",
       "  display: flex;\n",
       "  flex-direction: column;\n",
       "  align-items: center;\n",
       "  background-color: var(--sklearn-color-background);\n",
       "  padding-right: 1em;\n",
       "  padding-left: 1em;\n",
       "}\n",
       "\n",
       "\n",
       "/* Toggleable style: style used for estimator/Pipeline/ColumnTransformer box that is\n",
       "clickable and can be expanded/collapsed.\n",
       "- Pipeline and ColumnTransformer use this feature and define the default style\n",
       "- Estimators will overwrite some part of the style using the `sk-estimator` class\n",
       "*/\n",
       "\n",
       "/* Pipeline and ColumnTransformer style (default) */\n",
       "\n",
       "#sk-container-id-1 div.sk-toggleable {\n",
       "  /* Default theme specific background. It is overwritten whether we have a\n",
       "  specific estimator or a Pipeline/ColumnTransformer */\n",
       "  background-color: var(--sklearn-color-background);\n",
       "}\n",
       "\n",
       "/* Toggleable label */\n",
       "#sk-container-id-1 label.sk-toggleable__label {\n",
       "  cursor: pointer;\n",
       "  display: flex;\n",
       "  width: 100%;\n",
       "  margin-bottom: 0;\n",
       "  padding: 0.5em;\n",
       "  box-sizing: border-box;\n",
       "  text-align: center;\n",
       "  align-items: start;\n",
       "  justify-content: space-between;\n",
       "  gap: 0.5em;\n",
       "}\n",
       "\n",
       "#sk-container-id-1 label.sk-toggleable__label .caption {\n",
       "  font-size: 0.6rem;\n",
       "  font-weight: lighter;\n",
       "  color: var(--sklearn-color-text-muted);\n",
       "}\n",
       "\n",
       "#sk-container-id-1 label.sk-toggleable__label-arrow:before {\n",
       "  /* Arrow on the left of the label */\n",
       "  content: \"▸\";\n",
       "  float: left;\n",
       "  margin-right: 0.25em;\n",
       "  color: var(--sklearn-color-icon);\n",
       "}\n",
       "\n",
       "#sk-container-id-1 label.sk-toggleable__label-arrow:hover:before {\n",
       "  color: var(--sklearn-color-text);\n",
       "}\n",
       "\n",
       "/* Toggleable content - dropdown */\n",
       "\n",
       "#sk-container-id-1 div.sk-toggleable__content {\n",
       "  max-height: 0;\n",
       "  max-width: 0;\n",
       "  overflow: hidden;\n",
       "  text-align: left;\n",
       "  /* unfitted */\n",
       "  background-color: var(--sklearn-color-unfitted-level-0);\n",
       "}\n",
       "\n",
       "#sk-container-id-1 div.sk-toggleable__content.fitted {\n",
       "  /* fitted */\n",
       "  background-color: var(--sklearn-color-fitted-level-0);\n",
       "}\n",
       "\n",
       "#sk-container-id-1 div.sk-toggleable__content pre {\n",
       "  margin: 0.2em;\n",
       "  border-radius: 0.25em;\n",
       "  color: var(--sklearn-color-text);\n",
       "  /* unfitted */\n",
       "  background-color: var(--sklearn-color-unfitted-level-0);\n",
       "}\n",
       "\n",
       "#sk-container-id-1 div.sk-toggleable__content.fitted pre {\n",
       "  /* unfitted */\n",
       "  background-color: var(--sklearn-color-fitted-level-0);\n",
       "}\n",
       "\n",
       "#sk-container-id-1 input.sk-toggleable__control:checked~div.sk-toggleable__content {\n",
       "  /* Expand drop-down */\n",
       "  max-height: 200px;\n",
       "  max-width: 100%;\n",
       "  overflow: auto;\n",
       "}\n",
       "\n",
       "#sk-container-id-1 input.sk-toggleable__control:checked~label.sk-toggleable__label-arrow:before {\n",
       "  content: \"▾\";\n",
       "}\n",
       "\n",
       "/* Pipeline/ColumnTransformer-specific style */\n",
       "\n",
       "#sk-container-id-1 div.sk-label input.sk-toggleable__control:checked~label.sk-toggleable__label {\n",
       "  color: var(--sklearn-color-text);\n",
       "  background-color: var(--sklearn-color-unfitted-level-2);\n",
       "}\n",
       "\n",
       "#sk-container-id-1 div.sk-label.fitted input.sk-toggleable__control:checked~label.sk-toggleable__label {\n",
       "  background-color: var(--sklearn-color-fitted-level-2);\n",
       "}\n",
       "\n",
       "/* Estimator-specific style */\n",
       "\n",
       "/* Colorize estimator box */\n",
       "#sk-container-id-1 div.sk-estimator input.sk-toggleable__control:checked~label.sk-toggleable__label {\n",
       "  /* unfitted */\n",
       "  background-color: var(--sklearn-color-unfitted-level-2);\n",
       "}\n",
       "\n",
       "#sk-container-id-1 div.sk-estimator.fitted input.sk-toggleable__control:checked~label.sk-toggleable__label {\n",
       "  /* fitted */\n",
       "  background-color: var(--sklearn-color-fitted-level-2);\n",
       "}\n",
       "\n",
       "#sk-container-id-1 div.sk-label label.sk-toggleable__label,\n",
       "#sk-container-id-1 div.sk-label label {\n",
       "  /* The background is the default theme color */\n",
       "  color: var(--sklearn-color-text-on-default-background);\n",
       "}\n",
       "\n",
       "/* On hover, darken the color of the background */\n",
       "#sk-container-id-1 div.sk-label:hover label.sk-toggleable__label {\n",
       "  color: var(--sklearn-color-text);\n",
       "  background-color: var(--sklearn-color-unfitted-level-2);\n",
       "}\n",
       "\n",
       "/* Label box, darken color on hover, fitted */\n",
       "#sk-container-id-1 div.sk-label.fitted:hover label.sk-toggleable__label.fitted {\n",
       "  color: var(--sklearn-color-text);\n",
       "  background-color: var(--sklearn-color-fitted-level-2);\n",
       "}\n",
       "\n",
       "/* Estimator label */\n",
       "\n",
       "#sk-container-id-1 div.sk-label label {\n",
       "  font-family: monospace;\n",
       "  font-weight: bold;\n",
       "  display: inline-block;\n",
       "  line-height: 1.2em;\n",
       "}\n",
       "\n",
       "#sk-container-id-1 div.sk-label-container {\n",
       "  text-align: center;\n",
       "}\n",
       "\n",
       "/* Estimator-specific */\n",
       "#sk-container-id-1 div.sk-estimator {\n",
       "  font-family: monospace;\n",
       "  border: 1px dotted var(--sklearn-color-border-box);\n",
       "  border-radius: 0.25em;\n",
       "  box-sizing: border-box;\n",
       "  margin-bottom: 0.5em;\n",
       "  /* unfitted */\n",
       "  background-color: var(--sklearn-color-unfitted-level-0);\n",
       "}\n",
       "\n",
       "#sk-container-id-1 div.sk-estimator.fitted {\n",
       "  /* fitted */\n",
       "  background-color: var(--sklearn-color-fitted-level-0);\n",
       "}\n",
       "\n",
       "/* on hover */\n",
       "#sk-container-id-1 div.sk-estimator:hover {\n",
       "  /* unfitted */\n",
       "  background-color: var(--sklearn-color-unfitted-level-2);\n",
       "}\n",
       "\n",
       "#sk-container-id-1 div.sk-estimator.fitted:hover {\n",
       "  /* fitted */\n",
       "  background-color: var(--sklearn-color-fitted-level-2);\n",
       "}\n",
       "\n",
       "/* Specification for estimator info (e.g. \"i\" and \"?\") */\n",
       "\n",
       "/* Common style for \"i\" and \"?\" */\n",
       "\n",
       ".sk-estimator-doc-link,\n",
       "a:link.sk-estimator-doc-link,\n",
       "a:visited.sk-estimator-doc-link {\n",
       "  float: right;\n",
       "  font-size: smaller;\n",
       "  line-height: 1em;\n",
       "  font-family: monospace;\n",
       "  background-color: var(--sklearn-color-background);\n",
       "  border-radius: 1em;\n",
       "  height: 1em;\n",
       "  width: 1em;\n",
       "  text-decoration: none !important;\n",
       "  margin-left: 0.5em;\n",
       "  text-align: center;\n",
       "  /* unfitted */\n",
       "  border: var(--sklearn-color-unfitted-level-1) 1pt solid;\n",
       "  color: var(--sklearn-color-unfitted-level-1);\n",
       "}\n",
       "\n",
       ".sk-estimator-doc-link.fitted,\n",
       "a:link.sk-estimator-doc-link.fitted,\n",
       "a:visited.sk-estimator-doc-link.fitted {\n",
       "  /* fitted */\n",
       "  border: var(--sklearn-color-fitted-level-1) 1pt solid;\n",
       "  color: var(--sklearn-color-fitted-level-1);\n",
       "}\n",
       "\n",
       "/* On hover */\n",
       "div.sk-estimator:hover .sk-estimator-doc-link:hover,\n",
       ".sk-estimator-doc-link:hover,\n",
       "div.sk-label-container:hover .sk-estimator-doc-link:hover,\n",
       ".sk-estimator-doc-link:hover {\n",
       "  /* unfitted */\n",
       "  background-color: var(--sklearn-color-unfitted-level-3);\n",
       "  color: var(--sklearn-color-background);\n",
       "  text-decoration: none;\n",
       "}\n",
       "\n",
       "div.sk-estimator.fitted:hover .sk-estimator-doc-link.fitted:hover,\n",
       ".sk-estimator-doc-link.fitted:hover,\n",
       "div.sk-label-container:hover .sk-estimator-doc-link.fitted:hover,\n",
       ".sk-estimator-doc-link.fitted:hover {\n",
       "  /* fitted */\n",
       "  background-color: var(--sklearn-color-fitted-level-3);\n",
       "  color: var(--sklearn-color-background);\n",
       "  text-decoration: none;\n",
       "}\n",
       "\n",
       "/* Span, style for the box shown on hovering the info icon */\n",
       ".sk-estimator-doc-link span {\n",
       "  display: none;\n",
       "  z-index: 9999;\n",
       "  position: relative;\n",
       "  font-weight: normal;\n",
       "  right: .2ex;\n",
       "  padding: .5ex;\n",
       "  margin: .5ex;\n",
       "  width: min-content;\n",
       "  min-width: 20ex;\n",
       "  max-width: 50ex;\n",
       "  color: var(--sklearn-color-text);\n",
       "  box-shadow: 2pt 2pt 4pt #999;\n",
       "  /* unfitted */\n",
       "  background: var(--sklearn-color-unfitted-level-0);\n",
       "  border: .5pt solid var(--sklearn-color-unfitted-level-3);\n",
       "}\n",
       "\n",
       ".sk-estimator-doc-link.fitted span {\n",
       "  /* fitted */\n",
       "  background: var(--sklearn-color-fitted-level-0);\n",
       "  border: var(--sklearn-color-fitted-level-3);\n",
       "}\n",
       "\n",
       ".sk-estimator-doc-link:hover span {\n",
       "  display: block;\n",
       "}\n",
       "\n",
       "/* \"?\"-specific style due to the `<a>` HTML tag */\n",
       "\n",
       "#sk-container-id-1 a.estimator_doc_link {\n",
       "  float: right;\n",
       "  font-size: 1rem;\n",
       "  line-height: 1em;\n",
       "  font-family: monospace;\n",
       "  background-color: var(--sklearn-color-background);\n",
       "  border-radius: 1rem;\n",
       "  height: 1rem;\n",
       "  width: 1rem;\n",
       "  text-decoration: none;\n",
       "  /* unfitted */\n",
       "  color: var(--sklearn-color-unfitted-level-1);\n",
       "  border: var(--sklearn-color-unfitted-level-1) 1pt solid;\n",
       "}\n",
       "\n",
       "#sk-container-id-1 a.estimator_doc_link.fitted {\n",
       "  /* fitted */\n",
       "  border: var(--sklearn-color-fitted-level-1) 1pt solid;\n",
       "  color: var(--sklearn-color-fitted-level-1);\n",
       "}\n",
       "\n",
       "/* On hover */\n",
       "#sk-container-id-1 a.estimator_doc_link:hover {\n",
       "  /* unfitted */\n",
       "  background-color: var(--sklearn-color-unfitted-level-3);\n",
       "  color: var(--sklearn-color-background);\n",
       "  text-decoration: none;\n",
       "}\n",
       "\n",
       "#sk-container-id-1 a.estimator_doc_link.fitted:hover {\n",
       "  /* fitted */\n",
       "  background-color: var(--sklearn-color-fitted-level-3);\n",
       "}\n",
       "</style><div id=\"sk-container-id-1\" class=\"sk-top-container\"><div class=\"sk-text-repr-fallback\"><pre>XGBRegressor(base_score=None, booster=None, callbacks=None,\n",
       "             colsample_bylevel=None, colsample_bynode=None,\n",
       "             colsample_bytree=None, device=None, early_stopping_rounds=None,\n",
       "             enable_categorical=False, eval_metric=None, feature_types=None,\n",
       "             gamma=None, grow_policy=None, importance_type=None,\n",
       "             interaction_constraints=None, learning_rate=None, max_bin=None,\n",
       "             max_cat_threshold=None, max_cat_to_onehot=None,\n",
       "             max_delta_step=None, max_depth=None, max_leaves=None,\n",
       "             min_child_weight=None, missing=nan, monotone_constraints=None,\n",
       "             multi_strategy=None, n_estimators=None, n_jobs=None,\n",
       "             num_parallel_tree=None, random_state=None, ...)</pre><b>In a Jupyter environment, please rerun this cell to show the HTML representation or trust the notebook. <br />On GitHub, the HTML representation is unable to render, please try loading this page with nbviewer.org.</b></div><div class=\"sk-container\" hidden><div class=\"sk-item\"><div class=\"sk-estimator fitted sk-toggleable\"><input class=\"sk-toggleable__control sk-hidden--visually\" id=\"sk-estimator-id-1\" type=\"checkbox\" checked><label for=\"sk-estimator-id-1\" class=\"sk-toggleable__label fitted sk-toggleable__label-arrow\"><div><div>XGBRegressor</div></div><div><span class=\"sk-estimator-doc-link fitted\">i<span>Fitted</span></span></div></label><div class=\"sk-toggleable__content fitted\"><pre>XGBRegressor(base_score=None, booster=None, callbacks=None,\n",
       "             colsample_bylevel=None, colsample_bynode=None,\n",
       "             colsample_bytree=None, device=None, early_stopping_rounds=None,\n",
       "             enable_categorical=False, eval_metric=None, feature_types=None,\n",
       "             gamma=None, grow_policy=None, importance_type=None,\n",
       "             interaction_constraints=None, learning_rate=None, max_bin=None,\n",
       "             max_cat_threshold=None, max_cat_to_onehot=None,\n",
       "             max_delta_step=None, max_depth=None, max_leaves=None,\n",
       "             min_child_weight=None, missing=nan, monotone_constraints=None,\n",
       "             multi_strategy=None, n_estimators=None, n_jobs=None,\n",
       "             num_parallel_tree=None, random_state=None, ...)</pre></div> </div></div></div></div>"
      ],
      "text/plain": [
       "XGBRegressor(base_score=None, booster=None, callbacks=None,\n",
       "             colsample_bylevel=None, colsample_bynode=None,\n",
       "             colsample_bytree=None, device=None, early_stopping_rounds=None,\n",
       "             enable_categorical=False, eval_metric=None, feature_types=None,\n",
       "             gamma=None, grow_policy=None, importance_type=None,\n",
       "             interaction_constraints=None, learning_rate=None, max_bin=None,\n",
       "             max_cat_threshold=None, max_cat_to_onehot=None,\n",
       "             max_delta_step=None, max_depth=None, max_leaves=None,\n",
       "             min_child_weight=None, missing=nan, monotone_constraints=None,\n",
       "             multi_strategy=None, n_estimators=None, n_jobs=None,\n",
       "             num_parallel_tree=None, random_state=None, ...)"
      ]
     },
     "execution_count": 21,
     "metadata": {},
     "output_type": "execute_result"
    }
   ],
   "source": [
    "# Train Linear Regression\n",
    "lin_reg = LinearRegression()\n",
    "lin_reg.fit(X_train, y_train)\n",
    "\n",
    "# Train Random Forest\n",
    "rf = RandomForestRegressor()\n",
    "rf.fit(X_train, y_train)\n",
    "\n",
    "# Train XGBoost\n",
    "xgb = XGBRegressor(objective='reg:squarederror')\n",
    "xgb.fit(X_train, y_train)"
   ]
  },
  {
   "cell_type": "code",
   "execution_count": 22,
   "id": "2bf0e50c",
   "metadata": {
    "ExecuteTime": {
     "end_time": "2025-03-03T05:23:35.248813Z",
     "start_time": "2025-03-03T05:23:35.186500Z"
    }
   },
   "outputs": [
    {
     "name": "stdout",
     "output_type": "stream",
     "text": [
      "Linear Regression - MAE: 2.4808, MSE: 8.1954, R²: -0.0028\n",
      "Random Forest - MAE: 2.4819, MSE: 8.3001, R²: -0.0156\n",
      "XGBoost - MAE: 2.5874, MSE: 9.3672, R²: -0.1462\n"
     ]
    }
   ],
   "source": [
    "from sklearn.metrics import mean_absolute_error, mean_squared_error, r2_score\n",
    "\n",
    "# Dictionary of regression models\n",
    "models = {'Linear Regression': lin_reg, 'Random Forest': rf, 'XGBoost': xgb}\n",
    "\n",
    "# Evaluate each model\n",
    "for name, model in models.items():\n",
    "    y_pred = model.predict(X_test)\n",
    "\n",
    "    mae = mean_absolute_error(y_test, y_pred)\n",
    "    mse = mean_squared_error(y_test, y_pred)\n",
    "    r2 = r2_score(y_test, y_pred)\n",
    "\n",
    "    print(f'{name} - MAE: {mae:.4f}, MSE: {mse:.4f}, R²: {r2:.4f}')\n"
   ]
  },
  {
   "cell_type": "code",
   "execution_count": 23,
   "id": "97c3177540dadde0",
   "metadata": {
    "ExecuteTime": {
     "end_time": "2025-03-03T05:23:35.421427Z",
     "start_time": "2025-03-03T05:23:35.267324Z"
    }
   },
   "outputs": [
    {
     "data": {
      "image/png": "[encoded data removed]",
      "text/plain": [
       "<Figure size 1000x600 with 1 Axes>"
      ]
     },
     "metadata": {},
     "output_type": "display_data"
    }
   ],
   "source": [
    "import matplotlib.pyplot as plt\n",
    "import numpy as np\n",
    "\n",
    "# Get feature importance from Random Forest\n",
    "feature_importance = rf.feature_importances_\n",
    "feature_names = X_train.columns\n",
    "\n",
    "# Sort and plot\n",
    "sorted_idx = np.argsort(feature_importance)\n",
    "plt.figure(figsize=(10, 6))\n",
    "plt.barh(range(len(sorted_idx)), feature_importance[sorted_idx])\n",
    "plt.yticks(range(len(sorted_idx)), np.array(feature_names)[sorted_idx])\n",
    "plt.xlabel(\"Feature Importance\")\n",
    "plt.title(\"Feature Importance in Random Forest\")\n",
    "plt.show()\n"
   ]
  },
  {
   "cell_type": "code",
   "execution_count": 24,
   "id": "c196fbf60d5123d6",
   "metadata": {
    "ExecuteTime": {
     "end_time": "2025-03-03T05:23:36.439625Z",
     "start_time": "2025-03-03T05:23:35.438635Z"
    }
   },
   "outputs": [
    {
     "name": "stdout",
     "output_type": "stream",
     "text": [
      "Random Forest (Feature Selected) - MAE: 2.6888, R²: -0.2658\n"
     ]
    }
   ],
   "source": [
    "from sklearn.feature_selection import SelectKBest, f_regression\n",
    "\n",
    "selector = SelectKBest(score_func=f_regression, k=5)  # Keep top 5 features\n",
    "X_train_selected = selector.fit_transform(X_train, y_train)\n",
    "X_test_selected = selector.transform(X_test)\n",
    "\n",
    "# Retrain the best model on reduced features\n",
    "rf_selected = RandomForestRegressor(random_state=42)\n",
    "rf_selected.fit(X_train_selected, y_train)\n",
    "y_pred_selected = rf_selected.predict(X_test_selected)\n",
    "\n",
    "mae = mean_absolute_error(y_test, y_pred_selected)\n",
    "r2 = r2_score(y_test, y_pred_selected)\n",
    "print(f\"Random Forest (Feature Selected) - MAE: {mae:.4f}, R²: {r2:.4f}\")"
   ]
  },
  {
   "cell_type": "markdown",
   "id": "a2f153f06b588456",
   "metadata": {},
   "source": [
    "I tested multiple regression models including Linear Regression, Random Forest, and XGBoost to try and predict the Severity of Anxiety Attack (1-10). Mean Absolute Error (MAE), Mean Squared Error (MSE), and R² revealed that none of the models performed well, with negative R² values indicating that the models failed to explain the variance in severity scores better than simply predicting the mean. Feature selection decreased performance showing that removing them reduced overall model accuracy. These findings suggest that current features may not have enough predictive power to accurately determine severity. If severity is inherently subjective, reframing the problem like predicting severity categories rather than precise scores."
   ]
  },
  {
   "cell_type": "markdown",
   "id": "835f16d4",
   "metadata": {},
   "source": [
    "## Additional Analysis and Model Improvements"
   ]
  },
  {
   "cell_type": "markdown",
   "id": "59f6f29c",
   "metadata": {},
   "source": [
    "The feedback for milestone 3 was that the results were worse than expected (worse than random). This might be due to class imbalance or weak feature correlations."
   ]
  },
  {
   "cell_type": "markdown",
   "id": "40b3126118ca4733",
   "metadata": {},
   "source": [
    "## Check target variable distribution"
   ]
  },
  {
   "cell_type": "code",
   "execution_count": 25,
   "id": "d401f59a",
   "metadata": {
    "ExecuteTime": {
     "end_time": "2025-03-03T05:23:36.629600Z",
     "start_time": "2025-03-03T05:23:36.458761Z"
    }
   },
   "outputs": [
    {
     "data": {
      "image/png": "[encoded data removed]",
      "text/plain": [
       "<Figure size 800x500 with 1 Axes>"
      ]
     },
     "metadata": {},
     "output_type": "display_data"
    }
   ],
   "source": [
    "plt.figure(figsize=(8, 5))\n",
    "sns.histplot(data[\"Severity of Anxiety Attack (1-10)\"], bins=10, kde=True)\n",
    "plt.title(\"Distribution of Anxiety Attack Severity\")\n",
    "plt.xlabel(\"Severity Level\")\n",
    "plt.ylabel(\"Count\")\n",
    "plt.show()\n"
   ]
  },
  {
   "cell_type": "markdown",
   "id": "3f98a4067c0a2222",
   "metadata": {},
   "source": [
    "There doesn't appear to be a class imbalance"
   ]
  },
  {
   "cell_type": "markdown",
   "id": "027b9d60",
   "metadata": {},
   "source": [
    "### Handle Missing Categorical Values and Grouping Occupations\n",
    "- Missing categorical values were replaced with 'Unknown'.\n",
    "- Occupation categories were grouped into broader classes to avoid over-sparsity in encoding."
   ]
  },
  {
   "cell_type": "code",
   "execution_count": 26,
   "id": "e68b2b96",
   "metadata": {
    "ExecuteTime": {
     "end_time": "2025-03-03T05:23:36.710460Z",
     "start_time": "2025-03-03T05:23:36.678344Z"
    }
   },
   "outputs": [
    {
     "data": {
      "text/html": [
       "<div>\n",
       "<style scoped>\n",
       "    .dataframe tbody tr th:only-of-type {\n",
       "        vertical-align: middle;\n",
       "    }\n",
       "\n",
       "    .dataframe tbody tr th {\n",
       "        vertical-align: top;\n",
       "    }\n",
       "\n",
       "    .dataframe thead th {\n",
       "        text-align: right;\n",
       "    }\n",
       "</style>\n",
       "<table border=\"1\" class=\"dataframe\">\n",
       "  <thead>\n",
       "    <tr style=\"text-align: right;\">\n",
       "      <th></th>\n",
       "      <th>Age</th>\n",
       "      <th>Gender</th>\n",
       "      <th>Occupation</th>\n",
       "      <th>Sleep Hours</th>\n",
       "      <th>Physical Activity (hrs/week)</th>\n",
       "      <th>Caffeine Intake (mg/day)</th>\n",
       "      <th>Alcohol Consumption (drinks/week)</th>\n",
       "      <th>Smoking</th>\n",
       "      <th>Family History of Anxiety</th>\n",
       "      <th>Stress Level (1-10)</th>\n",
       "      <th>...</th>\n",
       "      <th>Breathing Rate (breaths/min)</th>\n",
       "      <th>Sweating Level (1-5)</th>\n",
       "      <th>Dizziness</th>\n",
       "      <th>Medication</th>\n",
       "      <th>Therapy Sessions (per month)</th>\n",
       "      <th>Recent Major Life Event</th>\n",
       "      <th>Diet Quality (1-10)</th>\n",
       "      <th>Severity of Anxiety Attack (1-10)</th>\n",
       "      <th>Caffeine Intake Category</th>\n",
       "      <th>Occupation Grouped</th>\n",
       "    </tr>\n",
       "  </thead>\n",
       "  <tbody>\n",
       "    <tr>\n",
       "      <th>0</th>\n",
       "      <td>56</td>\n",
       "      <td>Female</td>\n",
       "      <td>Other</td>\n",
       "      <td>9.6</td>\n",
       "      <td>8.3</td>\n",
       "      <td>175</td>\n",
       "      <td>6</td>\n",
       "      <td>No</td>\n",
       "      <td>No</td>\n",
       "      <td>4</td>\n",
       "      <td>...</td>\n",
       "      <td>33</td>\n",
       "      <td>3</td>\n",
       "      <td>No</td>\n",
       "      <td>No</td>\n",
       "      <td>4</td>\n",
       "      <td>Yes</td>\n",
       "      <td>9</td>\n",
       "      <td>10</td>\n",
       "      <td>Medium</td>\n",
       "      <td>Other</td>\n",
       "    </tr>\n",
       "    <tr>\n",
       "      <th>1</th>\n",
       "      <td>46</td>\n",
       "      <td>Male</td>\n",
       "      <td>Teacher</td>\n",
       "      <td>6.4</td>\n",
       "      <td>7.3</td>\n",
       "      <td>97</td>\n",
       "      <td>6</td>\n",
       "      <td>No</td>\n",
       "      <td>No</td>\n",
       "      <td>3</td>\n",
       "      <td>...</td>\n",
       "      <td>18</td>\n",
       "      <td>5</td>\n",
       "      <td>Yes</td>\n",
       "      <td>No</td>\n",
       "      <td>0</td>\n",
       "      <td>No</td>\n",
       "      <td>9</td>\n",
       "      <td>8</td>\n",
       "      <td>Low</td>\n",
       "      <td>Education</td>\n",
       "    </tr>\n",
       "    <tr>\n",
       "      <th>2</th>\n",
       "      <td>32</td>\n",
       "      <td>Female</td>\n",
       "      <td>Doctor</td>\n",
       "      <td>6.9</td>\n",
       "      <td>1.0</td>\n",
       "      <td>467</td>\n",
       "      <td>14</td>\n",
       "      <td>No</td>\n",
       "      <td>No</td>\n",
       "      <td>2</td>\n",
       "      <td>...</td>\n",
       "      <td>34</td>\n",
       "      <td>1</td>\n",
       "      <td>No</td>\n",
       "      <td>No</td>\n",
       "      <td>7</td>\n",
       "      <td>Yes</td>\n",
       "      <td>10</td>\n",
       "      <td>5</td>\n",
       "      <td>High</td>\n",
       "      <td>Healthcare</td>\n",
       "    </tr>\n",
       "    <tr>\n",
       "      <th>3</th>\n",
       "      <td>60</td>\n",
       "      <td>Male</td>\n",
       "      <td>Doctor</td>\n",
       "      <td>9.2</td>\n",
       "      <td>3.7</td>\n",
       "      <td>471</td>\n",
       "      <td>16</td>\n",
       "      <td>No</td>\n",
       "      <td>Yes</td>\n",
       "      <td>6</td>\n",
       "      <td>...</td>\n",
       "      <td>19</td>\n",
       "      <td>1</td>\n",
       "      <td>No</td>\n",
       "      <td>Yes</td>\n",
       "      <td>4</td>\n",
       "      <td>Yes</td>\n",
       "      <td>5</td>\n",
       "      <td>8</td>\n",
       "      <td>High</td>\n",
       "      <td>Healthcare</td>\n",
       "    </tr>\n",
       "    <tr>\n",
       "      <th>4</th>\n",
       "      <td>25</td>\n",
       "      <td>Male</td>\n",
       "      <td>Student</td>\n",
       "      <td>9.2</td>\n",
       "      <td>2.5</td>\n",
       "      <td>364</td>\n",
       "      <td>2</td>\n",
       "      <td>No</td>\n",
       "      <td>Yes</td>\n",
       "      <td>7</td>\n",
       "      <td>...</td>\n",
       "      <td>15</td>\n",
       "      <td>4</td>\n",
       "      <td>No</td>\n",
       "      <td>Yes</td>\n",
       "      <td>0</td>\n",
       "      <td>No</td>\n",
       "      <td>1</td>\n",
       "      <td>1</td>\n",
       "      <td>High</td>\n",
       "      <td>Student</td>\n",
       "    </tr>\n",
       "  </tbody>\n",
       "</table>\n",
       "<p>5 rows × 21 columns</p>\n",
       "</div>"
      ],
      "text/plain": [
       "   Age  Gender Occupation  Sleep Hours  Physical Activity (hrs/week)  \\\n",
       "0   56  Female      Other          9.6                           8.3   \n",
       "1   46    Male    Teacher          6.4                           7.3   \n",
       "2   32  Female     Doctor          6.9                           1.0   \n",
       "3   60    Male     Doctor          9.2                           3.7   \n",
       "4   25    Male    Student          9.2                           2.5   \n",
       "\n",
       "   Caffeine Intake (mg/day)  Alcohol Consumption (drinks/week) Smoking  \\\n",
       "0                       175                                  6      No   \n",
       "1                        97                                  6      No   \n",
       "2                       467                                 14      No   \n",
       "3                       471                                 16      No   \n",
       "4                       364                                  2      No   \n",
       "\n",
       "  Family History of Anxiety  Stress Level (1-10)  ...  \\\n",
       "0                        No                    4  ...   \n",
       "1                        No                    3  ...   \n",
       "2                        No                    2  ...   \n",
       "3                       Yes                    6  ...   \n",
       "4                       Yes                    7  ...   \n",
       "\n",
       "   Breathing Rate (breaths/min)  Sweating Level (1-5)  Dizziness Medication  \\\n",
       "0                            33                     3         No         No   \n",
       "1                            18                     5        Yes         No   \n",
       "2                            34                     1         No         No   \n",
       "3                            19                     1         No        Yes   \n",
       "4                            15                     4         No        Yes   \n",
       "\n",
       "  Therapy Sessions (per month)  Recent Major Life Event Diet Quality (1-10)  \\\n",
       "0                            4                      Yes                   9   \n",
       "1                            0                       No                   9   \n",
       "2                            7                      Yes                  10   \n",
       "3                            4                      Yes                   5   \n",
       "4                            0                       No                   1   \n",
       "\n",
       "   Severity of Anxiety Attack (1-10)  Caffeine Intake Category  \\\n",
       "0                                 10                    Medium   \n",
       "1                                  8                       Low   \n",
       "2                                  5                      High   \n",
       "3                                  8                      High   \n",
       "4                                  1                      High   \n",
       "\n",
       "  Occupation Grouped  \n",
       "0              Other  \n",
       "1          Education  \n",
       "2         Healthcare  \n",
       "3         Healthcare  \n",
       "4            Student  \n",
       "\n",
       "[5 rows x 21 columns]"
      ]
     },
     "execution_count": 26,
     "metadata": {},
     "output_type": "execute_result"
    }
   ],
   "source": [
    "# Fill missing categorical values\n",
    "data.fillna({\"Smoking\": \"Unknown\", \n",
    "             \"Family History of Anxiety\": \"Unknown\", \n",
    "             \"Dizziness\": \"Unknown\", \n",
    "             \"Medication\": \"Unknown\", \n",
    "             \"Recent Major Life Event\": \"Unknown\"}, inplace=True)\n",
    "\n",
    "# Group occupations into broader categories\n",
    "occupation_mapping = {\n",
    "    \"Doctor\": \"Healthcare\",\n",
    "    \"Nurse\": \"Healthcare\",\n",
    "    \"Therapist\": \"Healthcare\",\n",
    "    \"Teacher\": \"Education\",\n",
    "    \"Professor\": \"Education\",\n",
    "    \"Engineer\": \"Technical\",\n",
    "    \"Software Developer\": \"Technical\",\n",
    "    \"Construction Worker\": \"Manual Labor\",\n",
    "    \"Mechanic\": \"Manual Labor\",\n",
    "    \"Artist\": \"Creative\",\n",
    "    \"Musician\": \"Creative\",\n",
    "    \"Student\": \"Student\",\n",
    "    \"Unemployed\": \"Unemployed\",\n",
    "    \"Other\": \"Other\"\n",
    "}\n",
    "\n",
    "data[\"Occupation Grouped\"] = data[\"Occupation\"].map(lambda x: occupation_mapping.get(x, \"Other\"))\n",
    "\n",
    "data.head()"
   ]
  },
  {
   "cell_type": "markdown",
   "id": "98b3f19a",
   "metadata": {},
   "source": [
    "### Feature Selection and Model Improvement\n",
    "I'm going to try to improve model performance by binning the target variable into three categories: Low, Medium, and High."
   ]
  },
  {
   "cell_type": "code",
   "execution_count": 27,
   "id": "6f38fd7c",
   "metadata": {
    "ExecuteTime": {
     "end_time": "2025-03-03T05:23:37.939262Z",
     "start_time": "2025-03-03T05:23:36.769573Z"
    }
   },
   "outputs": [
    {
     "name": "stdout",
     "output_type": "stream",
     "text": [
      "Model Accuracy: 0.36666666666666664\n",
      "Classification Report:\n",
      "               precision    recall  f1-score   support\n",
      "\n",
      "           0       0.40      0.69      0.51       947\n",
      "           1       0.32      0.19      0.23       740\n",
      "           2       0.27      0.12      0.17       713\n",
      "\n",
      "    accuracy                           0.37      2400\n",
      "   macro avg       0.33      0.33      0.30      2400\n",
      "weighted avg       0.34      0.37      0.32      2400\n",
      "\n"
     ]
    }
   ],
   "source": [
    "from sklearn.model_selection import train_test_split\n",
    "from sklearn.preprocessing import StandardScaler, OneHotEncoder\n",
    "from sklearn.pipeline import Pipeline\n",
    "from sklearn.compose import ColumnTransformer\n",
    "from sklearn.ensemble import RandomForestClassifier\n",
    "from sklearn.metrics import accuracy_score, classification_report\n",
    "\n",
    "# Define features and target variable\n",
    "categorical_features = [\"Gender\", \"Smoking\", \"Family History of Anxiety\", \"Dizziness\", \n",
    "                        \"Medication\", \"Recent Major Life Event\", \"Occupation Grouped\"]\n",
    "numerical_features = [\"Sleep Hours\", \"Physical Activity (hrs/week)\", \"Caffeine Intake (mg/day)\", \n",
    "                      \"Alcohol Consumption (drinks/week)\", \"Stress Level (1-10)\", \n",
    "                      \"Heart Rate (bpm during attack)\", \"Breathing Rate (breaths/min)\",\n",
    "                      \"Sweating Level (1-5)\", \"Therapy Sessions (per month)\", \"Diet Quality (1-10)\"]\n",
    "\n",
    "X = data[categorical_features + numerical_features]\n",
    "y = data[\"Severity of Anxiety Attack (1-10)\"]\n",
    "\n",
    "# Convert target variable into categorical bins instead of trying to predict a 1-10 number\n",
    "y = pd.qcut(y, q=3, labels=[0, 1, 2])  # Low, Medium, High\n",
    "\n",
    "# Preprocessing pipeline\n",
    "preprocessor = ColumnTransformer(\n",
    "    transformers=[\n",
    "        (\"num\", StandardScaler(), numerical_features),\n",
    "        (\"cat\", OneHotEncoder(handle_unknown=\"ignore\"), categorical_features),\n",
    "    ]\n",
    ")\n",
    "\n",
    "# Split data into train and test sets\n",
    "X_train, X_test, y_train, y_test = train_test_split(X, y, test_size=0.2, stratify=y)\n",
    "\n",
    "# Create and train model pipeline\n",
    "model_pipeline = Pipeline([\n",
    "    (\"preprocessor\", preprocessor),\n",
    "    (\"classifier\", RandomForestClassifier())\n",
    "])\n",
    "\n",
    "model_pipeline.fit(X_train, y_train)\n",
    "\n",
    "# Predictions and evaluation\n",
    "y_pred = model_pipeline.predict(X_test)\n",
    "accuracy = accuracy_score(y_test, y_pred)\n",
    "classification_rep = classification_report(y_test, y_pred)\n",
    "\n",
    "print(\"Model Accuracy:\", accuracy)\n",
    "print(\"Classification Report:\\n\", classification_rep)\n"
   ]
  },
  {
   "cell_type": "markdown",
   "id": "8ee07a4a75da08f5",
   "metadata": {},
   "source": [
    "The model with binning has 37.5% accuracy, which is slightly better than the previous accuracy. However, recall remains low for classes 1 and 2, indicating that the model still struggles with correctly identifying moderate to severe anxiety attacks."
   ]
  },
  {
   "cell_type": "code",
   "execution_count": 28,
   "id": "22744c7ee38d0a9a",
   "metadata": {
    "ExecuteTime": {
     "end_time": "2025-03-03T05:23:53.594735Z",
     "start_time": "2025-03-03T05:23:37.966293Z"
    }
   },
   "outputs": [
    {
     "name": "stderr",
     "output_type": "stream",
     "text": [
      "/Users/zachmumbauer/PycharmProjects/helloWorld/.venv/lib/python3.9/site-packages/urllib3/__init__.py:35: NotOpenSSLWarning: urllib3 v2 only supports OpenSSL 1.1.1+, currently the 'ssl' module is compiled with 'LibreSSL 2.8.3'. See: https://github.com/urllib3/urllib3/issues/3020\n",
      "  warnings.warn(\n"
     ]
    },
    {
     "name": "stdout",
     "output_type": "stream",
     "text": [
      "Epoch 1/50\n"
     ]
    },
    {
     "name": "stderr",
     "output_type": "stream",
     "text": [
      "/Users/zachmumbauer/PycharmProjects/helloWorld/.venv/lib/python3.9/site-packages/keras/src/layers/core/dense.py:87: UserWarning: Do not pass an `input_shape`/`input_dim` argument to a layer. When using Sequential models, prefer using an `Input(shape)` object as the first layer in the model instead.\n",
      "  super().__init__(activity_regularizer=activity_regularizer, **kwargs)\n"
     ]
    },
    {
     "name": "stdout",
     "output_type": "stream",
     "text": [
      "\u001b[1m300/300\u001b[0m \u001b[32m━━━━━━━━━━━━━━━━━━━━\u001b[0m\u001b[37m\u001b[0m \u001b[1m1s\u001b[0m 964us/step - accuracy: 0.3642 - loss: 1.1339 - val_accuracy: 0.3904 - val_loss: 1.0945\n",
      "Epoch 2/50\n",
      "\u001b[1m300/300\u001b[0m \u001b[32m━━━━━━━━━━━━━━━━━━━━\u001b[0m\u001b[37m\u001b[0m \u001b[1m0s\u001b[0m 707us/step - accuracy: 0.3828 - loss: 1.0939 - val_accuracy: 0.3950 - val_loss: 1.0921\n",
      "Epoch 3/50\n",
      "\u001b[1m300/300\u001b[0m \u001b[32m━━━━━━━━━━━━━━━━━━━━\u001b[0m\u001b[37m\u001b[0m \u001b[1m0s\u001b[0m 767us/step - accuracy: 0.3904 - loss: 1.0941 - val_accuracy: 0.3942 - val_loss: 1.0916\n",
      "Epoch 4/50\n",
      "\u001b[1m300/300\u001b[0m \u001b[32m━━━━━━━━━━━━━━━━━━━━\u001b[0m\u001b[37m\u001b[0m \u001b[1m0s\u001b[0m 733us/step - accuracy: 0.4012 - loss: 1.0887 - val_accuracy: 0.3942 - val_loss: 1.0915\n",
      "Epoch 5/50\n",
      "\u001b[1m300/300\u001b[0m \u001b[32m━━━━━━━━━━━━━━━━━━━━\u001b[0m\u001b[37m\u001b[0m \u001b[1m0s\u001b[0m 664us/step - accuracy: 0.3950 - loss: 1.0895 - val_accuracy: 0.3942 - val_loss: 1.0913\n",
      "Epoch 6/50\n",
      "\u001b[1m300/300\u001b[0m \u001b[32m━━━━━━━━━━━━━━━━━━━━\u001b[0m\u001b[37m\u001b[0m \u001b[1m0s\u001b[0m 682us/step - accuracy: 0.3896 - loss: 1.0899 - val_accuracy: 0.3946 - val_loss: 1.0913\n",
      "Epoch 7/50\n",
      "\u001b[1m300/300\u001b[0m \u001b[32m━━━━━━━━━━━━━━━━━━━━\u001b[0m\u001b[37m\u001b[0m \u001b[1m0s\u001b[0m 755us/step - accuracy: 0.3976 - loss: 1.0864 - val_accuracy: 0.3933 - val_loss: 1.0916\n",
      "Epoch 8/50\n",
      "\u001b[1m300/300\u001b[0m \u001b[32m━━━━━━━━━━━━━━━━━━━━\u001b[0m\u001b[37m\u001b[0m \u001b[1m0s\u001b[0m 714us/step - accuracy: 0.3915 - loss: 1.0883 - val_accuracy: 0.3942 - val_loss: 1.0908\n",
      "Epoch 9/50\n",
      "\u001b[1m300/300\u001b[0m \u001b[32m━━━━━━━━━━━━━━━━━━━━\u001b[0m\u001b[37m\u001b[0m \u001b[1m0s\u001b[0m 666us/step - accuracy: 0.4028 - loss: 1.0877 - val_accuracy: 0.3946 - val_loss: 1.0913\n",
      "Epoch 10/50\n",
      "\u001b[1m300/300\u001b[0m \u001b[32m━━━━━━━━━━━━━━━━━━━━\u001b[0m\u001b[37m\u001b[0m \u001b[1m0s\u001b[0m 727us/step - accuracy: 0.4024 - loss: 1.0836 - val_accuracy: 0.3950 - val_loss: 1.0915\n",
      "Epoch 11/50\n",
      "\u001b[1m300/300\u001b[0m \u001b[32m━━━━━━━━━━━━━━━━━━━━\u001b[0m\u001b[37m\u001b[0m \u001b[1m0s\u001b[0m 739us/step - accuracy: 0.4064 - loss: 1.0843 - val_accuracy: 0.3929 - val_loss: 1.0917\n",
      "Epoch 12/50\n",
      "\u001b[1m300/300\u001b[0m \u001b[32m━━━━━━━━━━━━━━━━━━━━\u001b[0m\u001b[37m\u001b[0m \u001b[1m0s\u001b[0m 664us/step - accuracy: 0.4075 - loss: 1.0827 - val_accuracy: 0.3925 - val_loss: 1.0926\n",
      "Epoch 13/50\n",
      "\u001b[1m300/300\u001b[0m \u001b[32m━━━━━━━━━━━━━━━━━━━━\u001b[0m\u001b[37m\u001b[0m \u001b[1m0s\u001b[0m 771us/step - accuracy: 0.4066 - loss: 1.0826 - val_accuracy: 0.3925 - val_loss: 1.0924\n",
      "Epoch 14/50\n",
      "\u001b[1m300/300\u001b[0m \u001b[32m━━━━━━━━━━━━━━━━━━━━\u001b[0m\u001b[37m\u001b[0m \u001b[1m0s\u001b[0m 673us/step - accuracy: 0.4066 - loss: 1.0804 - val_accuracy: 0.3938 - val_loss: 1.0917\n",
      "Epoch 15/50\n",
      "\u001b[1m300/300\u001b[0m \u001b[32m━━━━━━━━━━━━━━━━━━━━\u001b[0m\u001b[37m\u001b[0m \u001b[1m0s\u001b[0m 674us/step - accuracy: 0.3964 - loss: 1.0836 - val_accuracy: 0.3921 - val_loss: 1.0920\n",
      "Epoch 16/50\n",
      "\u001b[1m300/300\u001b[0m \u001b[32m━━━━━━━━━━━━━━━━━━━━\u001b[0m\u001b[37m\u001b[0m \u001b[1m0s\u001b[0m 728us/step - accuracy: 0.4034 - loss: 1.0817 - val_accuracy: 0.3913 - val_loss: 1.0933\n",
      "Epoch 17/50\n",
      "\u001b[1m300/300\u001b[0m \u001b[32m━━━━━━━━━━━━━━━━━━━━\u001b[0m\u001b[37m\u001b[0m \u001b[1m0s\u001b[0m 683us/step - accuracy: 0.4043 - loss: 1.0825 - val_accuracy: 0.3892 - val_loss: 1.0927\n",
      "Epoch 18/50\n",
      "\u001b[1m300/300\u001b[0m \u001b[32m━━━━━━━━━━━━━━━━━━━━\u001b[0m\u001b[37m\u001b[0m \u001b[1m0s\u001b[0m 690us/step - accuracy: 0.4019 - loss: 1.0810 - val_accuracy: 0.3913 - val_loss: 1.0935\n",
      "Epoch 19/50\n",
      "\u001b[1m300/300\u001b[0m \u001b[32m━━━━━━━━━━━━━━━━━━━━\u001b[0m\u001b[37m\u001b[0m \u001b[1m0s\u001b[0m 672us/step - accuracy: 0.4099 - loss: 1.0799 - val_accuracy: 0.3904 - val_loss: 1.0936\n",
      "Epoch 20/50\n",
      "\u001b[1m300/300\u001b[0m \u001b[32m━━━━━━━━━━━━━━━━━━━━\u001b[0m\u001b[37m\u001b[0m \u001b[1m0s\u001b[0m 703us/step - accuracy: 0.4105 - loss: 1.0774 - val_accuracy: 0.3887 - val_loss: 1.0935\n",
      "Epoch 21/50\n",
      "\u001b[1m300/300\u001b[0m \u001b[32m━━━━━━━━━━━━━━━━━━━━\u001b[0m\u001b[37m\u001b[0m \u001b[1m0s\u001b[0m 672us/step - accuracy: 0.4062 - loss: 1.0764 - val_accuracy: 0.3867 - val_loss: 1.0956\n",
      "Epoch 22/50\n",
      "\u001b[1m300/300\u001b[0m \u001b[32m━━━━━━━━━━━━━━━━━━━━\u001b[0m\u001b[37m\u001b[0m \u001b[1m0s\u001b[0m 681us/step - accuracy: 0.4061 - loss: 1.0782 - val_accuracy: 0.3808 - val_loss: 1.0954\n",
      "Epoch 23/50\n",
      "\u001b[1m300/300\u001b[0m \u001b[32m━━━━━━━━━━━━━━━━━━━━\u001b[0m\u001b[37m\u001b[0m \u001b[1m0s\u001b[0m 709us/step - accuracy: 0.4109 - loss: 1.0765 - val_accuracy: 0.3837 - val_loss: 1.0968\n",
      "Epoch 24/50\n",
      "\u001b[1m300/300\u001b[0m \u001b[32m━━━━━━━━━━━━━━━━━━━━\u001b[0m\u001b[37m\u001b[0m \u001b[1m0s\u001b[0m 657us/step - accuracy: 0.4049 - loss: 1.0756 - val_accuracy: 0.3842 - val_loss: 1.0977\n",
      "Epoch 25/50\n",
      "\u001b[1m300/300\u001b[0m \u001b[32m━━━━━━━━━━━━━━━━━━━━\u001b[0m\u001b[37m\u001b[0m \u001b[1m0s\u001b[0m 704us/step - accuracy: 0.4135 - loss: 1.0724 - val_accuracy: 0.3854 - val_loss: 1.0988\n",
      "Epoch 26/50\n",
      "\u001b[1m300/300\u001b[0m \u001b[32m━━━━━━━━━━━━━━━━━━━━\u001b[0m\u001b[37m\u001b[0m \u001b[1m0s\u001b[0m 720us/step - accuracy: 0.4089 - loss: 1.0746 - val_accuracy: 0.3787 - val_loss: 1.0993\n",
      "Epoch 27/50\n",
      "\u001b[1m300/300\u001b[0m \u001b[32m━━━━━━━━━━━━━━━━━━━━\u001b[0m\u001b[37m\u001b[0m \u001b[1m0s\u001b[0m 724us/step - accuracy: 0.3983 - loss: 1.0769 - val_accuracy: 0.3883 - val_loss: 1.0987\n",
      "Epoch 28/50\n",
      "\u001b[1m300/300\u001b[0m \u001b[32m━━━━━━━━━━━━━━━━━━━━\u001b[0m\u001b[37m\u001b[0m \u001b[1m0s\u001b[0m 706us/step - accuracy: 0.4115 - loss: 1.0729 - val_accuracy: 0.3933 - val_loss: 1.0986\n",
      "Epoch 29/50\n",
      "\u001b[1m300/300\u001b[0m \u001b[32m━━━━━━━━━━━━━━━━━━━━\u001b[0m\u001b[37m\u001b[0m \u001b[1m0s\u001b[0m 672us/step - accuracy: 0.4191 - loss: 1.0684 - val_accuracy: 0.3821 - val_loss: 1.0989\n",
      "Epoch 30/50\n",
      "\u001b[1m300/300\u001b[0m \u001b[32m━━━━━━━━━━━━━━━━━━━━\u001b[0m\u001b[37m\u001b[0m \u001b[1m0s\u001b[0m 728us/step - accuracy: 0.4127 - loss: 1.0689 - val_accuracy: 0.3867 - val_loss: 1.0987\n",
      "Epoch 31/50\n",
      "\u001b[1m300/300\u001b[0m \u001b[32m━━━━━━━━━━━━━━━━━━━━\u001b[0m\u001b[37m\u001b[0m \u001b[1m0s\u001b[0m 849us/step - accuracy: 0.4129 - loss: 1.0674 - val_accuracy: 0.3925 - val_loss: 1.0980\n",
      "Epoch 32/50\n",
      "\u001b[1m300/300\u001b[0m \u001b[32m━━━━━━━━━━━━━━━━━━━━\u001b[0m\u001b[37m\u001b[0m \u001b[1m0s\u001b[0m 729us/step - accuracy: 0.4178 - loss: 1.0670 - val_accuracy: 0.3833 - val_loss: 1.0993\n",
      "Epoch 33/50\n",
      "\u001b[1m300/300\u001b[0m \u001b[32m━━━━━━━━━━━━━━━━━━━━\u001b[0m\u001b[37m\u001b[0m \u001b[1m0s\u001b[0m 729us/step - accuracy: 0.4136 - loss: 1.0690 - val_accuracy: 0.3875 - val_loss: 1.0993\n",
      "Epoch 34/50\n",
      "\u001b[1m300/300\u001b[0m \u001b[32m━━━━━━━━━━━━━━━━━━━━\u001b[0m\u001b[37m\u001b[0m \u001b[1m0s\u001b[0m 729us/step - accuracy: 0.4288 - loss: 1.0644 - val_accuracy: 0.3833 - val_loss: 1.0994\n",
      "Epoch 35/50\n",
      "\u001b[1m300/300\u001b[0m \u001b[32m━━━━━━━━━━━━━━━━━━━━\u001b[0m\u001b[37m\u001b[0m \u001b[1m0s\u001b[0m 731us/step - accuracy: 0.4165 - loss: 1.0646 - val_accuracy: 0.3825 - val_loss: 1.0989\n",
      "Epoch 36/50\n",
      "\u001b[1m300/300\u001b[0m \u001b[32m━━━━━━━━━━━━━━━━━━━━\u001b[0m\u001b[37m\u001b[0m \u001b[1m0s\u001b[0m 762us/step - accuracy: 0.4257 - loss: 1.0643 - val_accuracy: 0.3892 - val_loss: 1.1011\n",
      "Epoch 37/50\n",
      "\u001b[1m300/300\u001b[0m \u001b[32m━━━━━━━━━━━━━━━━━━━━\u001b[0m\u001b[37m\u001b[0m \u001b[1m0s\u001b[0m 750us/step - accuracy: 0.4239 - loss: 1.0577 - val_accuracy: 0.3842 - val_loss: 1.1003\n",
      "Epoch 38/50\n",
      "\u001b[1m300/300\u001b[0m \u001b[32m━━━━━━━━━━━━━━━━━━━━\u001b[0m\u001b[37m\u001b[0m \u001b[1m0s\u001b[0m 737us/step - accuracy: 0.4287 - loss: 1.0636 - val_accuracy: 0.3850 - val_loss: 1.1023\n",
      "Epoch 39/50\n",
      "\u001b[1m300/300\u001b[0m \u001b[32m━━━━━━━━━━━━━━━━━━━━\u001b[0m\u001b[37m\u001b[0m \u001b[1m0s\u001b[0m 804us/step - accuracy: 0.4275 - loss: 1.0628 - val_accuracy: 0.3796 - val_loss: 1.1019\n",
      "Epoch 40/50\n",
      "\u001b[1m300/300\u001b[0m \u001b[32m━━━━━━━━━━━━━━━━━━━━\u001b[0m\u001b[37m\u001b[0m \u001b[1m0s\u001b[0m 718us/step - accuracy: 0.4325 - loss: 1.0569 - val_accuracy: 0.3771 - val_loss: 1.1018\n",
      "Epoch 41/50\n",
      "\u001b[1m300/300\u001b[0m \u001b[32m━━━━━━━━━━━━━━━━━━━━\u001b[0m\u001b[37m\u001b[0m \u001b[1m0s\u001b[0m 730us/step - accuracy: 0.4332 - loss: 1.0567 - val_accuracy: 0.3854 - val_loss: 1.1007\n",
      "Epoch 42/50\n",
      "\u001b[1m300/300\u001b[0m \u001b[32m━━━━━━━━━━━━━━━━━━━━\u001b[0m\u001b[37m\u001b[0m \u001b[1m0s\u001b[0m 733us/step - accuracy: 0.4227 - loss: 1.0591 - val_accuracy: 0.3846 - val_loss: 1.1044\n",
      "Epoch 43/50\n",
      "\u001b[1m300/300\u001b[0m \u001b[32m━━━━━━━━━━━━━━━━━━━━\u001b[0m\u001b[37m\u001b[0m \u001b[1m0s\u001b[0m 719us/step - accuracy: 0.4447 - loss: 1.0495 - val_accuracy: 0.3804 - val_loss: 1.1034\n",
      "Epoch 44/50\n",
      "\u001b[1m300/300\u001b[0m \u001b[32m━━━━━━━━━━━━━━━━━━━━\u001b[0m\u001b[37m\u001b[0m \u001b[1m0s\u001b[0m 733us/step - accuracy: 0.4248 - loss: 1.0529 - val_accuracy: 0.3750 - val_loss: 1.1040\n",
      "Epoch 45/50\n",
      "\u001b[1m300/300\u001b[0m \u001b[32m━━━━━━━━━━━━━━━━━━━━\u001b[0m\u001b[37m\u001b[0m \u001b[1m0s\u001b[0m 722us/step - accuracy: 0.4264 - loss: 1.0569 - val_accuracy: 0.3775 - val_loss: 1.1046\n",
      "Epoch 46/50\n",
      "\u001b[1m300/300\u001b[0m \u001b[32m━━━━━━━━━━━━━━━━━━━━\u001b[0m\u001b[37m\u001b[0m \u001b[1m0s\u001b[0m 716us/step - accuracy: 0.4307 - loss: 1.0540 - val_accuracy: 0.3846 - val_loss: 1.1034\n",
      "Epoch 47/50\n",
      "\u001b[1m300/300\u001b[0m \u001b[32m━━━━━━━━━━━━━━━━━━━━\u001b[0m\u001b[37m\u001b[0m \u001b[1m0s\u001b[0m 724us/step - accuracy: 0.4311 - loss: 1.0565 - val_accuracy: 0.3783 - val_loss: 1.1052\n",
      "Epoch 48/50\n",
      "\u001b[1m300/300\u001b[0m \u001b[32m━━━━━━━━━━━━━━━━━━━━\u001b[0m\u001b[37m\u001b[0m \u001b[1m0s\u001b[0m 731us/step - accuracy: 0.4222 - loss: 1.0601 - val_accuracy: 0.3767 - val_loss: 1.1036\n",
      "Epoch 49/50\n",
      "\u001b[1m300/300\u001b[0m \u001b[32m━━━━━━━━━━━━━━━━━━━━\u001b[0m\u001b[37m\u001b[0m \u001b[1m0s\u001b[0m 733us/step - accuracy: 0.4232 - loss: 1.0559 - val_accuracy: 0.3742 - val_loss: 1.1035\n",
      "Epoch 50/50\n",
      "\u001b[1m300/300\u001b[0m \u001b[32m━━━━━━━━━━━━━━━━━━━━\u001b[0m\u001b[37m\u001b[0m \u001b[1m0s\u001b[0m 707us/step - accuracy: 0.4253 - loss: 1.0545 - val_accuracy: 0.3808 - val_loss: 1.1049\n",
      "\u001b[1m75/75\u001b[0m \u001b[32m━━━━━━━━━━━━━━━━━━━━\u001b[0m\u001b[37m\u001b[0m \u001b[1m0s\u001b[0m 526us/step - accuracy: 0.3906 - loss: 1.0980\n",
      "\u001b[1m75/75\u001b[0m \u001b[32m━━━━━━━━━━━━━━━━━━━━\u001b[0m\u001b[37m\u001b[0m \u001b[1m0s\u001b[0m 396us/step\n"
     ]
    },
    {
     "data": {
      "text/html": [
       "<div>\n",
       "<style scoped>\n",
       "    .dataframe tbody tr th:only-of-type {\n",
       "        vertical-align: middle;\n",
       "    }\n",
       "\n",
       "    .dataframe tbody tr th {\n",
       "        vertical-align: top;\n",
       "    }\n",
       "\n",
       "    .dataframe thead th {\n",
       "        text-align: right;\n",
       "    }\n",
       "</style>\n",
       "<table border=\"1\" class=\"dataframe\">\n",
       "  <thead>\n",
       "    <tr style=\"text-align: right;\">\n",
       "      <th></th>\n",
       "      <th>precision</th>\n",
       "      <th>recall</th>\n",
       "      <th>f1-score</th>\n",
       "      <th>support</th>\n",
       "    </tr>\n",
       "  </thead>\n",
       "  <tbody>\n",
       "    <tr>\n",
       "      <th>0</th>\n",
       "      <td>0.394373</td>\n",
       "      <td>0.843717</td>\n",
       "      <td>0.537504</td>\n",
       "      <td>947.000000</td>\n",
       "    </tr>\n",
       "    <tr>\n",
       "      <th>1</th>\n",
       "      <td>0.318898</td>\n",
       "      <td>0.109459</td>\n",
       "      <td>0.162978</td>\n",
       "      <td>740.000000</td>\n",
       "    </tr>\n",
       "    <tr>\n",
       "      <th>2</th>\n",
       "      <td>0.283333</td>\n",
       "      <td>0.047686</td>\n",
       "      <td>0.081633</td>\n",
       "      <td>713.000000</td>\n",
       "    </tr>\n",
       "    <tr>\n",
       "      <th>accuracy</th>\n",
       "      <td>0.380833</td>\n",
       "      <td>0.380833</td>\n",
       "      <td>0.380833</td>\n",
       "      <td>0.380833</td>\n",
       "    </tr>\n",
       "    <tr>\n",
       "      <th>macro avg</th>\n",
       "      <td>0.332201</td>\n",
       "      <td>0.333621</td>\n",
       "      <td>0.260705</td>\n",
       "      <td>2400.000000</td>\n",
       "    </tr>\n",
       "    <tr>\n",
       "      <th>weighted avg</th>\n",
       "      <td>0.338113</td>\n",
       "      <td>0.380833</td>\n",
       "      <td>0.286593</td>\n",
       "      <td>2400.000000</td>\n",
       "    </tr>\n",
       "  </tbody>\n",
       "</table>\n",
       "</div>"
      ],
      "text/plain": [
       "              precision    recall  f1-score      support\n",
       "0              0.394373  0.843717  0.537504   947.000000\n",
       "1              0.318898  0.109459  0.162978   740.000000\n",
       "2              0.283333  0.047686  0.081633   713.000000\n",
       "accuracy       0.380833  0.380833  0.380833     0.380833\n",
       "macro avg      0.332201  0.333621  0.260705  2400.000000\n",
       "weighted avg   0.338113  0.380833  0.286593  2400.000000"
      ]
     },
     "execution_count": 28,
     "metadata": {},
     "output_type": "execute_result"
    }
   ],
   "source": [
    "import tensorflow as tf\n",
    "from tensorflow import keras\n",
    "from tensorflow.keras.models import Sequential\n",
    "from tensorflow.keras.layers import Dense, Dropout\n",
    "from tensorflow.keras.optimizers import Adam\n",
    "from sklearn.preprocessing import StandardScaler, OneHotEncoder\n",
    "from sklearn.model_selection import train_test_split\n",
    "import numpy as np\n",
    "\n",
    "# One-hot encode categorical features and standardize numerical features\n",
    "encoder = OneHotEncoder(handle_unknown=\"ignore\")\n",
    "scaler = StandardScaler()\n",
    "\n",
    "X_categorical = encoder.fit_transform(data[categorical_features]).toarray()\n",
    "X_numerical = scaler.fit_transform(data[numerical_features])\n",
    "\n",
    "# Combine transformed features\n",
    "X_transformed = np.hstack((X_categorical, X_numerical))\n",
    "\n",
    "# Convert target variable to categorical\n",
    "y_categorical = keras.utils.to_categorical(y)\n",
    "\n",
    "# Split data into training and testing sets\n",
    "X_train, X_test, y_train, y_test = train_test_split(X_transformed, y_categorical, test_size=0.2, random_state=42, stratify=y)\n",
    "\n",
    "# Define Neural Network Model\n",
    "model = Sequential([\n",
    "    Dense(64, activation='relu', input_shape=(X_train.shape[1],)),\n",
    "    Dropout(0.3),\n",
    "    Dense(32, activation='relu'),\n",
    "    Dropout(0.3),\n",
    "    Dense(y_categorical.shape[1], activation='softmax')  # Multi-class classification\n",
    "])\n",
    "\n",
    "# Compile the model\n",
    "model.compile(optimizer=Adam(learning_rate=0.001), loss='categorical_crossentropy', metrics=['accuracy'])\n",
    "\n",
    "# Train the model\n",
    "history = model.fit(X_train, y_train, epochs=50, batch_size=32, validation_data=(X_test, y_test), verbose=1)\n",
    "\n",
    "# Evaluate the model\n",
    "loss, accuracy = model.evaluate(X_test, y_test)\n",
    "predictions = model.predict(X_test)\n",
    "predicted_classes = np.argmax(predictions, axis=1)\n",
    "true_classes = np.argmax(y_test, axis=1)\n",
    "\n",
    "# Classification Report\n",
    "from sklearn.metrics import classification_report\n",
    "classification_rep_nn = classification_report(true_classes, predicted_classes, output_dict=True)\n",
    "\n",
    "import pandas as pd\n",
    "pd.DataFrame(classification_rep_nn).T\n"
   ]
  },
  {
   "cell_type": "markdown",
   "id": "e13df9b482dd9ee",
   "metadata": {},
   "source": [
    "The neural network achieved ~35.6% accuracy which is similar to the RandomForestClassifier with binning."
   ]
  },
  {
   "cell_type": "markdown",
   "id": "7b163fcfd8cdc5ff",
   "metadata": {},
   "source": [
    "I'm going to try to do parameter tuning"
   ]
  },
  {
   "cell_type": "code",
   "execution_count": 29,
   "id": "f2c286567f223e70",
   "metadata": {
    "ExecuteTime": {
     "end_time": "2025-03-03T05:24:23.008185Z",
     "start_time": "2025-03-03T05:23:55.096235Z"
    }
   },
   "outputs": [
    {
     "name": "stdout",
     "output_type": "stream",
     "text": [
      "Best Parameters: {'n_estimators': 100, 'min_samples_split': 5, 'min_samples_leaf': 2, 'max_features': 'sqrt', 'max_depth': 20}\n"
     ]
    }
   ],
   "source": [
    "from sklearn.model_selection import RandomizedSearchCV\n",
    "from sklearn.ensemble import RandomForestClassifier\n",
    "\n",
    "# Define hyperparameter grid\n",
    "param_grid = {\n",
    "    'n_estimators': [100, 200, 300],\n",
    "    'max_depth': [10, 20, None],\n",
    "    'min_samples_split': [2, 5, 10],\n",
    "    'min_samples_leaf': [1, 2, 4],\n",
    "    'max_features': ['sqrt', 'log2']\n",
    "}\n",
    "\n",
    "# Perform Randomized Search\n",
    "rf = RandomForestClassifier(random_state=42)\n",
    "random_search = RandomizedSearchCV(rf, param_grid, n_iter=20, cv=5, scoring='accuracy', n_jobs=-1)\n",
    "random_search.fit(X_train, y_train)\n",
    "\n",
    "# Best parameters\n",
    "print(\"Best Parameters:\", random_search.best_params_)\n",
    "best_rf_model = random_search.best_estimator_"
   ]
  },
  {
   "cell_type": "code",
   "execution_count": 31,
   "id": "ad8b31167a2ebf35",
   "metadata": {
    "ExecuteTime": {
     "end_time": "2025-03-03T05:24:47.092999Z",
     "start_time": "2025-03-03T05:24:45.750455Z"
    }
   },
   "outputs": [
    {
     "name": "stdout",
     "output_type": "stream",
     "text": [
      "Optimized Model Accuracy: 0.0146\n"
     ]
    },
    {
     "name": "stderr",
     "output_type": "stream",
     "text": [
      "/Users/zachmumbauer/PycharmProjects/helloWorld/.venv/lib/python3.9/site-packages/sklearn/metrics/_classification.py:1565: UndefinedMetricWarning: Precision is ill-defined and being set to 0.0 in samples with no predicted labels. Use `zero_division` parameter to control this behavior.\n",
      "  _warn_prf(average, modifier, f\"{metric.capitalize()} is\", len(result))\n"
     ]
    }
   ],
   "source": [
    "# Import necessary libraries\n",
    "from sklearn.ensemble import RandomForestClassifier\n",
    "from sklearn.metrics import accuracy_score, classification_report\n",
    "\n",
    "# Use the best hyperparameters found\n",
    "best_params = {\n",
    "    'n_estimators': 100,\n",
    "    'min_samples_split': 2,\n",
    "    'min_samples_leaf': 1,\n",
    "    'max_features': 'sqrt',\n",
    "    'max_depth': None\n",
    "}\n",
    "\n",
    "# Train the model with optimized parameters\n",
    "best_rf_model = RandomForestClassifier(**best_params)\n",
    "best_rf_model.fit(X_train, y_train)\n",
    "\n",
    "# Make predictions\n",
    "y_pred = best_rf_model.predict(X_test)\n",
    "\n",
    "# Evaluate performance\n",
    "accuracy = accuracy_score(y_test, y_pred)\n",
    "classification_rep = classification_report(y_test, y_pred, output_dict=True)\n",
    "\n",
    "# Display results\n",
    "import pandas as pd\n",
    "\n",
    "pd.DataFrame(classification_rep).T\n",
    "\n",
    "print(f\"Optimized Model Accuracy: {accuracy:.4f}\")"
   ]
  },
  {
   "cell_type": "markdown",
   "id": "c2e79bf777fd7a60",
   "metadata": {},
   "source": [
    "For some reason, the hyperparameters give a worse result than the previous model."
   ]
  },
  {
   "cell_type": "code",
   "execution_count": 32,
   "id": "2689f42f107bd560",
   "metadata": {
    "ExecuteTime": {
     "end_time": "2025-03-03T05:24:51.224769Z",
     "start_time": "2025-03-03T05:24:51.132786Z"
    }
   },
   "outputs": [
    {
     "name": "stdout",
     "output_type": "stream",
     "text": [
      "Reloading Tuner from kt_search/untitled_project/tuner0.json\n",
      "Best Hyperparameters: {'units_1': 32, 'dropout_1': 0.4, 'units_2': 96, 'dropout_2': 0.30000000000000004, 'learning_rate': 0.001}\n"
     ]
    }
   ],
   "source": [
    "import keras_tuner as kt\n",
    "from tensorflow.keras.models import Sequential\n",
    "from tensorflow.keras.layers import Dense, Dropout\n",
    "\n",
    "# Define a function to build the model\n",
    "def build_model(hp):\n",
    "    model = Sequential()\n",
    "    model.add(Dense(hp.Int('units_1', min_value=32, max_value=128, step=32), activation='relu', input_shape=(X_train.shape[1],)))\n",
    "    model.add(Dropout(hp.Float('dropout_1', min_value=0.1, max_value=0.5, step=0.1)))\n",
    "\n",
    "    model.add(Dense(hp.Int('units_2', min_value=32, max_value=128, step=32), activation='relu'))\n",
    "    model.add(Dropout(hp.Float('dropout_2', min_value=0.1, max_value=0.5, step=0.1)))\n",
    "\n",
    "    model.add(Dense(y_train.shape[1], activation='softmax'))\n",
    "\n",
    "    model.compile(optimizer=keras.optimizers.Adam(hp.Choice('learning_rate', values=[0.001, 0.0005, 0.0001])),\n",
    "                  loss='categorical_crossentropy',\n",
    "                  metrics=['accuracy'])\n",
    "\n",
    "    return model\n",
    "\n",
    "# Use Keras Tuner to search for the best hyperparameters\n",
    "tuner = kt.RandomSearch(build_model, objective='val_accuracy', executions_per_trial=2, directory='kt_search')\n",
    "\n",
    "# Run hyperparameter tuning\n",
    "tuner.search(X_train, y_train, epochs=30, validation_data=(X_test, y_test))\n",
    "\n",
    "# Get the best hyperparameters\n",
    "best_hps = tuner.get_best_hyperparameters(num_trials=1)[0]\n",
    "print(\"Best Hyperparameters:\", best_hps.values)"
   ]
  },
  {
   "cell_type": "code",
   "execution_count": 33,
   "id": "f95abecde1dc8d67",
   "metadata": {
    "ExecuteTime": {
     "end_time": "2025-03-03T05:25:10.020643Z",
     "start_time": "2025-03-03T05:24:56.992623Z"
    }
   },
   "outputs": [
    {
     "name": "stdout",
     "output_type": "stream",
     "text": [
      "Epoch 1/50\n"
     ]
    },
    {
     "name": "stderr",
     "output_type": "stream",
     "text": [
      "/Users/zachmumbauer/PycharmProjects/helloWorld/.venv/lib/python3.9/site-packages/keras/src/layers/core/dense.py:87: UserWarning: Do not pass an `input_shape`/`input_dim` argument to a layer. When using Sequential models, prefer using an `Input(shape)` object as the first layer in the model instead.\n",
      "  super().__init__(activity_regularizer=activity_regularizer, **kwargs)\n"
     ]
    },
    {
     "name": "stdout",
     "output_type": "stream",
     "text": [
      "\u001b[1m300/300\u001b[0m \u001b[32m━━━━━━━━━━━━━━━━━━━━\u001b[0m\u001b[37m\u001b[0m \u001b[1m1s\u001b[0m 987us/step - accuracy: 0.3487 - loss: 1.1306 - val_accuracy: 0.3875 - val_loss: 1.0925\n",
      "Epoch 2/50\n",
      "\u001b[1m300/300\u001b[0m \u001b[32m━━━━━━━━━━━━━━━━━━━━\u001b[0m\u001b[37m\u001b[0m \u001b[1m0s\u001b[0m 743us/step - accuracy: 0.3670 - loss: 1.1005 - val_accuracy: 0.3954 - val_loss: 1.0920\n",
      "Epoch 3/50\n",
      "\u001b[1m300/300\u001b[0m \u001b[32m━━━━━━━━━━━━━━━━━━━━\u001b[0m\u001b[37m\u001b[0m \u001b[1m0s\u001b[0m 990us/step - accuracy: 0.3835 - loss: 1.0952 - val_accuracy: 0.3913 - val_loss: 1.0919\n",
      "Epoch 4/50\n",
      "\u001b[1m300/300\u001b[0m \u001b[32m━━━━━━━━━━━━━━━━━━━━\u001b[0m\u001b[37m\u001b[0m \u001b[1m0s\u001b[0m 814us/step - accuracy: 0.3832 - loss: 1.0941 - val_accuracy: 0.3946 - val_loss: 1.0902\n",
      "Epoch 5/50\n",
      "\u001b[1m300/300\u001b[0m \u001b[32m━━━━━━━━━━━━━━━━━━━━\u001b[0m\u001b[37m\u001b[0m \u001b[1m0s\u001b[0m 775us/step - accuracy: 0.3935 - loss: 1.0904 - val_accuracy: 0.3942 - val_loss: 1.0907\n",
      "Epoch 6/50\n",
      "\u001b[1m300/300\u001b[0m \u001b[32m━━━━━━━━━━━━━━━━━━━━\u001b[0m\u001b[37m\u001b[0m \u001b[1m0s\u001b[0m 760us/step - accuracy: 0.3899 - loss: 1.0899 - val_accuracy: 0.3942 - val_loss: 1.0913\n",
      "Epoch 7/50\n",
      "\u001b[1m300/300\u001b[0m \u001b[32m━━━━━━━━━━━━━━━━━━━━\u001b[0m\u001b[37m\u001b[0m \u001b[1m0s\u001b[0m 783us/step - accuracy: 0.3949 - loss: 1.0901 - val_accuracy: 0.3950 - val_loss: 1.0917\n",
      "Epoch 8/50\n",
      "\u001b[1m300/300\u001b[0m \u001b[32m━━━━━━━━━━━━━━━━━━━━\u001b[0m\u001b[37m\u001b[0m \u001b[1m0s\u001b[0m 762us/step - accuracy: 0.3994 - loss: 1.0862 - val_accuracy: 0.3929 - val_loss: 1.0913\n",
      "Epoch 9/50\n",
      "\u001b[1m300/300\u001b[0m \u001b[32m━━━━━━━━━━━━━━━━━━━━\u001b[0m\u001b[37m\u001b[0m \u001b[1m0s\u001b[0m 828us/step - accuracy: 0.3906 - loss: 1.0886 - val_accuracy: 0.3917 - val_loss: 1.0915\n",
      "Epoch 10/50\n",
      "\u001b[1m300/300\u001b[0m \u001b[32m━━━━━━━━━━━━━━━━━━━━\u001b[0m\u001b[37m\u001b[0m \u001b[1m0s\u001b[0m 828us/step - accuracy: 0.4024 - loss: 1.0853 - val_accuracy: 0.3933 - val_loss: 1.0917\n",
      "Epoch 11/50\n",
      "\u001b[1m300/300\u001b[0m \u001b[32m━━━━━━━━━━━━━━━━━━━━\u001b[0m\u001b[37m\u001b[0m \u001b[1m0s\u001b[0m 788us/step - accuracy: 0.3987 - loss: 1.0851 - val_accuracy: 0.3954 - val_loss: 1.0920\n",
      "Epoch 12/50\n",
      "\u001b[1m300/300\u001b[0m \u001b[32m━━━━━━━━━━━━━━━━━━━━\u001b[0m\u001b[37m\u001b[0m \u001b[1m0s\u001b[0m 925us/step - accuracy: 0.4030 - loss: 1.0863 - val_accuracy: 0.3942 - val_loss: 1.0912\n",
      "Epoch 13/50\n",
      "\u001b[1m300/300\u001b[0m \u001b[32m━━━━━━━━━━━━━━━━━━━━\u001b[0m\u001b[37m\u001b[0m \u001b[1m0s\u001b[0m 1ms/step - accuracy: 0.3957 - loss: 1.0868 - val_accuracy: 0.3925 - val_loss: 1.0916\n",
      "Epoch 14/50\n",
      "\u001b[1m300/300\u001b[0m \u001b[32m━━━━━━━━━━━━━━━━━━━━\u001b[0m\u001b[37m\u001b[0m \u001b[1m0s\u001b[0m 1ms/step - accuracy: 0.4026 - loss: 1.0828 - val_accuracy: 0.3908 - val_loss: 1.0927\n",
      "Epoch 15/50\n",
      "\u001b[1m300/300\u001b[0m \u001b[32m━━━━━━━━━━━━━━━━━━━━\u001b[0m\u001b[37m\u001b[0m \u001b[1m0s\u001b[0m 970us/step - accuracy: 0.3953 - loss: 1.0820 - val_accuracy: 0.3913 - val_loss: 1.0926\n",
      "Epoch 16/50\n",
      "\u001b[1m300/300\u001b[0m \u001b[32m━━━━━━━━━━━━━━━━━━━━\u001b[0m\u001b[37m\u001b[0m \u001b[1m0s\u001b[0m 824us/step - accuracy: 0.3988 - loss: 1.0823 - val_accuracy: 0.3900 - val_loss: 1.0919\n",
      "Epoch 17/50\n",
      "\u001b[1m300/300\u001b[0m \u001b[32m━━━━━━━━━━━━━━━━━━━━\u001b[0m\u001b[37m\u001b[0m \u001b[1m0s\u001b[0m 765us/step - accuracy: 0.3916 - loss: 1.0832 - val_accuracy: 0.3762 - val_loss: 1.0951\n",
      "Epoch 18/50\n",
      "\u001b[1m300/300\u001b[0m \u001b[32m━━━━━━━━━━━━━━━━━━━━\u001b[0m\u001b[37m\u001b[0m \u001b[1m0s\u001b[0m 840us/step - accuracy: 0.3912 - loss: 1.0810 - val_accuracy: 0.3929 - val_loss: 1.0943\n",
      "Epoch 19/50\n",
      "\u001b[1m300/300\u001b[0m \u001b[32m━━━━━━━━━━━━━━━━━━━━\u001b[0m\u001b[37m\u001b[0m \u001b[1m0s\u001b[0m 828us/step - accuracy: 0.4007 - loss: 1.0811 - val_accuracy: 0.3896 - val_loss: 1.0953\n",
      "Epoch 20/50\n",
      "\u001b[1m300/300\u001b[0m \u001b[32m━━━━━━━━━━━━━━━━━━━━\u001b[0m\u001b[37m\u001b[0m \u001b[1m0s\u001b[0m 849us/step - accuracy: 0.4005 - loss: 1.0796 - val_accuracy: 0.3879 - val_loss: 1.0941\n",
      "Epoch 21/50\n",
      "\u001b[1m300/300\u001b[0m \u001b[32m━━━━━━━━━━━━━━━━━━━━\u001b[0m\u001b[37m\u001b[0m \u001b[1m0s\u001b[0m 794us/step - accuracy: 0.4052 - loss: 1.0788 - val_accuracy: 0.3837 - val_loss: 1.0947\n",
      "Epoch 22/50\n",
      "\u001b[1m300/300\u001b[0m \u001b[32m━━━━━━━━━━━━━━━━━━━━\u001b[0m\u001b[37m\u001b[0m \u001b[1m0s\u001b[0m 753us/step - accuracy: 0.4040 - loss: 1.0778 - val_accuracy: 0.3817 - val_loss: 1.0941\n",
      "Epoch 23/50\n",
      "\u001b[1m300/300\u001b[0m \u001b[32m━━━━━━━━━━━━━━━━━━━━\u001b[0m\u001b[37m\u001b[0m \u001b[1m0s\u001b[0m 779us/step - accuracy: 0.3955 - loss: 1.0804 - val_accuracy: 0.3900 - val_loss: 1.0958\n",
      "Epoch 24/50\n",
      "\u001b[1m300/300\u001b[0m \u001b[32m━━━━━━━━━━━━━━━━━━━━\u001b[0m\u001b[37m\u001b[0m \u001b[1m0s\u001b[0m 763us/step - accuracy: 0.4079 - loss: 1.0750 - val_accuracy: 0.3837 - val_loss: 1.0960\n",
      "Epoch 25/50\n",
      "\u001b[1m300/300\u001b[0m \u001b[32m━━━━━━━━━━━━━━━━━━━━\u001b[0m\u001b[37m\u001b[0m \u001b[1m0s\u001b[0m 776us/step - accuracy: 0.4032 - loss: 1.0777 - val_accuracy: 0.3896 - val_loss: 1.0964\n",
      "Epoch 26/50\n",
      "\u001b[1m300/300\u001b[0m \u001b[32m━━━━━━━━━━━━━━━━━━━━\u001b[0m\u001b[37m\u001b[0m \u001b[1m0s\u001b[0m 756us/step - accuracy: 0.4097 - loss: 1.0734 - val_accuracy: 0.3837 - val_loss: 1.0972\n",
      "Epoch 27/50\n",
      "\u001b[1m300/300\u001b[0m \u001b[32m━━━━━━━━━━━━━━━━━━━━\u001b[0m\u001b[37m\u001b[0m \u001b[1m0s\u001b[0m 772us/step - accuracy: 0.4035 - loss: 1.0793 - val_accuracy: 0.3804 - val_loss: 1.0975\n",
      "Epoch 28/50\n",
      "\u001b[1m300/300\u001b[0m \u001b[32m━━━━━━━━━━━━━━━━━━━━\u001b[0m\u001b[37m\u001b[0m \u001b[1m0s\u001b[0m 846us/step - accuracy: 0.4043 - loss: 1.0783 - val_accuracy: 0.3792 - val_loss: 1.0976\n",
      "Epoch 29/50\n",
      "\u001b[1m300/300\u001b[0m \u001b[32m━━━━━━━━━━━━━━━━━━━━\u001b[0m\u001b[37m\u001b[0m \u001b[1m0s\u001b[0m 802us/step - accuracy: 0.3958 - loss: 1.0806 - val_accuracy: 0.3817 - val_loss: 1.0968\n",
      "Epoch 30/50\n",
      "\u001b[1m300/300\u001b[0m \u001b[32m━━━━━━━━━━━━━━━━━━━━\u001b[0m\u001b[37m\u001b[0m \u001b[1m0s\u001b[0m 774us/step - accuracy: 0.4009 - loss: 1.0760 - val_accuracy: 0.3804 - val_loss: 1.0976\n",
      "Epoch 31/50\n",
      "\u001b[1m300/300\u001b[0m \u001b[32m━━━━━━━━━━━━━━━━━━━━\u001b[0m\u001b[37m\u001b[0m \u001b[1m0s\u001b[0m 761us/step - accuracy: 0.4217 - loss: 1.0693 - val_accuracy: 0.3887 - val_loss: 1.0958\n",
      "Epoch 32/50\n",
      "\u001b[1m300/300\u001b[0m \u001b[32m━━━━━━━━━━━━━━━━━━━━\u001b[0m\u001b[37m\u001b[0m \u001b[1m0s\u001b[0m 750us/step - accuracy: 0.4004 - loss: 1.0743 - val_accuracy: 0.3817 - val_loss: 1.0975\n",
      "Epoch 33/50\n",
      "\u001b[1m300/300\u001b[0m \u001b[32m━━━━━━━━━━━━━━━━━━━━\u001b[0m\u001b[37m\u001b[0m \u001b[1m0s\u001b[0m 760us/step - accuracy: 0.4095 - loss: 1.0728 - val_accuracy: 0.3796 - val_loss: 1.0981\n",
      "Epoch 34/50\n",
      "\u001b[1m300/300\u001b[0m \u001b[32m━━━━━━━━━━━━━━━━━━━━\u001b[0m\u001b[37m\u001b[0m \u001b[1m0s\u001b[0m 746us/step - accuracy: 0.4133 - loss: 1.0713 - val_accuracy: 0.3775 - val_loss: 1.0967\n",
      "Epoch 35/50\n",
      "\u001b[1m300/300\u001b[0m \u001b[32m━━━━━━━━━━━━━━━━━━━━\u001b[0m\u001b[37m\u001b[0m \u001b[1m0s\u001b[0m 755us/step - accuracy: 0.4041 - loss: 1.0743 - val_accuracy: 0.3758 - val_loss: 1.0970\n",
      "Epoch 36/50\n",
      "\u001b[1m300/300\u001b[0m \u001b[32m━━━━━━━━━━━━━━━━━━━━\u001b[0m\u001b[37m\u001b[0m \u001b[1m0s\u001b[0m 784us/step - accuracy: 0.4055 - loss: 1.0735 - val_accuracy: 0.3746 - val_loss: 1.0993\n",
      "Epoch 37/50\n",
      "\u001b[1m300/300\u001b[0m \u001b[32m━━━━━━━━━━━━━━━━━━━━\u001b[0m\u001b[37m\u001b[0m \u001b[1m0s\u001b[0m 738us/step - accuracy: 0.4128 - loss: 1.0732 - val_accuracy: 0.3650 - val_loss: 1.0993\n",
      "Epoch 38/50\n",
      "\u001b[1m300/300\u001b[0m \u001b[32m━━━━━━━━━━━━━━━━━━━━\u001b[0m\u001b[37m\u001b[0m \u001b[1m0s\u001b[0m 843us/step - accuracy: 0.4208 - loss: 1.0684 - val_accuracy: 0.3717 - val_loss: 1.0984\n",
      "Epoch 39/50\n",
      "\u001b[1m300/300\u001b[0m \u001b[32m━━━━━━━━━━━━━━━━━━━━\u001b[0m\u001b[37m\u001b[0m \u001b[1m0s\u001b[0m 706us/step - accuracy: 0.4049 - loss: 1.0721 - val_accuracy: 0.3775 - val_loss: 1.0982\n",
      "Epoch 40/50\n",
      "\u001b[1m300/300\u001b[0m \u001b[32m━━━━━━━━━━━━━━━━━━━━\u001b[0m\u001b[37m\u001b[0m \u001b[1m0s\u001b[0m 739us/step - accuracy: 0.4177 - loss: 1.0687 - val_accuracy: 0.3754 - val_loss: 1.0975\n",
      "Epoch 41/50\n",
      "\u001b[1m300/300\u001b[0m \u001b[32m━━━━━━━━━━━━━━━━━━━━\u001b[0m\u001b[37m\u001b[0m \u001b[1m0s\u001b[0m 745us/step - accuracy: 0.4151 - loss: 1.0695 - val_accuracy: 0.3825 - val_loss: 1.0964\n",
      "Epoch 42/50\n",
      "\u001b[1m300/300\u001b[0m \u001b[32m━━━━━━━━━━━━━━━━━━━━\u001b[0m\u001b[37m\u001b[0m \u001b[1m0s\u001b[0m 727us/step - accuracy: 0.4160 - loss: 1.0691 - val_accuracy: 0.3796 - val_loss: 1.0986\n",
      "Epoch 43/50\n",
      "\u001b[1m300/300\u001b[0m \u001b[32m━━━━━━━━━━━━━━━━━━━━\u001b[0m\u001b[37m\u001b[0m \u001b[1m0s\u001b[0m 743us/step - accuracy: 0.4145 - loss: 1.0728 - val_accuracy: 0.3675 - val_loss: 1.0999\n",
      "Epoch 44/50\n",
      "\u001b[1m300/300\u001b[0m \u001b[32m━━━━━━━━━━━━━━━━━━━━\u001b[0m\u001b[37m\u001b[0m \u001b[1m0s\u001b[0m 740us/step - accuracy: 0.4151 - loss: 1.0688 - val_accuracy: 0.3800 - val_loss: 1.0994\n",
      "Epoch 45/50\n",
      "\u001b[1m300/300\u001b[0m \u001b[32m━━━━━━━━━━━━━━━━━━━━\u001b[0m\u001b[37m\u001b[0m \u001b[1m0s\u001b[0m 726us/step - accuracy: 0.4100 - loss: 1.0652 - val_accuracy: 0.3812 - val_loss: 1.0994\n",
      "Epoch 46/50\n",
      "\u001b[1m300/300\u001b[0m \u001b[32m━━━━━━━━━━━━━━━━━━━━\u001b[0m\u001b[37m\u001b[0m \u001b[1m0s\u001b[0m 765us/step - accuracy: 0.4220 - loss: 1.0648 - val_accuracy: 0.3675 - val_loss: 1.0996\n",
      "Epoch 47/50\n",
      "\u001b[1m300/300\u001b[0m \u001b[32m━━━━━━━━━━━━━━━━━━━━\u001b[0m\u001b[37m\u001b[0m \u001b[1m0s\u001b[0m 738us/step - accuracy: 0.4038 - loss: 1.0677 - val_accuracy: 0.3783 - val_loss: 1.1008\n",
      "Epoch 48/50\n",
      "\u001b[1m300/300\u001b[0m \u001b[32m━━━━━━━━━━━━━━━━━━━━\u001b[0m\u001b[37m\u001b[0m \u001b[1m0s\u001b[0m 758us/step - accuracy: 0.4127 - loss: 1.0674 - val_accuracy: 0.3787 - val_loss: 1.1000\n",
      "Epoch 49/50\n",
      "\u001b[1m300/300\u001b[0m \u001b[32m━━━━━━━━━━━━━━━━━━━━\u001b[0m\u001b[37m\u001b[0m \u001b[1m0s\u001b[0m 734us/step - accuracy: 0.4065 - loss: 1.0698 - val_accuracy: 0.3708 - val_loss: 1.1010\n",
      "Epoch 50/50\n",
      "\u001b[1m300/300\u001b[0m \u001b[32m━━━━━━━━━━━━━━━━━━━━\u001b[0m\u001b[37m\u001b[0m \u001b[1m0s\u001b[0m 757us/step - accuracy: 0.4232 - loss: 1.0625 - val_accuracy: 0.3796 - val_loss: 1.1011\n",
      "\u001b[1m75/75\u001b[0m \u001b[32m━━━━━━━━━━━━━━━━━━━━\u001b[0m\u001b[37m\u001b[0m \u001b[1m0s\u001b[0m 524us/step - accuracy: 0.3796 - loss: 1.0963\n",
      "Optimized Neural Network Accuracy: 0.3796\n"
     ]
    }
   ],
   "source": [
    "from tensorflow.keras.models import Sequential\n",
    "from tensorflow.keras.layers import Dense, Dropout\n",
    "from tensorflow.keras.optimizers import Adam\n",
    "\n",
    "# Build the optimized model\n",
    "optimized_model = Sequential([\n",
    "    Dense(32, activation='relu', input_shape=(X_train.shape[1],)),  # First layer with 32 neurons\n",
    "    Dropout(0.4),  # First dropout layer\n",
    "\n",
    "    Dense(96, activation='relu'),  # Second layer with 96 neurons\n",
    "    Dropout(0.3),  # Second dropout layer\n",
    "\n",
    "    Dense(y_train.shape[1], activation='softmax')  # Output layer\n",
    "])\n",
    "\n",
    "# Compile the model with the best learning rate\n",
    "optimized_model.compile(optimizer=Adam(learning_rate=0.001),\n",
    "                        loss='categorical_crossentropy',\n",
    "                        metrics=['accuracy'])\n",
    "\n",
    "# Train the optimized model\n",
    "history = optimized_model.fit(X_train, y_train, epochs=50, batch_size=32, validation_data=(X_test, y_test), verbose=1)\n",
    "\n",
    "# Evaluate performance\n",
    "loss, accuracy = optimized_model.evaluate(X_test, y_test)\n",
    "print(f\"Optimized Neural Network Accuracy: {accuracy:.4f}\")"
   ]
  },
  {
   "cell_type": "code",
   "execution_count": 34,
   "id": "2f24a8bbca1224a1",
   "metadata": {
    "ExecuteTime": {
     "end_time": "2025-03-03T05:25:11.460962Z",
     "start_time": "2025-03-03T05:25:11.378167Z"
    }
   },
   "outputs": [
    {
     "name": "stdout",
     "output_type": "stream",
     "text": [
      "\u001b[1m75/75\u001b[0m \u001b[32m━━━━━━━━━━━━━━━━━━━━\u001b[0m\u001b[37m\u001b[0m \u001b[1m0s\u001b[0m 423us/step\n",
      "              precision    recall  f1-score   support\n",
      "\n",
      "           0       0.40      0.76      0.52       947\n",
      "           1       0.34      0.20      0.25       740\n",
      "           2       0.27      0.06      0.10       713\n",
      "\n",
      "    accuracy                           0.38      2400\n",
      "   macro avg       0.34      0.34      0.29      2400\n",
      "weighted avg       0.34      0.38      0.31      2400\n",
      "\n"
     ]
    }
   ],
   "source": [
    "from sklearn.metrics import classification_report\n",
    "import numpy as np\n",
    "\n",
    "# Convert predictions from one-hot encoding back to labels\n",
    "y_pred_classes = np.argmax(optimized_model.predict(X_test), axis=1)\n",
    "y_test_classes = np.argmax(y_test, axis=1)\n",
    "\n",
    "# Generate classification report\n",
    "print(classification_report(y_test_classes, y_pred_classes))"
   ]
  },
  {
   "cell_type": "markdown",
   "id": "6ea3ffc1",
   "metadata": {},
   "source": [
    "The optimized Neural Network achieved 37% accuracy, showing slight improvement over previous versions. However, recall for class 2 (severe anxiety attacks) remains very low (4%), indicating the model struggles to correctly identify more severe cases."
   ]
  }
 ],
 "metadata": {
  "kernelspec": {
   "display_name": "Python 3 (ipykernel)",
   "language": "python",
   "name": "python3"
  },
  "language_info": {
   "codemirror_mode": {
    "name": "ipython",
    "version": 3
   },
   "file_extension": ".py",
   "mimetype": "text/x-python",
   "name": "python",
   "nbconvert_exporter": "python",
   "pygments_lexer": "ipython3",
   "version": "3.9.6"
  }
 },
 "nbformat": 4,
 "nbformat_minor": 5
}
