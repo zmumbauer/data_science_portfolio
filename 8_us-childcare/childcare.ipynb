{
 "cells": [
  {
   "cell_type": "code",
   "execution_count": 16,
   "id": "67d63450152c0291",
   "metadata": {
    "ExecuteTime": {
     "end_time": "2025-06-01T20:17:32.936970Z",
     "start_time": "2025-06-01T20:17:30.618121Z"
    }
   },
   "outputs": [
    {
     "name": "stdout",
     "output_type": "stream",
     "text": [
      "Requirement already satisfied: kaleido in ./.venv/lib/python3.12/site-packages (0.2.1)\n",
      "Requirement already satisfied: dash in ./.venv/lib/python3.12/site-packages (3.0.4)\n",
      "Requirement already satisfied: Flask<3.1,>=1.0.4 in ./.venv/lib/python3.12/site-packages (from dash) (3.0.3)\n",
      "Requirement already satisfied: Werkzeug<3.1 in ./.venv/lib/python3.12/site-packages (from dash) (3.0.6)\n",
      "Requirement already satisfied: plotly>=5.0.0 in ./.venv/lib/python3.12/site-packages (from dash) (6.0.1)\n",
      "Requirement already satisfied: importlib-metadata in ./.venv/lib/python3.12/site-packages (from dash) (8.7.0)\n",
      "Requirement already satisfied: typing-extensions>=4.1.1 in ./.venv/lib/python3.12/site-packages (from dash) (4.13.2)\n",
      "Requirement already satisfied: requests in ./.venv/lib/python3.12/site-packages (from dash) (2.32.3)\n",
      "Requirement already satisfied: retrying in ./.venv/lib/python3.12/site-packages (from dash) (1.3.4)\n",
      "Requirement already satisfied: nest-asyncio in ./.venv/lib/python3.12/site-packages (from dash) (1.6.0)\n",
      "Requirement already satisfied: setuptools in ./.venv/lib/python3.12/site-packages (from dash) (80.9.0)\n",
      "Requirement already satisfied: Jinja2>=3.1.2 in ./.venv/lib/python3.12/site-packages (from Flask<3.1,>=1.0.4->dash) (3.1.6)\n",
      "Requirement already satisfied: itsdangerous>=2.1.2 in ./.venv/lib/python3.12/site-packages (from Flask<3.1,>=1.0.4->dash) (2.2.0)\n",
      "Requirement already satisfied: click>=8.1.3 in ./.venv/lib/python3.12/site-packages (from Flask<3.1,>=1.0.4->dash) (8.2.1)\n",
      "Requirement already satisfied: blinker>=1.6.2 in ./.venv/lib/python3.12/site-packages (from Flask<3.1,>=1.0.4->dash) (1.9.0)\n",
      "Requirement already satisfied: MarkupSafe>=2.1.1 in ./.venv/lib/python3.12/site-packages (from Werkzeug<3.1->dash) (3.0.2)\n",
      "Requirement already satisfied: narwhals>=1.15.1 in ./.venv/lib/python3.12/site-packages (from plotly>=5.0.0->dash) (1.41.0)\n",
      "Requirement already satisfied: packaging in ./.venv/lib/python3.12/site-packages (from plotly>=5.0.0->dash) (25.0)\n",
      "Requirement already satisfied: zipp>=3.20 in ./.venv/lib/python3.12/site-packages (from importlib-metadata->dash) (3.22.0)\n",
      "Requirement already satisfied: charset-normalizer<4,>=2 in ./.venv/lib/python3.12/site-packages (from requests->dash) (3.4.2)\n",
      "Requirement already satisfied: idna<4,>=2.5 in ./.venv/lib/python3.12/site-packages (from requests->dash) (3.10)\n",
      "Requirement already satisfied: urllib3<3,>=1.21.1 in ./.venv/lib/python3.12/site-packages (from requests->dash) (2.4.0)\n",
      "Requirement already satisfied: certifi>=2017.4.17 in ./.venv/lib/python3.12/site-packages (from requests->dash) (2025.4.26)\n",
      "Requirement already satisfied: six>=1.7.0 in ./.venv/lib/python3.12/site-packages (from retrying->dash) (1.17.0)\n",
      "Requirement already satisfied: dash in ./.venv/lib/python3.12/site-packages (3.0.4)\n",
      "Requirement already satisfied: Flask<3.1,>=1.0.4 in ./.venv/lib/python3.12/site-packages (from dash) (3.0.3)\n",
      "Requirement already satisfied: Werkzeug<3.1 in ./.venv/lib/python3.12/site-packages (from dash) (3.0.6)\n",
      "Requirement already satisfied: plotly>=5.0.0 in ./.venv/lib/python3.12/site-packages (from dash) (6.0.1)\n",
      "Requirement already satisfied: importlib-metadata in ./.venv/lib/python3.12/site-packages (from dash) (8.7.0)\n",
      "Requirement already satisfied: typing-extensions>=4.1.1 in ./.venv/lib/python3.12/site-packages (from dash) (4.13.2)\n",
      "Requirement already satisfied: requests in ./.venv/lib/python3.12/site-packages (from dash) (2.32.3)\n",
      "Requirement already satisfied: retrying in ./.venv/lib/python3.12/site-packages (from dash) (1.3.4)\n",
      "Requirement already satisfied: nest-asyncio in ./.venv/lib/python3.12/site-packages (from dash) (1.6.0)\n",
      "Requirement already satisfied: setuptools in ./.venv/lib/python3.12/site-packages (from dash) (80.9.0)\n",
      "Requirement already satisfied: Jinja2>=3.1.2 in ./.venv/lib/python3.12/site-packages (from Flask<3.1,>=1.0.4->dash) (3.1.6)\n",
      "Requirement already satisfied: itsdangerous>=2.1.2 in ./.venv/lib/python3.12/site-packages (from Flask<3.1,>=1.0.4->dash) (2.2.0)\n",
      "Requirement already satisfied: click>=8.1.3 in ./.venv/lib/python3.12/site-packages (from Flask<3.1,>=1.0.4->dash) (8.2.1)\n",
      "Requirement already satisfied: blinker>=1.6.2 in ./.venv/lib/python3.12/site-packages (from Flask<3.1,>=1.0.4->dash) (1.9.0)\n",
      "Requirement already satisfied: MarkupSafe>=2.1.1 in ./.venv/lib/python3.12/site-packages (from Werkzeug<3.1->dash) (3.0.2)\n",
      "Requirement already satisfied: narwhals>=1.15.1 in ./.venv/lib/python3.12/site-packages (from plotly>=5.0.0->dash) (1.41.0)\n",
      "Requirement already satisfied: packaging in ./.venv/lib/python3.12/site-packages (from plotly>=5.0.0->dash) (25.0)\n",
      "Requirement already satisfied: zipp>=3.20 in ./.venv/lib/python3.12/site-packages (from importlib-metadata->dash) (3.22.0)\n",
      "Requirement already satisfied: charset-normalizer<4,>=2 in ./.venv/lib/python3.12/site-packages (from requests->dash) (3.4.2)\n",
      "Requirement already satisfied: idna<4,>=2.5 in ./.venv/lib/python3.12/site-packages (from requests->dash) (3.10)\n",
      "Requirement already satisfied: urllib3<3,>=1.21.1 in ./.venv/lib/python3.12/site-packages (from requests->dash) (2.4.0)\n",
      "Requirement already satisfied: certifi>=2017.4.17 in ./.venv/lib/python3.12/site-packages (from requests->dash) (2025.4.26)\n",
      "Requirement already satisfied: six>=1.7.0 in ./.venv/lib/python3.12/site-packages (from retrying->dash) (1.17.0)\n"
     ]
    }
   ],
   "source": [
    "import pandas as pd\n",
    "import plotly.express as px\n",
    "import plotly.io as pio\n",
    "!pip install -U kaleido\n",
    "!pip install dash"
   ]
  },
  {
   "cell_type": "code",
   "execution_count": 17,
   "id": "546d9a2f326a89c2",
   "metadata": {
    "ExecuteTime": {
     "end_time": "2025-06-01T20:19:43.338428Z",
     "start_time": "2025-06-01T20:17:32.951784Z"
    }
   },
   "outputs": [
    {
     "name": "stdout",
     "output_type": "stream",
     "text": [
      "Sheet Names: ['County_LevelNDCP_v8_update2008_']\n"
     ]
    }
   ],
   "source": [
    "# Load Excel and show sheet names\n",
    "excel_path = \"NDCP2022.xlsx\"\n",
    "excel = pd.ExcelFile(excel_path)\n",
    "print(\"Sheet Names:\", excel.sheet_names)\n",
    "\n",
    "# Load the data\n",
    "df = excel.parse(excel.sheet_names[0])"
   ]
  },
  {
   "cell_type": "code",
   "execution_count": 18,
   "id": "dabb96a15c14acbe",
   "metadata": {
    "ExecuteTime": {
     "end_time": "2025-06-01T20:19:43.605497Z",
     "start_time": "2025-06-01T20:19:43.602699Z"
    }
   },
   "outputs": [
    {
     "name": "stdout",
     "output_type": "stream",
     "text": [
      "\n",
      "Column Names:\n",
      "['STATE_NAME', 'STATE_ABBREVIATION', 'COUNTY_NAME', 'COUNTY_FIPS_CODE', 'STUDYYEAR', 'EMR_16', 'FEMR_16', 'MEMR_16', 'EMR_20to64', 'FEMR_20to64', 'MEMR_20to64', 'UNR_16', 'FUNR_16', 'MUNR_16', 'UNR_20to64', 'FUNR_20to64', 'MUNR_20to64', 'FLFPR_20to64', 'FLFPR_20to64_UNDER6', 'FLFPR_20to64_6to17', 'FLFPR_20to64_UNDER6_6to17', 'MLFPR_20to64', 'PR_F', 'PR_P', 'MHI', 'MFI', 'MFI_2022', 'ME', 'FME', 'MME', 'MHI_2022', 'ME_2022', 'FME_2022', 'MME_2022', 'TOTALPOP', 'ONERACE', 'ONERACE_W', 'ONERACE_B', 'ONERACE_I', 'ONERACE_A', 'ONERACE_H', 'ONERACE_OTHER', 'TWORACES', 'HISPANIC', 'HOUSEHOLDS', 'H_UNDER6_BOTHWORK', 'H_UNDER6_FWORK', 'H_UNDER6_MWORK', 'H_UNDER6_SINGLEM', 'H_6to17_BOTHWORK', 'H_6to17_FWORK', 'H_6to17_MWORK', 'H_6to17_SINGLEM', 'EMP_M', 'MEMP_M', 'FEMP_M', 'EMP_SERVICE', 'MEMP_SERVICE', 'FEMP_SERVICE', 'EMP_SALES', 'MEMP_SALES', 'FEMP_SALES', 'EMP_N', 'MEMP_N', 'FEMP_N', 'EMP_P', 'MEMP_P', 'FEMP_P', 'iEMR_16', 'iFEMR_16', 'iMEMR_16', 'iEMR_20to64', 'iFEMR_20to64', 'iMEMR_20to64', 'iUNR_16', 'iFUNR_16', 'iMUNR_16', 'iUNR_20to64', 'iFUNR_20to64', 'iMUNR_20to64', 'iFLFPR_20to64', 'iFLFPR_20to64_UNDER6', 'iFLFPR_20to64_6to17', 'iFLFPR_20to64_UNDER6_6to17', 'iMLFPR_20to64', 'iPR_F', 'iPR_P', 'iMHI', 'iMFI', 'iME', 'iFME', 'iMME', 'iMHI_2022', 'iMFI_2022', 'iME_2022', 'iFME_2022', 'iMME_2022', 'iTOTALPOP', 'iONERACE', 'iONERACE_W', 'iONERACE_B', 'iONERACE_I', 'iONERACE_A', 'iONERACE_H', 'iONERACE_OTHER', 'iTWORACES', 'iHISPANIC', 'iHOUSEHOLDS', 'iH_UNDER6_BOTHWORK', 'iH_UNDER6_FWORK', 'iH_UNDER6_MWORK', 'iH_UNDER6_SINGLEM', 'iH_6to17_BOTHWORK', 'iH_6to17_FWORK', 'iH_6to17_MWORK', 'iH_6to17_SINGLEM', 'iEMP_M', 'iMEMP_M', 'iFEMP_M', 'iEMP_SERVICE', 'iMEMP_SERVICE', 'iFEMP_SERVICE', 'iEMP_SALES', 'iMEMP_SALES', 'iFEMP_SALES', 'iEMP_N', 'iMEMP_N', 'iFEMP_N', 'iEMP_P', 'iMEMP_P', 'iFEMP_P', 'MCBto5', 'MC6to11', 'MC12to17', 'MC18to23', 'MC24to29', 'MC30to35', 'MC36to41', 'MC42to47', 'MC48to53', 'MC54toSA', 'MCSA', 'MFCCBto5', 'MFCC6to11', 'MFCC12to17', 'MFCC18to23', 'MFCC24to29', 'MFCC30to35', 'MFCC36to41', 'MFCC42to47', 'MFCC48to53', 'MFCC54toSA', 'MFCCSA', '_75CBto5', '_75C6to11', '_75C12to17', '_75C18to23', '_75C24to29', '_75C30to35', '_75C36to41', '_75C42to47', '_75C48to53', '_75C54toSA', '_75CSA', '_75FCCBto5', '_75FCC6to11', '_75FCC12to17', '_75FCC18to23', '_75FCC24to29', '_75FCC30to35', '_75FCC36to41', '_75FCC42to47', '_75FCC48to53', '_75FCC54toSA', '_75FCCSA', 'iMCBto5', 'iMC6to11', 'iMC12to17', 'iMC18to23', 'iMC24to29', 'iMC30to35', 'iMC36to41', 'iMC42to47', 'iMC48to53', 'iMC54toSA', 'iMCSA', 'iMFCCBto5', 'iMFCC6to11', 'iMFCC12to17', 'iMFCC18to23', 'iMFCC24to29', 'iMFCC30to35', 'iMFCC36to41', 'iMFCC42to47', 'iMFCC48to53', 'iMFCC54toSA', 'iMFCCSA', 'i_75CBto5', 'i_75C6to11', 'i_75C12to17', 'i_75C18to23', 'i_75C24to29', 'i_75C30to35', 'i_75C36to41', 'i_75C42to47', 'i_75C48to53', 'i_75C54toSA', 'i_75CSA', 'i_75FCCBto5', 'i_75FCC6to11', 'i_75FCC12to17', 'i_75FCC18to23', 'i_75FCC24to29', 'i_75FCC30to35', 'i_75FCC36to41', 'i_75FCC42to47', 'i_75FCC48to53', 'i_75FCC54toSA', 'i_75FCCSA', 'MCINFANT', 'MCInfant_flag', 'MCTODDLER', 'MCToddler_flag', 'MCPRESCHOOL', 'MCPreschool_flag', '_75CINFANT', '_75CInfant_flag', '_75CTODDLER', '_75CToddler_flag', '_75CPRESCHOOL', '_75CPreschool_flag', 'MFCCINFANT', 'MFCCInfant_flag', 'MFCCTODDLER', 'MFCCToddler_flag', 'MFCCPRESCHOOL', 'MFCCPreschool_flag', '_75FCCINFANT', '_75FCCInfant_flag', '_75FCCTODDLER', '_75FCCToddler_flag', '_75FCCPRESCHOOL', '_75FCCPreschool_flag', 'STATE_FIPS', 'EMR_16_STATE', 'FEMR_16_STATE', 'MEMR_16_STATE', 'EMR_20to64_STATE', 'FEMR_20to64_STATE', 'MEMR_20to64_STATE', 'UNR_16_STATE', 'FUNR_16_STATE', 'MUNR_16_STATE', 'UNR_20to64_STATE', 'FUNR_20to64_STATE', 'MUNR_20to64_STATE', 'FLFPR_20to64_STATE', 'FLFPR_20to64_UNDER6_STATE', 'FLFPR_20to64_6to17_STATE', 'FLFPR_20to64_UNDER6_6to17_STATE', 'MLFPR_20to64_STATE', 'PR_F_STATE', 'PR_P_STATE', 'MHI_STATE', 'MFI_STATE', 'MFI_2022_STATE', 'ME_STATE', 'FME_STATE', 'MME_STATE', 'MHI_2022_STATE', 'ME_2022_STATE', 'FME_2022_STATE', 'MME_2022_STATE', 'TOTALPOP_STATE', 'ONERACE_STATE', 'ONERACE_W_STATE', 'ONERACE_B_STATE', 'ONERACE_I_STATE', 'ONERACE_A_STATE', 'ONERACE_H_STATE', 'ONERACE_OTHER_STATE', 'TWORACES_STATE', 'HISPANIC_STATE', 'HOUSEHOLDS_STATE', 'H_UNDER6_BOTHWORK_STATE', 'H_UNDER6_FWORK_STATE', 'H_UNDER6_MWORK_STATE', 'H_UNDER6_SINGLEM_STATE', 'H_6to17_BOTHWORK_STATE', 'H_6to17_FWORK_STATE', 'H_6to17_MWORK_STATE', 'H_6to17_SINGLEM_STATE', 'EMP_M_STATE', 'MEMP_M_STATE', 'FEMP_M_STATE', 'EMP_SERVICE_STATE', 'MEMP_SERVICE_STATE', 'FEMP_SERVICE_STATE', 'EMP_SALES_STATE', 'MEMP_SALES_STATE', 'FEMP_SALES_STATE', 'EMP_N_STATE', 'MEMP_N_STATE', 'FEMP_N_STATE', 'EMP_P_STATE', 'MEMP_P_STATE', 'FEMP_P_STATE', 'iEMR_16_STATE', 'iFEMR_16_STATE', 'iMEMR_16_STATE', 'iEMR_20to64_STATE', 'iFEMR_20to64_STATE', 'iMEMR_20to64_STATE', 'iUNR_16_STATE', 'iFUNR_16_STATE', 'iMUNR_16_STATE', 'iUNR_20to64_STATE', 'iFUNR_20to64_STATE', 'iMUNR_20to64_STATE', 'iFLFPR_20to64_STATE', 'iFLFPR_20to64_Under6_STATE', 'iFLFPR_20to64_6to17_STATE', 'iFLFPR_20to64_Under6_6to17_STATE', 'iMLFPR_20to64_STATE', 'iPR_F_STATE', 'iPR_P_STATE', 'iMHI_STATE', 'iMFI_STATE', 'iME_STATE', 'iFME_STATE', 'iMME_STATE', 'iMHI_2022_STATE', 'iMFI_2022_STATE', 'iME_2022_STATE', 'iFME_2022_STATE', 'iMME_2022_STATE', 'iTOTALPOP_STATE', 'iONERACE_STATE', 'iONERACE_W_STATE', 'iONERACE_B_STATE', 'iONERACE_I_STATE', 'iONERACE_A_STATE', 'iONERACE_H_STATE', 'iONERACE_OTHER_STATE', 'iTWORACES_STATE', 'iHISPANIC_STATE', 'iHOUSEHOLDS_STATE', 'iH_UNDER6_BOTHWORK_STATE', 'iH_UNDER6_FWORK_STATE', 'iH_UNDER6_MWORK_STATE', 'iH_UNDER6_SINGLEM_STATE', 'iH_6to17_BOTHWORK_STATE', 'iH_6to17_FWORK_STATE', 'iH_6to17_MWORK_STATE', 'iH_6to17_SINGLEM_STATE', 'iEMP_M_STATE', 'iMEMP_M_STATE', 'iFEMP_M_STATE', 'iEMP_SERVICE_STATE', 'iMEMP_SERVICE_STATE', 'iFEMP_SERVICE_STATE', 'iEMP_SALES_STATE', 'iMEMP_SALES_STATE', 'iFEMP_SALES_STATE', 'iEMP_N_STATE', 'iMEMP_N_STATE', 'iFEMP_N_STATE', 'iEMP_P_STATE', 'iMEMP_P_STATE', 'iFEMP_P_STATE']\n"
     ]
    }
   ],
   "source": [
    "# Show column names\n",
    "print(\"\\nColumn Names:\")\n",
    "print(df.columns.tolist())"
   ]
  },
  {
   "cell_type": "code",
   "execution_count": 19,
   "id": "5636806d7d017b37",
   "metadata": {
    "ExecuteTime": {
     "end_time": "2025-06-01T20:19:43.632369Z",
     "start_time": "2025-06-01T20:19:43.620990Z"
    }
   },
   "outputs": [
    {
     "name": "stdout",
     "output_type": "stream",
     "text": [
      "\n",
      "Sample Data:\n",
      "  STATE_NAME STATE_ABBREVIATION     COUNTY_NAME  COUNTY_FIPS_CODE  STUDYYEAR  \\\n",
      "0    Alabama                 AL  Autauga County              1001       2008   \n",
      "1    Alabama                 AL  Autauga County              1001       2009   \n",
      "2    Alabama                 AL  Autauga County              1001       2010   \n",
      "3    Alabama                 AL  Autauga County              1001       2011   \n",
      "4    Alabama                 AL  Autauga County              1001       2012   \n",
      "\n",
      "   EMR_16  FEMR_16  MEMR_16  EMR_20to64  FEMR_20to64  ...  \\\n",
      "0    61.5     56.1     67.3        71.4         66.3  ...   \n",
      "1    60.6     54.8     67.0        72.5         66.9  ...   \n",
      "2    60.4     54.9     66.4        72.3         67.4  ...   \n",
      "3    58.7     52.4     65.6        71.0         64.9  ...   \n",
      "4    57.7     52.2     63.8        70.7         65.1  ...   \n",
      "\n",
      "   iFEMP_SERVICE_STATE  iEMP_SALES_STATE  iMEMP_SALES_STATE  \\\n",
      "0                    1                 1                  1   \n",
      "1                    1                 1                  1   \n",
      "2                    1                 1                  1   \n",
      "3                    1                 1                  1   \n",
      "4                    1                 1                  1   \n",
      "\n",
      "   iFEMP_SALES_STATE  iEMP_N_STATE  iMEMP_N_STATE  iFEMP_N_STATE  \\\n",
      "0                  1             1              1              1   \n",
      "1                  1             1              1              1   \n",
      "2                  1             1              1              1   \n",
      "3                  1             1              1              1   \n",
      "4                  1             1              1              1   \n",
      "\n",
      "   iEMP_P_STATE  iMEMP_P_STATE  iFEMP_P_STATE  \n",
      "0             1              1              1  \n",
      "1             1              1              1  \n",
      "2             1              1              1  \n",
      "3             1              1              1  \n",
      "4             1              1              1  \n",
      "\n",
      "[5 rows x 370 columns]\n"
     ]
    }
   ],
   "source": [
    "# Show first 5 rows\n",
    "print(\"\\nSample Data:\")\n",
    "print(df.head())\n",
    "# export to csv\n",
    "df.head().to_csv('NDCP2022_head.csv', index=False)"
   ]
  },
  {
   "cell_type": "code",
   "execution_count": 20,
   "id": "76ab631389cf3120",
   "metadata": {
    "ExecuteTime": {
     "end_time": "2025-06-01T20:19:43.688495Z",
     "start_time": "2025-06-01T20:19:43.671751Z"
    }
   },
   "outputs": [
    {
     "name": "stdout",
     "output_type": "stream",
     "text": [
      "Unique values in STATE_NAME: ['Alabama' 'Alaska' 'Arizona' 'Arkansas' 'California' 'Colorado'\n",
      " 'Connecticut' 'Delaware' 'District of Columbia' 'Florida' 'Georgia'\n",
      " 'Hawaii' 'Idaho' 'Illinois' 'Indiana' 'Iowa' 'Kansas' 'Kentucky'\n",
      " 'Louisiana' 'Maine' 'Maryland' 'Massachusetts' 'Michigan' 'Minnesota'\n",
      " 'Mississippi' 'Missouri' 'Montana' 'Nebraska' 'Nevada' 'New Hampshire'\n",
      " 'New Jersey' 'New Mexico' 'New York' 'North Carolina' 'North Dakota'\n",
      " 'Ohio' 'Oklahoma' 'Oregon' 'Pennsylvania' 'Rhode Island' 'South Carolina'\n",
      " 'South Dakota' 'Tennessee' 'Texas' 'Utah' 'Vermont' 'Virginia'\n",
      " 'Washington' 'West Virginia' 'Wisconsin' 'Wyoming' 'Puerto Rico']\n",
      "Unique values in COUNTY_NAME (first 10): 0       Autauga County\n",
      "15      Baldwin County\n",
      "30      Barbour County\n",
      "45         Bibb County\n",
      "60       Blount County\n",
      "75      Bullock County\n",
      "90       Butler County\n",
      "105     Calhoun County\n",
      "120    Chambers County\n",
      "135    Cherokee County\n",
      "Name: COUNTY_NAME, dtype: object\n",
      "LEVEL\n",
      "county    48308\n",
      "Name: count, dtype: int64\n",
      "  STATE_NAME     COUNTY_NAME   LEVEL\n",
      "0    Alabama  Autauga County  county\n",
      "1    Alabama  Autauga County  county\n",
      "2    Alabama  Autauga County  county\n",
      "3    Alabama  Autauga County  county\n",
      "4    Alabama  Autauga County  county\n",
      "5    Alabama  Autauga County  county\n",
      "6    Alabama  Autauga County  county\n",
      "7    Alabama  Autauga County  county\n",
      "8    Alabama  Autauga County  county\n",
      "9    Alabama  Autauga County  county\n"
     ]
    }
   ],
   "source": [
    "# Check the presence of county/state indicators\n",
    "print(\"Unique values in STATE_NAME:\", df['STATE_NAME'].unique())\n",
    "print(\"Unique values in COUNTY_NAME (first 10):\", df['COUNTY_NAME'].drop_duplicates().head(10))\n",
    "\n",
    "# Add a new column 'LEVEL' based on whether COUNTY_NAME is missing\n",
    "df['LEVEL'] = df['COUNTY_NAME'].isnull().map({True: 'state', False: 'county'})\n",
    "\n",
    "# Count rows by type\n",
    "print(df['LEVEL'].value_counts())\n",
    "print(df[['STATE_NAME', 'COUNTY_NAME', 'LEVEL']].head(10))"
   ]
  },
  {
   "cell_type": "code",
   "execution_count": 21,
   "id": "7090fb2262e20ec9",
   "metadata": {
    "ExecuteTime": {
     "end_time": "2025-06-01T20:19:43.784198Z",
     "start_time": "2025-06-01T20:19:43.739850Z"
    }
   },
   "outputs": [
    {
     "name": "stdout",
     "output_type": "stream",
     "text": [
      "LEVEL\n",
      "county    48308\n",
      "Name: count, dtype: int64\n",
      "\n",
      "Sample State-Level Rows:\n",
      "Empty DataFrame\n",
      "Columns: [STATE_NAME, COUNTY_NAME, STUDYYEAR]\n",
      "Index: []\n",
      "\n",
      "Sample County-Level Rows:\n",
      "  STATE_NAME     COUNTY_NAME  STUDYYEAR\n",
      "0    Alabama  Autauga County       2008\n",
      "1    Alabama  Autauga County       2009\n",
      "2    Alabama  Autauga County       2010\n",
      "3    Alabama  Autauga County       2011\n",
      "4    Alabama  Autauga County       2012\n"
     ]
    }
   ],
   "source": [
    "# Determine if rows are state-level or county-level\n",
    "df['LEVEL'] = df['COUNTY_NAME'].isnull().map({True: 'state', False: 'county'})\n",
    "\n",
    "# Count number of state vs county rows\n",
    "print(df['LEVEL'].value_counts())\n",
    "\n",
    "# Display some state-level rows\n",
    "print(\"\\nSample State-Level Rows:\")\n",
    "print(df[df['LEVEL'] == 'state'][['STATE_NAME', 'COUNTY_NAME', 'STUDYYEAR']].head())\n",
    "\n",
    "# Display some county-level rows\n",
    "print(\"\\nSample County-Level Rows:\")\n",
    "print(df[df['LEVEL'] == 'county'][['STATE_NAME', 'COUNTY_NAME', 'STUDYYEAR']].head())"
   ]
  },
  {
   "cell_type": "code",
   "execution_count": 22,
   "id": "17f46da092a39ba4",
   "metadata": {
    "ExecuteTime": {
     "end_time": "2025-06-01T20:19:43.834629Z",
     "start_time": "2025-06-01T20:19:43.800639Z"
    }
   },
   "outputs": [
    {
     "name": "stdout",
     "output_type": "stream",
     "text": [
      "  STATE_NAME  STUDYYEAR  Center-Based Infant Cost  \\\n",
      "0    Alabama       2008                 96.829104   \n",
      "1    Alabama       2009                 98.364776   \n",
      "2    Alabama       2010                 99.903582   \n",
      "3    Alabama       2011                101.439701   \n",
      "4    Alabama       2012                102.975821   \n",
      "\n",
      "   Family Child Care Infant Cost  Center-Based Preschool Cost  \\\n",
      "0                      85.014776                    87.484030   \n",
      "1                      86.359104                    89.189701   \n",
      "2                      87.702985                    90.895373   \n",
      "3                      89.048358                    92.601493   \n",
      "4                      90.391343                    94.307612   \n",
      "\n",
      "   Family Child Care Preschool Cost      MHI_2022  \n",
      "0                         83.221194  49241.059701  \n",
      "1                         84.690896  49440.746269  \n",
      "2                         86.159403  50269.611940  \n",
      "3                         87.631343  49329.626866  \n",
      "4                         89.101045  48778.447761  \n"
     ]
    }
   ],
   "source": [
    "# Infant and Preschool column groups\n",
    "center_infant_cols = [\"MCBto5\", \"MC6to11\", \"MC12to17\"]\n",
    "center_preschool_cols = [\"MC36to41\", \"MC42to47\", \"MC48to53\"]\n",
    "family_infant_cols = [\"MFCCBto5\", \"MFCC6to11\", \"MFCC12to17\"]\n",
    "family_preschool_cols = [\"MFCC36to41\", \"MFCC42to47\", \"MFCC48to53\"]\n",
    "\n",
    "# Create new columns for average infant and preschool costs\n",
    "df[\"Center-Based Infant Cost\"] = df[center_infant_cols].mean(axis=1, skipna=True)\n",
    "df[\"Family Child Care Infant Cost\"] = df[family_infant_cols].mean(axis=1, skipna=True)\n",
    "df[\"Center-Based Preschool Cost\"] = df[center_preschool_cols].mean(axis=1, skipna=True)\n",
    "df[\"Family Child Care Preschool Cost\"] = df[family_preschool_cols].mean(axis=1, skipna=True)\n",
    "\n",
    "# Aggregate by state and year\n",
    "df_grouped = df[[\n",
    "    \"STATE_NAME\", \"STUDYYEAR\", \"Center-Based Infant Cost\", \"Family Child Care Infant Cost\",\n",
    "    \"Center-Based Preschool Cost\", \"Family Child Care Preschool Cost\", \"MHI_2022\"\n",
    "]].dropna()\n",
    "\n",
    "df_statelevel = df_grouped.groupby([\"STATE_NAME\", \"STUDYYEAR\"]).mean(numeric_only=True).reset_index()\n",
    "\n",
    "print(df_statelevel.head())"
   ]
  },
  {
   "cell_type": "code",
   "execution_count": 23,
   "id": "f40b1d1c38cc7400",
   "metadata": {
    "ExecuteTime": {
     "end_time": "2025-06-01T20:19:44.414546Z",
     "start_time": "2025-06-01T20:19:43.854031Z"
    }
   },
   "outputs": [
    {
     "data": {
      "image/png": "[encoded data removed]",
      "text/plain": [
       "<Figure size 800x500 with 1 Axes>"
      ]
     },
     "metadata": {},
     "output_type": "display_data"
    }
   ],
   "source": [
    "import matplotlib.pyplot as plt\n",
    "import seaborn as sns\n",
    "\n",
    "# Aggregate to national level by year\n",
    "national_trend = df_statelevel.groupby(\"STUDYYEAR\")[\"Center-Based Preschool Cost\"].mean().reset_index()\n",
    "\n",
    "# Set up dark style (optional, for consistency with white labels)\n",
    "sns.set_theme(style=\"darkgrid\")\n",
    "\n",
    "plt.figure(figsize=(8, 5))\n",
    "ax = sns.lineplot(data=national_trend, x=\"STUDYYEAR\", y=\"Center-Based Preschool Cost\", marker=\"o\")\n",
    "\n",
    "# Set title and axis labels\n",
    "plt.title(\"National Trend: Center-Based Preschool Cost (2008–2022)\", color='white')\n",
    "plt.xlabel(\"Year\", color='white')\n",
    "plt.ylabel(\"Avg Weekly Cost ($)\", color='white')\n",
    "\n",
    "# Set tick label colors\n",
    "ax.tick_params(colors='white')  # both x and y ticks\n",
    "ax.spines['bottom'].set_color('white')\n",
    "ax.spines['left'].set_color('white')\n",
    "\n",
    "# Save with transparent background\n",
    "plt.tight_layout()\n",
    "plt.savefig(\"visualizations/national_trend.png\", dpi=300, bbox_inches='tight', transparent=True)\n",
    "plt.show()"
   ]
  },
  {
   "cell_type": "code",
   "execution_count": 24,
   "id": "d1baf3ab9b7a5f1c",
   "metadata": {
    "ExecuteTime": {
     "end_time": "2025-06-01T20:19:45.011616Z",
     "start_time": "2025-06-01T20:19:44.437516Z"
    }
   },
   "outputs": [
    {
     "name": "stderr",
     "output_type": "stream",
     "text": [
      "/var/folders/h0/8v6v3t9946jddznl2qvqk22w0000gn/T/ipykernel_3810/4045567930.py:19: FutureWarning:\n",
      "\n",
      "\n",
      "\n",
      "Passing `palette` without assigning `hue` is deprecated and will be removed in v0.14.0. Assign the `y` variable to `hue` and set `legend=False` for the same effect.\n",
      "\n",
      "\n"
     ]
    },
    {
     "data": {
      "image/png": "[encoded data removed]",
      "text/plain": [
       "<Figure size 1000x600 with 1 Axes>"
      ]
     },
     "metadata": {},
     "output_type": "display_data"
    }
   ],
   "source": [
    "import matplotlib.pyplot as plt\n",
    "import seaborn as sns\n",
    "\n",
    "# Set style\n",
    "sns.set_theme(style=\"darkgrid\")\n",
    "\n",
    "# Get latest year\n",
    "latest_year = df_statelevel['STUDYYEAR'].max()\n",
    "\n",
    "# Top 10 states\n",
    "top10_states = (\n",
    "    df_statelevel[df_statelevel['STUDYYEAR'] == latest_year]\n",
    "    .sort_values(\"Center-Based Preschool Cost\", ascending=False)\n",
    "    .head(10)\n",
    ")\n",
    "\n",
    "# Plot\n",
    "plt.figure(figsize=(10, 6))\n",
    "ax = sns.barplot(\n",
    "    data=top10_states,\n",
    "    x=\"Center-Based Preschool Cost\",\n",
    "    y=\"STATE_NAME\",\n",
    "    palette=\"mako\"\n",
    ")\n",
    "\n",
    "# Title and labels\n",
    "plt.title(f\"Top 10 States by Center-Based Preschool Cost ({latest_year})\", color='white')\n",
    "plt.xlabel(\"Avg Weekly Cost ($)\", color='white')\n",
    "plt.ylabel(\"State\", color='white')\n",
    "\n",
    "# Tick labels\n",
    "ax.tick_params(colors='white')\n",
    "\n",
    "# Axis lines\n",
    "ax.spines['bottom'].set_color('white')\n",
    "ax.spines['left'].set_color('white')\n",
    "\n",
    "# Save image\n",
    "plt.tight_layout()\n",
    "plt.savefig(\"visualizations/top_10_states_center_based_preschool.png\", dpi=300, bbox_inches='tight', transparent=True)\n",
    "plt.show()"
   ]
  },
  {
   "cell_type": "code",
   "execution_count": 25,
   "id": "7baf324904068721",
   "metadata": {
    "ExecuteTime": {
     "end_time": "2025-06-01T20:19:45.546305Z",
     "start_time": "2025-06-01T20:19:45.028477Z"
    }
   },
   "outputs": [
    {
     "name": "stderr",
     "output_type": "stream",
     "text": [
      "/var/folders/h0/8v6v3t9946jddznl2qvqk22w0000gn/T/ipykernel_3810/3469732909.py:18: FutureWarning:\n",
      "\n",
      "\n",
      "\n",
      "Passing `palette` without assigning `hue` is deprecated and will be removed in v0.14.0. Assign the `y` variable to `hue` and set `legend=False` for the same effect.\n",
      "\n",
      "\n"
     ]
    },
    {
     "data": {
      "image/png": "[encoded data removed]",
      "text/plain": [
       "<Figure size 1000x600 with 1 Axes>"
      ]
     },
     "metadata": {},
     "output_type": "display_data"
    }
   ],
   "source": [
    "import matplotlib.pyplot as plt\n",
    "import seaborn as sns\n",
    "\n",
    "# Calculate affordability ratio\n",
    "df_statelevel[\"Affordability Ratio\"] = (\n",
    "                                               df_statelevel[\"Center-Based Preschool Cost\"] * 52\n",
    "                                       ) / df_statelevel[\"MHI_2022\"]\n",
    "\n",
    "# Filter for latest year\n",
    "latest_year = df_statelevel['STUDYYEAR'].max()\n",
    "afford_latest = df_statelevel[df_statelevel[\"STUDYYEAR\"] == latest_year]\n",
    "\n",
    "# Top 10 states by affordability burden\n",
    "top10_burden = afford_latest.sort_values(\"Affordability Ratio\", ascending=False).head(10)\n",
    "\n",
    "# Create plot\n",
    "plt.figure(figsize=(10, 6))\n",
    "ax = sns.barplot(\n",
    "    data=top10_burden,\n",
    "    x=\"Affordability Ratio\",\n",
    "    y=\"STATE_NAME\",\n",
    "    palette=\"rocket\"\n",
    ")\n",
    "\n",
    "# Update styling for white labels and ticks\n",
    "plt.title(f\"Top 10 States by Childcare Burden ({latest_year})\", color='white')\n",
    "plt.xlabel(\"Annual Cost as % of Median Income\", color='white')\n",
    "plt.ylabel(\"State\", color='white')\n",
    "ax.tick_params(colors='white')\n",
    "ax.spines['bottom'].set_color('white')\n",
    "ax.spines['left'].set_color('white')\n",
    "\n",
    "# Save as transparent PNG\n",
    "plt.tight_layout()\n",
    "plt.savefig(\"visualizations/top_10_childcare_burden.png\", dpi=300, bbox_inches='tight', transparent=True)\n",
    "plt.show()"
   ]
  },
  {
   "cell_type": "code",
   "execution_count": 40,
   "id": "a62f7c9a1c7a4437",
   "metadata": {
    "ExecuteTime": {
     "end_time": "2025-06-01T20:19:45.571162Z",
     "start_time": "2025-06-01T20:19:45.565360Z"
    }
   },
   "outputs": [],
   "source": [
    "# Filter for latest year\n",
    "latest_year = df_statelevel['STUDYYEAR'].max()\n",
    "state_map_data = df_statelevel[df_statelevel['STUDYYEAR'] == latest_year].copy()\n",
    "\n",
    "# Normalize affordability ratio\n",
    "state_map_data[\"Affordability Ratio (%)\"] = state_map_data[\"Affordability Ratio\"] * 100\n",
    "\n",
    "# Keep only required columns\n",
    "state_map_data = state_map_data[[\n",
    "    \"STATE_NAME\",\n",
    "    \"Center-Based Preschool Cost\",\n",
    "    \"Affordability Ratio (%)\"\n",
    "]].copy()\n",
    "\n",
    "# Defensive: Ensure state abbreviations and Affordability Ratio (%) exist for the map\n",
    "if \"STATE_ABBR\" not in df_statelevel.columns:\n",
    "    state_abbrev = {\n",
    "        'Alabama': 'AL', 'Alaska': 'AK', 'Arizona': 'AZ', 'Arkansas': 'AR', 'California': 'CA',\n",
    "        'Colorado': 'CO', 'Connecticut': 'CT', 'Delaware': 'DE', 'District of Columbia': 'DC',\n",
    "        'Florida': 'FL', 'Georgia': 'GA', 'Hawaii': 'HI', 'Idaho': 'ID', 'Illinois': 'IL',\n",
    "        'Indiana': 'IN', 'Iowa': 'IA', 'Kansas': 'KS', 'Kentucky': 'KY', 'Louisiana': 'LA',\n",
    "        'Maine': 'ME', 'Maryland': 'MD', 'Massachusetts': 'MA', 'Michigan': 'MI',\n",
    "        'Minnesota': 'MN', 'Mississippi': 'MS', 'Missouri': 'MO', 'Montana': 'MT',\n",
    "        'Nebraska': 'NE', 'Nevada': 'NV', 'New Hampshire': 'NH', 'New Jersey': 'NJ',\n",
    "        'New Mexico': 'NM', 'New York': 'NY', 'North Carolina': 'NC', 'North Dakota': 'ND',\n",
    "        'Ohio': 'OH', 'Oklahoma': 'OK', 'Oregon': 'OR', 'Pennsylvania': 'PA', 'Rhode Island': 'RI',\n",
    "        'South Carolina': 'SC', 'South Dakota': 'SD', 'Tennessee': 'TN', 'Texas': 'TX',\n",
    "        'Utah': 'UT', 'Vermont': 'VT', 'Virginia': 'VA', 'Washington': 'WA',\n",
    "        'West Virginia': 'WV', 'Wisconsin': 'WI', 'Wyoming': 'WY', 'Puerto Rico': 'PR'\n",
    "    }\n",
    "    df_statelevel[\"STATE_ABBR\"] = df_statelevel[\"STATE_NAME\"].map(state_abbrev)\n",
    "if \"Affordability Ratio (%)\" not in df_statelevel.columns and \"Affordability Ratio\" in df_statelevel.columns:\n",
    "    df_statelevel[\"Affordability Ratio (%)\"] = df_statelevel[\"Affordability Ratio\"] * 100"
   ]
  },
  {
   "cell_type": "code",
   "execution_count": 41,
   "id": "18eed516fed2ec06",
   "metadata": {
    "ExecuteTime": {
     "end_time": "2025-06-01T20:19:48.659953Z",
     "start_time": "2025-06-01T20:19:45.601056Z"
    }
   },
   "outputs": [
    {
     "ename": "ValueError",
     "evalue": "Value of 'locations' is not the name of a column in 'data_frame'. Expected one of ['STATE_NAME', 'Center-Based Preschool Cost', 'Affordability Ratio (%)'] but received: STATE_ABBR",
     "output_type": "error",
     "traceback": [
      "\u001b[31m---------------------------------------------------------------------------\u001b[39m",
      "\u001b[31mValueError\u001b[39m                                Traceback (most recent call last)",
      "\u001b[36mCell\u001b[39m\u001b[36m \u001b[39m\u001b[32mIn[41]\u001b[39m\u001b[32m, line 2\u001b[39m\n\u001b[32m      1\u001b[39m \u001b[38;5;66;03m# Cost map\u001b[39;00m\n\u001b[32m----> \u001b[39m\u001b[32m2\u001b[39m fig_cost = \u001b[43mpx\u001b[49m\u001b[43m.\u001b[49m\u001b[43mchoropleth\u001b[49m\u001b[43m(\u001b[49m\n\u001b[32m      3\u001b[39m \u001b[43m    \u001b[49m\u001b[43mstate_map_data\u001b[49m\u001b[43m,\u001b[49m\n\u001b[32m      4\u001b[39m \u001b[43m    \u001b[49m\u001b[43mlocations\u001b[49m\u001b[43m=\u001b[49m\u001b[33;43m\"\u001b[39;49m\u001b[33;43mSTATE_ABBR\u001b[39;49m\u001b[33;43m\"\u001b[39;49m\u001b[43m,\u001b[49m\n\u001b[32m      5\u001b[39m \u001b[43m    \u001b[49m\u001b[43mlocationmode\u001b[49m\u001b[43m=\u001b[49m\u001b[33;43m\"\u001b[39;49m\u001b[33;43mUSA-states\u001b[39;49m\u001b[33;43m\"\u001b[39;49m\u001b[43m,\u001b[49m\n\u001b[32m      6\u001b[39m \u001b[43m    \u001b[49m\u001b[43mcolor\u001b[49m\u001b[43m=\u001b[49m\u001b[33;43m\"\u001b[39;49m\u001b[33;43mCenter-Based Preschool Cost\u001b[39;49m\u001b[33;43m\"\u001b[39;49m\u001b[43m,\u001b[49m\n\u001b[32m      7\u001b[39m \u001b[43m    \u001b[49m\u001b[43mcolor_continuous_scale\u001b[49m\u001b[43m=\u001b[49m\u001b[33;43m\"\u001b[39;49m\u001b[33;43mReds\u001b[39;49m\u001b[33;43m\"\u001b[39;49m\u001b[43m,\u001b[49m\n\u001b[32m      8\u001b[39m \u001b[43m    \u001b[49m\u001b[43mscope\u001b[49m\u001b[43m=\u001b[49m\u001b[33;43m\"\u001b[39;49m\u001b[33;43musa\u001b[39;49m\u001b[33;43m\"\u001b[39;49m\u001b[43m,\u001b[49m\n\u001b[32m      9\u001b[39m \u001b[43m    \u001b[49m\u001b[43mtitle\u001b[49m\u001b[43m=\u001b[49m\u001b[33;43m\"\u001b[39;49m\u001b[33;43mCenter-Based Preschool Cost by State (2022)\u001b[39;49m\u001b[33;43m\"\u001b[39;49m\n\u001b[32m     10\u001b[39m \u001b[43m)\u001b[49m\n\u001b[32m     11\u001b[39m fig_cost.show()\n\u001b[32m     12\u001b[39m fig_cost.update_layout(\n\u001b[32m     13\u001b[39m     paper_bgcolor=\u001b[33m'\u001b[39m\u001b[33mrgba(0,0,0,0)\u001b[39m\u001b[33m'\u001b[39m,   \u001b[38;5;66;03m# transparent overall background\u001b[39;00m\n\u001b[32m     14\u001b[39m     plot_bgcolor=\u001b[33m'\u001b[39m\u001b[33mrgba(0,0,0,0)\u001b[39m\u001b[33m'\u001b[39m     \u001b[38;5;66;03m# transparent plot area\u001b[39;00m\n\u001b[32m     15\u001b[39m )\n",
      "\u001b[36mFile \u001b[39m\u001b[32m~/code/dsc_640_data_presentations/.venv/lib/python3.12/site-packages/plotly/express/_chart_types.py:1113\u001b[39m, in \u001b[36mchoropleth\u001b[39m\u001b[34m(data_frame, lat, lon, locations, locationmode, geojson, featureidkey, color, facet_row, facet_col, facet_col_wrap, facet_row_spacing, facet_col_spacing, hover_name, hover_data, custom_data, animation_frame, animation_group, category_orders, labels, color_discrete_sequence, color_discrete_map, color_continuous_scale, range_color, color_continuous_midpoint, projection, scope, center, fitbounds, basemap_visible, title, subtitle, template, width, height)\u001b[39m\n\u001b[32m   1072\u001b[39m \u001b[38;5;28;01mdef\u001b[39;00m\u001b[38;5;250m \u001b[39m\u001b[34mchoropleth\u001b[39m(\n\u001b[32m   1073\u001b[39m     data_frame=\u001b[38;5;28;01mNone\u001b[39;00m,\n\u001b[32m   1074\u001b[39m     lat=\u001b[38;5;28;01mNone\u001b[39;00m,\n\u001b[32m   (...)\u001b[39m\u001b[32m   1107\u001b[39m     height=\u001b[38;5;28;01mNone\u001b[39;00m,\n\u001b[32m   1108\u001b[39m ) -> go.Figure:\n\u001b[32m   1109\u001b[39m \u001b[38;5;250m    \u001b[39m\u001b[33;03m\"\"\"\u001b[39;00m\n\u001b[32m   1110\u001b[39m \u001b[33;03m    In a choropleth map, each row of `data_frame` is represented by a\u001b[39;00m\n\u001b[32m   1111\u001b[39m \u001b[33;03m    colored region mark on a map.\u001b[39;00m\n\u001b[32m   1112\u001b[39m \u001b[33;03m    \"\"\"\u001b[39;00m\n\u001b[32m-> \u001b[39m\u001b[32m1113\u001b[39m     \u001b[38;5;28;01mreturn\u001b[39;00m \u001b[43mmake_figure\u001b[49m\u001b[43m(\u001b[49m\n\u001b[32m   1114\u001b[39m \u001b[43m        \u001b[49m\u001b[43margs\u001b[49m\u001b[43m=\u001b[49m\u001b[38;5;28;43mlocals\u001b[39;49m\u001b[43m(\u001b[49m\u001b[43m)\u001b[49m\u001b[43m,\u001b[49m\n\u001b[32m   1115\u001b[39m \u001b[43m        \u001b[49m\u001b[43mconstructor\u001b[49m\u001b[43m=\u001b[49m\u001b[43mgo\u001b[49m\u001b[43m.\u001b[49m\u001b[43mChoropleth\u001b[49m\u001b[43m,\u001b[49m\n\u001b[32m   1116\u001b[39m \u001b[43m        \u001b[49m\u001b[43mtrace_patch\u001b[49m\u001b[43m=\u001b[49m\u001b[38;5;28;43mdict\u001b[39;49m\u001b[43m(\u001b[49m\u001b[43mlocationmode\u001b[49m\u001b[43m=\u001b[49m\u001b[43mlocationmode\u001b[49m\u001b[43m)\u001b[49m\u001b[43m,\u001b[49m\n\u001b[32m   1117\u001b[39m \u001b[43m    \u001b[49m\u001b[43m)\u001b[49m\n",
      "\u001b[36mFile \u001b[39m\u001b[32m~/code/dsc_640_data_presentations/.venv/lib/python3.12/site-packages/plotly/express/_core.py:2479\u001b[39m, in \u001b[36mmake_figure\u001b[39m\u001b[34m(args, constructor, trace_patch, layout_patch)\u001b[39m\n\u001b[32m   2476\u001b[39m layout_patch = layout_patch \u001b[38;5;129;01mor\u001b[39;00m {}\n\u001b[32m   2477\u001b[39m apply_default_cascade(args)\n\u001b[32m-> \u001b[39m\u001b[32m2479\u001b[39m args = \u001b[43mbuild_dataframe\u001b[49m\u001b[43m(\u001b[49m\u001b[43margs\u001b[49m\u001b[43m,\u001b[49m\u001b[43m \u001b[49m\u001b[43mconstructor\u001b[49m\u001b[43m)\u001b[49m\n\u001b[32m   2480\u001b[39m \u001b[38;5;28;01mif\u001b[39;00m constructor \u001b[38;5;129;01min\u001b[39;00m [go.Treemap, go.Sunburst, go.Icicle] \u001b[38;5;129;01mand\u001b[39;00m args[\u001b[33m\"\u001b[39m\u001b[33mpath\u001b[39m\u001b[33m\"\u001b[39m] \u001b[38;5;129;01mis\u001b[39;00m \u001b[38;5;129;01mnot\u001b[39;00m \u001b[38;5;28;01mNone\u001b[39;00m:\n\u001b[32m   2481\u001b[39m     args = process_dataframe_hierarchy(args)\n",
      "\u001b[36mFile \u001b[39m\u001b[32m~/code/dsc_640_data_presentations/.venv/lib/python3.12/site-packages/plotly/express/_core.py:1727\u001b[39m, in \u001b[36mbuild_dataframe\u001b[39m\u001b[34m(args, constructor)\u001b[39m\n\u001b[32m   1724\u001b[39m     args[\u001b[33m\"\u001b[39m\u001b[33mcolor\u001b[39m\u001b[33m\"\u001b[39m] = \u001b[38;5;28;01mNone\u001b[39;00m\n\u001b[32m   1725\u001b[39m \u001b[38;5;66;03m# now that things have been prepped, we do the systematic rewriting of `args`\u001b[39;00m\n\u001b[32m-> \u001b[39m\u001b[32m1727\u001b[39m df_output, wide_id_vars = \u001b[43mprocess_args_into_dataframe\u001b[49m\u001b[43m(\u001b[49m\n\u001b[32m   1728\u001b[39m \u001b[43m    \u001b[49m\u001b[43margs\u001b[49m\u001b[43m,\u001b[49m\n\u001b[32m   1729\u001b[39m \u001b[43m    \u001b[49m\u001b[43mwide_mode\u001b[49m\u001b[43m,\u001b[49m\n\u001b[32m   1730\u001b[39m \u001b[43m    \u001b[49m\u001b[43mvar_name\u001b[49m\u001b[43m,\u001b[49m\n\u001b[32m   1731\u001b[39m \u001b[43m    \u001b[49m\u001b[43mvalue_name\u001b[49m\u001b[43m,\u001b[49m\n\u001b[32m   1732\u001b[39m \u001b[43m    \u001b[49m\u001b[43mis_pd_like\u001b[49m\u001b[43m,\u001b[49m\n\u001b[32m   1733\u001b[39m \u001b[43m    \u001b[49m\u001b[43mnative_namespace\u001b[49m\u001b[43m,\u001b[49m\n\u001b[32m   1734\u001b[39m \u001b[43m\u001b[49m\u001b[43m)\u001b[49m\n\u001b[32m   1735\u001b[39m df_output: nw.DataFrame\n\u001b[32m   1736\u001b[39m \u001b[38;5;66;03m# now that `df_output` exists and `args` contains only references, we complete\u001b[39;00m\n\u001b[32m   1737\u001b[39m \u001b[38;5;66;03m# the special-case and wide-mode handling by further rewriting args and/or mutating\u001b[39;00m\n\u001b[32m   1738\u001b[39m \u001b[38;5;66;03m# df_output\u001b[39;00m\n",
      "\u001b[36mFile \u001b[39m\u001b[32m~/code/dsc_640_data_presentations/.venv/lib/python3.12/site-packages/plotly/express/_core.py:1328\u001b[39m, in \u001b[36mprocess_args_into_dataframe\u001b[39m\u001b[34m(args, wide_mode, var_name, value_name, is_pd_like, native_namespace)\u001b[39m\n\u001b[32m   1326\u001b[39m         \u001b[38;5;28;01mif\u001b[39;00m argument == \u001b[33m\"\u001b[39m\u001b[33mindex\u001b[39m\u001b[33m\"\u001b[39m:\n\u001b[32m   1327\u001b[39m             err_msg += \u001b[33m\"\u001b[39m\u001b[38;5;130;01m\\n\u001b[39;00m\u001b[33m To use the index, pass it in directly as `df.index`.\u001b[39m\u001b[33m\"\u001b[39m\n\u001b[32m-> \u001b[39m\u001b[32m1328\u001b[39m         \u001b[38;5;28;01mraise\u001b[39;00m \u001b[38;5;167;01mValueError\u001b[39;00m(err_msg)\n\u001b[32m   1329\u001b[39m \u001b[38;5;28;01melif\u001b[39;00m length \u001b[38;5;129;01mand\u001b[39;00m (actual_len := \u001b[38;5;28mlen\u001b[39m(df_input)) != length:\n\u001b[32m   1330\u001b[39m     \u001b[38;5;28;01mraise\u001b[39;00m \u001b[38;5;167;01mValueError\u001b[39;00m(\n\u001b[32m   1331\u001b[39m         \u001b[33m\"\u001b[39m\u001b[33mAll arguments should have the same length. \u001b[39m\u001b[33m\"\u001b[39m\n\u001b[32m   1332\u001b[39m         \u001b[33m\"\u001b[39m\u001b[33mThe length of column argument `df[\u001b[39m\u001b[38;5;132;01m%s\u001b[39;00m\u001b[33m]` is \u001b[39m\u001b[38;5;132;01m%d\u001b[39;00m\u001b[33m, whereas the \u001b[39m\u001b[33m\"\u001b[39m\n\u001b[32m   (...)\u001b[39m\u001b[32m   1339\u001b[39m         )\n\u001b[32m   1340\u001b[39m     )\n",
      "\u001b[31mValueError\u001b[39m: Value of 'locations' is not the name of a column in 'data_frame'. Expected one of ['STATE_NAME', 'Center-Based Preschool Cost', 'Affordability Ratio (%)'] but received: STATE_ABBR"
     ]
    }
   ],
   "source": [
    "# Cost map\n",
    "fig_cost = px.choropleth(\n",
    "    state_map_data,\n",
    "    locations=\"STATE_ABBR\",\n",
    "    locationmode=\"USA-states\",\n",
    "    color=\"Center-Based Preschool Cost\",\n",
    "    color_continuous_scale=\"Reds\",\n",
    "    scope=\"usa\",\n",
    "    title=\"Center-Based Preschool Cost by State (2022)\"\n",
    ")\n",
    "fig_cost.show()\n",
    "fig_cost.update_layout(\n",
    "    paper_bgcolor='rgba(0,0,0,0)',   # transparent overall background\n",
    "    plot_bgcolor='rgba(0,0,0,0)'     # transparent plot area\n",
    ")\n",
    "pio.write_image(fig_cost, \"visualizations/preschool_cost_by_state.png\", width=1200, height=800, scale=2)"
   ]
  },
  {
   "cell_type": "code",
   "execution_count": 42,
   "id": "557bcdc168a70f8d",
   "metadata": {
    "ExecuteTime": {
     "end_time": "2025-06-01T20:19:48.894244Z",
     "start_time": "2025-06-01T20:19:48.723671Z"
    }
   },
   "outputs": [
    {
     "ename": "ValueError",
     "evalue": "Value of 'locations' is not the name of a column in 'data_frame'. Expected one of ['STATE_NAME', 'Center-Based Preschool Cost', 'Affordability Ratio (%)'] but received: STATE_ABBR",
     "output_type": "error",
     "traceback": [
      "\u001b[31m---------------------------------------------------------------------------\u001b[39m",
      "\u001b[31mValueError\u001b[39m                                Traceback (most recent call last)",
      "\u001b[36mCell\u001b[39m\u001b[36m \u001b[39m\u001b[32mIn[42]\u001b[39m\u001b[32m, line 2\u001b[39m\n\u001b[32m      1\u001b[39m \u001b[38;5;66;03m# Affordability Map\u001b[39;00m\n\u001b[32m----> \u001b[39m\u001b[32m2\u001b[39m fig_ratio = \u001b[43mpx\u001b[49m\u001b[43m.\u001b[49m\u001b[43mchoropleth\u001b[49m\u001b[43m(\u001b[49m\n\u001b[32m      3\u001b[39m \u001b[43m    \u001b[49m\u001b[43mstate_map_data\u001b[49m\u001b[43m,\u001b[49m\n\u001b[32m      4\u001b[39m \u001b[43m    \u001b[49m\u001b[43mlocations\u001b[49m\u001b[43m=\u001b[49m\u001b[33;43m\"\u001b[39;49m\u001b[33;43mSTATE_ABBR\u001b[39;49m\u001b[33;43m\"\u001b[39;49m\u001b[43m,\u001b[49m\n\u001b[32m      5\u001b[39m \u001b[43m    \u001b[49m\u001b[43mlocationmode\u001b[49m\u001b[43m=\u001b[49m\u001b[33;43m\"\u001b[39;49m\u001b[33;43mUSA-states\u001b[39;49m\u001b[33;43m\"\u001b[39;49m\u001b[43m,\u001b[49m\n\u001b[32m      6\u001b[39m \u001b[43m    \u001b[49m\u001b[43mcolor\u001b[49m\u001b[43m=\u001b[49m\u001b[33;43m\"\u001b[39;49m\u001b[33;43mAffordability Ratio (\u001b[39;49m\u001b[33;43m%\u001b[39;49m\u001b[33;43m)\u001b[39;49m\u001b[33;43m\"\u001b[39;49m\u001b[43m,\u001b[49m\n\u001b[32m      7\u001b[39m \u001b[43m    \u001b[49m\u001b[43mcolor_continuous_scale\u001b[49m\u001b[43m=\u001b[49m\u001b[33;43m\"\u001b[39;49m\u001b[33;43mReds\u001b[39;49m\u001b[33;43m\"\u001b[39;49m\u001b[43m,\u001b[49m\n\u001b[32m      8\u001b[39m \u001b[43m    \u001b[49m\u001b[43mscope\u001b[49m\u001b[43m=\u001b[49m\u001b[33;43m\"\u001b[39;49m\u001b[33;43musa\u001b[39;49m\u001b[33;43m\"\u001b[39;49m\u001b[43m,\u001b[49m\n\u001b[32m      9\u001b[39m \u001b[43m    \u001b[49m\u001b[43mtitle\u001b[49m\u001b[43m=\u001b[49m\u001b[33;43m\"\u001b[39;49m\u001b[33;43mChildcare Affordability Ratio by State (2022)\u001b[39;49m\u001b[33;43m\"\u001b[39;49m\n\u001b[32m     10\u001b[39m \u001b[43m)\u001b[49m\n\u001b[32m     11\u001b[39m fig_ratio.show()\n\u001b[32m     12\u001b[39m fig_ratio.update_layout(\n\u001b[32m     13\u001b[39m     paper_bgcolor=\u001b[33m'\u001b[39m\u001b[33mrgba(0,0,0,0)\u001b[39m\u001b[33m'\u001b[39m,   \u001b[38;5;66;03m# transparent overall background\u001b[39;00m\n\u001b[32m     14\u001b[39m     plot_bgcolor=\u001b[33m'\u001b[39m\u001b[33mrgba(0,0,0,0)\u001b[39m\u001b[33m'\u001b[39m     \u001b[38;5;66;03m# transparent plot area\u001b[39;00m\n\u001b[32m     15\u001b[39m )\n",
      "\u001b[36mFile \u001b[39m\u001b[32m~/code/dsc_640_data_presentations/.venv/lib/python3.12/site-packages/plotly/express/_chart_types.py:1113\u001b[39m, in \u001b[36mchoropleth\u001b[39m\u001b[34m(data_frame, lat, lon, locations, locationmode, geojson, featureidkey, color, facet_row, facet_col, facet_col_wrap, facet_row_spacing, facet_col_spacing, hover_name, hover_data, custom_data, animation_frame, animation_group, category_orders, labels, color_discrete_sequence, color_discrete_map, color_continuous_scale, range_color, color_continuous_midpoint, projection, scope, center, fitbounds, basemap_visible, title, subtitle, template, width, height)\u001b[39m\n\u001b[32m   1072\u001b[39m \u001b[38;5;28;01mdef\u001b[39;00m\u001b[38;5;250m \u001b[39m\u001b[34mchoropleth\u001b[39m(\n\u001b[32m   1073\u001b[39m     data_frame=\u001b[38;5;28;01mNone\u001b[39;00m,\n\u001b[32m   1074\u001b[39m     lat=\u001b[38;5;28;01mNone\u001b[39;00m,\n\u001b[32m   (...)\u001b[39m\u001b[32m   1107\u001b[39m     height=\u001b[38;5;28;01mNone\u001b[39;00m,\n\u001b[32m   1108\u001b[39m ) -> go.Figure:\n\u001b[32m   1109\u001b[39m \u001b[38;5;250m    \u001b[39m\u001b[33;03m\"\"\"\u001b[39;00m\n\u001b[32m   1110\u001b[39m \u001b[33;03m    In a choropleth map, each row of `data_frame` is represented by a\u001b[39;00m\n\u001b[32m   1111\u001b[39m \u001b[33;03m    colored region mark on a map.\u001b[39;00m\n\u001b[32m   1112\u001b[39m \u001b[33;03m    \"\"\"\u001b[39;00m\n\u001b[32m-> \u001b[39m\u001b[32m1113\u001b[39m     \u001b[38;5;28;01mreturn\u001b[39;00m \u001b[43mmake_figure\u001b[49m\u001b[43m(\u001b[49m\n\u001b[32m   1114\u001b[39m \u001b[43m        \u001b[49m\u001b[43margs\u001b[49m\u001b[43m=\u001b[49m\u001b[38;5;28;43mlocals\u001b[39;49m\u001b[43m(\u001b[49m\u001b[43m)\u001b[49m\u001b[43m,\u001b[49m\n\u001b[32m   1115\u001b[39m \u001b[43m        \u001b[49m\u001b[43mconstructor\u001b[49m\u001b[43m=\u001b[49m\u001b[43mgo\u001b[49m\u001b[43m.\u001b[49m\u001b[43mChoropleth\u001b[49m\u001b[43m,\u001b[49m\n\u001b[32m   1116\u001b[39m \u001b[43m        \u001b[49m\u001b[43mtrace_patch\u001b[49m\u001b[43m=\u001b[49m\u001b[38;5;28;43mdict\u001b[39;49m\u001b[43m(\u001b[49m\u001b[43mlocationmode\u001b[49m\u001b[43m=\u001b[49m\u001b[43mlocationmode\u001b[49m\u001b[43m)\u001b[49m\u001b[43m,\u001b[49m\n\u001b[32m   1117\u001b[39m \u001b[43m    \u001b[49m\u001b[43m)\u001b[49m\n",
      "\u001b[36mFile \u001b[39m\u001b[32m~/code/dsc_640_data_presentations/.venv/lib/python3.12/site-packages/plotly/express/_core.py:2479\u001b[39m, in \u001b[36mmake_figure\u001b[39m\u001b[34m(args, constructor, trace_patch, layout_patch)\u001b[39m\n\u001b[32m   2476\u001b[39m layout_patch = layout_patch \u001b[38;5;129;01mor\u001b[39;00m {}\n\u001b[32m   2477\u001b[39m apply_default_cascade(args)\n\u001b[32m-> \u001b[39m\u001b[32m2479\u001b[39m args = \u001b[43mbuild_dataframe\u001b[49m\u001b[43m(\u001b[49m\u001b[43margs\u001b[49m\u001b[43m,\u001b[49m\u001b[43m \u001b[49m\u001b[43mconstructor\u001b[49m\u001b[43m)\u001b[49m\n\u001b[32m   2480\u001b[39m \u001b[38;5;28;01mif\u001b[39;00m constructor \u001b[38;5;129;01min\u001b[39;00m [go.Treemap, go.Sunburst, go.Icicle] \u001b[38;5;129;01mand\u001b[39;00m args[\u001b[33m\"\u001b[39m\u001b[33mpath\u001b[39m\u001b[33m\"\u001b[39m] \u001b[38;5;129;01mis\u001b[39;00m \u001b[38;5;129;01mnot\u001b[39;00m \u001b[38;5;28;01mNone\u001b[39;00m:\n\u001b[32m   2481\u001b[39m     args = process_dataframe_hierarchy(args)\n",
      "\u001b[36mFile \u001b[39m\u001b[32m~/code/dsc_640_data_presentations/.venv/lib/python3.12/site-packages/plotly/express/_core.py:1727\u001b[39m, in \u001b[36mbuild_dataframe\u001b[39m\u001b[34m(args, constructor)\u001b[39m\n\u001b[32m   1724\u001b[39m     args[\u001b[33m\"\u001b[39m\u001b[33mcolor\u001b[39m\u001b[33m\"\u001b[39m] = \u001b[38;5;28;01mNone\u001b[39;00m\n\u001b[32m   1725\u001b[39m \u001b[38;5;66;03m# now that things have been prepped, we do the systematic rewriting of `args`\u001b[39;00m\n\u001b[32m-> \u001b[39m\u001b[32m1727\u001b[39m df_output, wide_id_vars = \u001b[43mprocess_args_into_dataframe\u001b[49m\u001b[43m(\u001b[49m\n\u001b[32m   1728\u001b[39m \u001b[43m    \u001b[49m\u001b[43margs\u001b[49m\u001b[43m,\u001b[49m\n\u001b[32m   1729\u001b[39m \u001b[43m    \u001b[49m\u001b[43mwide_mode\u001b[49m\u001b[43m,\u001b[49m\n\u001b[32m   1730\u001b[39m \u001b[43m    \u001b[49m\u001b[43mvar_name\u001b[49m\u001b[43m,\u001b[49m\n\u001b[32m   1731\u001b[39m \u001b[43m    \u001b[49m\u001b[43mvalue_name\u001b[49m\u001b[43m,\u001b[49m\n\u001b[32m   1732\u001b[39m \u001b[43m    \u001b[49m\u001b[43mis_pd_like\u001b[49m\u001b[43m,\u001b[49m\n\u001b[32m   1733\u001b[39m \u001b[43m    \u001b[49m\u001b[43mnative_namespace\u001b[49m\u001b[43m,\u001b[49m\n\u001b[32m   1734\u001b[39m \u001b[43m\u001b[49m\u001b[43m)\u001b[49m\n\u001b[32m   1735\u001b[39m df_output: nw.DataFrame\n\u001b[32m   1736\u001b[39m \u001b[38;5;66;03m# now that `df_output` exists and `args` contains only references, we complete\u001b[39;00m\n\u001b[32m   1737\u001b[39m \u001b[38;5;66;03m# the special-case and wide-mode handling by further rewriting args and/or mutating\u001b[39;00m\n\u001b[32m   1738\u001b[39m \u001b[38;5;66;03m# df_output\u001b[39;00m\n",
      "\u001b[36mFile \u001b[39m\u001b[32m~/code/dsc_640_data_presentations/.venv/lib/python3.12/site-packages/plotly/express/_core.py:1328\u001b[39m, in \u001b[36mprocess_args_into_dataframe\u001b[39m\u001b[34m(args, wide_mode, var_name, value_name, is_pd_like, native_namespace)\u001b[39m\n\u001b[32m   1326\u001b[39m         \u001b[38;5;28;01mif\u001b[39;00m argument == \u001b[33m\"\u001b[39m\u001b[33mindex\u001b[39m\u001b[33m\"\u001b[39m:\n\u001b[32m   1327\u001b[39m             err_msg += \u001b[33m\"\u001b[39m\u001b[38;5;130;01m\\n\u001b[39;00m\u001b[33m To use the index, pass it in directly as `df.index`.\u001b[39m\u001b[33m\"\u001b[39m\n\u001b[32m-> \u001b[39m\u001b[32m1328\u001b[39m         \u001b[38;5;28;01mraise\u001b[39;00m \u001b[38;5;167;01mValueError\u001b[39;00m(err_msg)\n\u001b[32m   1329\u001b[39m \u001b[38;5;28;01melif\u001b[39;00m length \u001b[38;5;129;01mand\u001b[39;00m (actual_len := \u001b[38;5;28mlen\u001b[39m(df_input)) != length:\n\u001b[32m   1330\u001b[39m     \u001b[38;5;28;01mraise\u001b[39;00m \u001b[38;5;167;01mValueError\u001b[39;00m(\n\u001b[32m   1331\u001b[39m         \u001b[33m\"\u001b[39m\u001b[33mAll arguments should have the same length. \u001b[39m\u001b[33m\"\u001b[39m\n\u001b[32m   1332\u001b[39m         \u001b[33m\"\u001b[39m\u001b[33mThe length of column argument `df[\u001b[39m\u001b[38;5;132;01m%s\u001b[39;00m\u001b[33m]` is \u001b[39m\u001b[38;5;132;01m%d\u001b[39;00m\u001b[33m, whereas the \u001b[39m\u001b[33m\"\u001b[39m\n\u001b[32m   (...)\u001b[39m\u001b[32m   1339\u001b[39m         )\n\u001b[32m   1340\u001b[39m     )\n",
      "\u001b[31mValueError\u001b[39m: Value of 'locations' is not the name of a column in 'data_frame'. Expected one of ['STATE_NAME', 'Center-Based Preschool Cost', 'Affordability Ratio (%)'] but received: STATE_ABBR"
     ]
    }
   ],
   "source": [
    "# Affordability Map\n",
    "fig_ratio = px.choropleth(\n",
    "    state_map_data,\n",
    "    locations=\"STATE_ABBR\",\n",
    "    locationmode=\"USA-states\",\n",
    "    color=\"Affordability Ratio (%)\",\n",
    "    color_continuous_scale=\"Reds\",\n",
    "    scope=\"usa\",\n",
    "    title=\"Childcare Affordability Ratio by State (2022)\"\n",
    ")\n",
    "fig_ratio.show()\n",
    "fig_ratio.update_layout(\n",
    "    paper_bgcolor='rgba(0,0,0,0)',   # transparent overall background\n",
    "    plot_bgcolor='rgba(0,0,0,0)'     # transparent plot area\n",
    ")\n",
    "pio.write_image(fig_ratio, \"visualizations/affordability_ratio_by_state.png\", width=1200, height=800, scale=2)"
   ]
  },
  {
   "cell_type": "code",
   "execution_count": 43,
   "id": "7055f3cbf6c22418",
   "metadata": {
    "ExecuteTime": {
     "end_time": "2025-06-01T20:19:49.109253Z",
     "start_time": "2025-06-01T20:19:48.956383Z"
    }
   },
   "outputs": [
    {
     "name": "stdout",
     "output_type": "stream",
     "text": [
      "Urbanicity\n",
      "Suburban    17745\n",
      "Rural        8873\n",
      "Urban        8872\n",
      "Name: count, dtype: int64\n"
     ]
    }
   ],
   "source": [
    "# Only use county-level data\n",
    "df['LEVEL'] = df['COUNTY_NAME'].isnull().map({True: 'state', False: 'county'})\n",
    "county_df = df[df['LEVEL'] == 'county'].copy()\n",
    "\n",
    "# Drop rows missing TOTALPOP or preschool cost\n",
    "county_df = county_df.dropna(subset=[\"TOTALPOP\", \"MC36to41\"])\n",
    "\n",
    "# Create urbanicity buckets based on population quartiles\n",
    "county_df[\"Urbanicity\"] = pd.qcut(\n",
    "    county_df[\"TOTALPOP\"],\n",
    "    q=[0, 0.25, 0.75, 1.0],\n",
    "    labels=[\"Rural\", \"Suburban\", \"Urban\"]\n",
    ")\n",
    "\n",
    "print(county_df[\"Urbanicity\"].value_counts())"
   ]
  },
  {
   "cell_type": "code",
   "execution_count": 44,
   "id": "efbaada2005bb44f",
   "metadata": {
    "ExecuteTime": {
     "end_time": "2025-06-01T20:19:49.594010Z",
     "start_time": "2025-06-01T20:19:49.149437Z"
    }
   },
   "outputs": [
    {
     "name": "stderr",
     "output_type": "stream",
     "text": [
      "/var/folders/h0/8v6v3t9946jddznl2qvqk22w0000gn/T/ipykernel_3810/1848281809.py:5: FutureWarning:\n",
      "\n",
      "\n",
      "\n",
      "Passing `palette` without assigning `hue` is deprecated and will be removed in v0.14.0. Assign the `x` variable to `hue` and set `legend=False` for the same effect.\n",
      "\n",
      "\n"
     ]
    },
    {
     "data": {
      "image/png": "[encoded data removed]",
      "text/plain": [
       "<Figure size 800x600 with 1 Axes>"
      ]
     },
     "metadata": {},
     "output_type": "display_data"
    }
   ],
   "source": [
    "import matplotlib.pyplot as plt\n",
    "import seaborn as sns\n",
    "\n",
    "plt.figure(figsize=(8, 6))\n",
    "ax = sns.boxplot(\n",
    "    data=county_df,\n",
    "    x=\"Urbanicity\",\n",
    "    y=\"MC36to41\",  # Weekly center-based cost for ages ~3–3.5\n",
    "    palette=\"Set2\"\n",
    ")\n",
    "\n",
    "# White text styling\n",
    "plt.title(\"Center-Based Preschool Cost by Urbanicity (County-Level, 2022)\", color='white')\n",
    "plt.xlabel(\"Urbanicity (Based on Total Population Quartiles)\", color='white')\n",
    "plt.ylabel(\"Weekly Cost ($)\", color='white')\n",
    "ax.tick_params(colors='white')\n",
    "ax.spines['bottom'].set_color('white')\n",
    "ax.spines['left'].set_color('white')\n",
    "\n",
    "# Save with transparent background\n",
    "plt.tight_layout()\n",
    "plt.savefig(\"visualizations/urbanicity.png\", dpi=300, bbox_inches='tight', transparent=True)\n",
    "plt.show()"
   ]
  },
  {
   "cell_type": "code",
   "execution_count": 59,
   "id": "6a1f4b1367b229ee",
   "metadata": {
    "ExecuteTime": {
     "end_time": "2025-06-01T20:19:49.644597Z",
     "start_time": "2025-06-01T20:19:49.642561Z"
    }
   },
   "outputs": [
    {
     "data": {
      "text/html": [
       "\n",
       "        <iframe\n",
       "            width=\"100%\"\n",
       "            height=\"650\"\n",
       "            src=\"http://127.0.0.1:8050/\"\n",
       "            frameborder=\"0\"\n",
       "            allowfullscreen\n",
       "            \n",
       "        ></iframe>\n",
       "        "
      ],
      "text/plain": [
       "<IPython.lib.display.IFrame at 0x161d5f7d0>"
      ]
     },
     "metadata": {},
     "output_type": "display_data"
    }
   ],
   "source": [
    "# Install dash-bootstrap-components if not already installed\n",
    "!pip install dash-bootstrap-components --quiet\n",
    "\n",
    "from dash import Dash, dcc, html, Input, Output\n",
    "import dash_bootstrap_components as dbc\n",
    "import plotly.express as px\n",
    "\n",
    "# Use the dataframes already created in the notebook: df, df_statelevel, county_df\n",
    "\n",
    "# App setup\n",
    "app = Dash(__name__, external_stylesheets=[dbc.themes.DARKLY])\n",
    "years = sorted(df_statelevel['STUDYYEAR'].unique())\n",
    "latest_year = max(years)\n",
    "\n",
    "# Layout\n",
    "def get_layout():\n",
    "    return dbc.Container([\n",
    "        html.H2(\"U.S. Childcare Cost & Affordability Dashboard\", style={\"color\": \"white\", \"marginTop\": 20}),\n",
    "        html.Div([\n",
    "            html.Label(\"Select Year:\", style={\"color\": \"white\", \"marginRight\": 10}),\n",
    "            dcc.Dropdown(\n",
    "                id=\"year-dropdown\",\n",
    "                options=[{\"label\": str(y), \"value\": y} for y in years],\n",
    "                value=latest_year,\n",
    "                clearable=False,\n",
    "                style={\"width\": \"200px\", \"color\": \"#222\"}\n",
    "            ),\n",
    "        ], style={\"marginBottom\": 30}),\n",
    "        dbc.Row([\n",
    "            dbc.Col([\n",
    "                dcc.Graph(id=\"national-trend\", config={\"displayModeBar\": False}),\n",
    "            ], width=6),\n",
    "            dbc.Col([\n",
    "                dcc.Graph(id=\"top10-bar\", config={\"displayModeBar\": False}),\n",
    "            ], width=6),\n",
    "        ]),\n",
    "        dbc.Row([\n",
    "            dbc.Col([\n",
    "                dcc.Graph(id=\"choropleth\", config={\"displayModeBar\": False}),\n",
    "            ], width=6),\n",
    "            dbc.Col([\n",
    "                dcc.Graph(id=\"urbanicity-box\", config={\"displayModeBar\": False}),\n",
    "            ], width=6),\n",
    "        ]),\n",
    "    ], fluid=True, style={\"backgroundColor\": \"#222\", \"paddingBottom\": 40})\n",
    "\n",
    "app.layout = get_layout\n",
    "\n",
    "# Callbacks\n",
    "def make_dashboard_callbacks(app):\n",
    "    @app.callback(\n",
    "        Output(\"national-trend\", \"figure\"),\n",
    "        Output(\"top10-bar\", \"figure\"),\n",
    "        Output(\"choropleth\", \"figure\"),\n",
    "        Output(\"urbanicity-box\", \"figure\"),\n",
    "        Input(\"year-dropdown\", \"value\"),\n",
    "    )\n",
    "    def update_dashboard(selected_year):\n",
    "        # 1. National Trend (static)\n",
    "        national_trend = df_statelevel.groupby(\"STUDYYEAR\")[\"Center-Based Preschool Cost\"].mean().reset_index()\n",
    "        fig_trend = px.line(\n",
    "            national_trend,\n",
    "            x=\"STUDYYEAR\",\n",
    "            y=\"Center-Based Preschool Cost\",\n",
    "            markers=True,\n",
    "            title=\"National Trend: Center-Based Preschool Cost (2008–2022)\"\n",
    "        )\n",
    "        fig_trend.update_layout(\n",
    "            template=\"plotly_dark\",\n",
    "            paper_bgcolor='rgba(0,0,0,0)',\n",
    "            plot_bgcolor='rgba(0,0,0,0)',\n",
    "            font_color=\"white\",\n",
    "            title_font_color=\"white\"\n",
    "        )\n",
    "        fig_trend.update_xaxes(title=\"Year\", color=\"white\")\n",
    "        fig_trend.update_yaxes(title=\"Avg Weekly Cost ($)\", color=\"white\")\n",
    "\n",
    "        # 2. Top Right: Use a box plot of Center-Based Preschool Cost by region (if available), else by all states\n",
    "        try:\n",
    "            # Try to use a region column if it exists, else just plot all state costs as a box plot\n",
    "            if \"REGION\" in df_statelevel.columns:\n",
    "                box_data = df_statelevel[df_statelevel[\"STUDYYEAR\"] == selected_year]\n",
    "                box_data = box_data.dropna(subset=[\"Center-Based Preschool Cost\", \"REGION\"])\n",
    "                if box_data.empty:\n",
    "                    fig_top10 = safe_box(title=f\"No data for {selected_year}\")\n",
    "                else:\n",
    "                    fig_top10 = safe_box(\n",
    "                        box_data,\n",
    "                        x=\"REGION\",\n",
    "                        y=\"Center-Based Preschool Cost\",\n",
    "                        color=\"REGION\",\n",
    "                        title=f\"Center-Based Preschool Cost by Region ({selected_year})\"\n",
    "                    )\n",
    "                    fig_top10.update_layout(\n",
    "                        template=\"plotly_dark\",\n",
    "                        paper_bgcolor='rgba(0,0,0,0)',\n",
    "                        plot_bgcolor='rgba(0,0,0,0)',\n",
    "                        font_color=\"white\",\n",
    "                        title_font_color=\"white\"\n",
    "                    )\n",
    "                    fig_top10.update_xaxes(title=\"Region\", color=\"white\")\n",
    "                    fig_top10.update_yaxes(title=\"Avg Weekly Cost ($)\", color=\"white\")\n",
    "            else:\n",
    "                # Fallback: box plot of all state costs\n",
    "                box_data = df_statelevel[df_statelevel[\"STUDYYEAR\"] == selected_year]\n",
    "                box_data = box_data.dropna(subset=[\"Center-Based Preschool Cost\"])\n",
    "                if box_data.empty:\n",
    "                    fig_top10 = safe_box(title=f\"No data for {selected_year}\")\n",
    "                else:\n",
    "                    fig_top10 = safe_box(\n",
    "                        box_data,\n",
    "                        y=\"Center-Based Preschool Cost\",\n",
    "                        title=f\"Distribution of Center-Based Preschool Cost (All States, {selected_year})\"\n",
    "                    )\n",
    "                    fig_top10.update_layout(\n",
    "                        template=\"plotly_dark\",\n",
    "                        paper_bgcolor='rgba(0,0,0,0)',\n",
    "                        plot_bgcolor='rgba(0,0,0,0)',\n",
    "                        font_color=\"white\",\n",
    "                        title_font_color=\"white\"\n",
    "                    )\n",
    "                    fig_top10.update_yaxes(title=\"Avg Weekly Cost ($)\", color=\"white\")\n",
    "        except Exception as e:\n",
    "            print(f\"Box plot error: {e}\")\n",
    "            fig_top10 = safe_box(title=\"No data\")\n",
    "        # 3. Choropleth Map (Affordability Ratio)\n",
    "        map_data = df_statelevel[df_statelevel[\"STUDYYEAR\"] == selected_year].copy()\n",
    "        fig_map = px.choropleth(\n",
    "            map_data,\n",
    "            locations=\"STATE_ABBR\",\n",
    "            locationmode=\"USA-states\",\n",
    "            color=\"Affordability Ratio (%)\",\n",
    "            color_continuous_scale=\"Reds\",\n",
    "            scope=\"usa\",\n",
    "            title=\"Childcare Affordability Ratio by State\"\n",
    "        )\n",
    "        fig_map.update_layout(\n",
    "            template=\"plotly_dark\",\n",
    "            paper_bgcolor='rgba(0,0,0,0)',\n",
    "            plot_bgcolor='rgba(0,0,0,0)',\n",
    "            font_color=\"white\",\n",
    "            title_font_color=\"white\",\n",
    "            geo=dict(bgcolor='rgba(0,0,0,0)')\n",
    "        )\n",
    "\n",
    "        # 4. Urbanicity Box Plot\n",
    "        county_year = county_df[county_df[\"STUDYYEAR\"] == selected_year]\n",
    "        fig_urban = px.box(\n",
    "            county_year,\n",
    "            x=\"Urbanicity\",\n",
    "            y=\"MC36to41\",\n",
    "            color=\"Urbanicity\",\n",
    "            color_discrete_sequence=px.colors.qualitative.Set2,\n",
    "            title=\"Center-Based Preschool Cost by Urbanicity (County-Level)\"\n",
    "        )\n",
    "        fig_urban.update_layout(\n",
    "            template=\"plotly_dark\",\n",
    "            paper_bgcolor='rgba(0,0,0,0)',\n",
    "            plot_bgcolor='rgba(0,0,0,0)',\n",
    "            font_color=\"white\",\n",
    "            title_font_color=\"white\",\n",
    "            showlegend=False\n",
    "        )\n",
    "        fig_urban.update_xaxes(title=\"Urbanicity (Based on Total Population Quartiles)\", color=\"white\")\n",
    "        fig_urban.update_yaxes(title=\"Weekly Cost ($)\", color=\"white\")\n",
    "\n",
    "        return fig_trend, fig_top10, fig_map, fig_urban\n",
    "\n",
    "make_dashboard_callbacks(app)\n",
    "\n",
    "if __name__ == \"__main__\":\n",
    "    app.run(debug=True)"
   ]
  },
  {
   "cell_type": "code",
   "execution_count": null,
   "id": "094f0e88",
   "metadata": {},
   "outputs": [],
   "source": []
  }
 ],
 "metadata": {
  "kernelspec": {
   "display_name": ".venv",
   "language": "python",
   "name": "python3"
  },
  "language_info": {
   "codemirror_mode": {
    "name": "ipython",
    "version": 3
   },
   "file_extension": ".py",
   "mimetype": "text/x-python",
   "name": "python",
   "nbconvert_exporter": "python",
   "pygments_lexer": "ipython3",
   "version": "3.12.10"
  }
 },
 "nbformat": 5,
 "nbformat_minor": 9
}
