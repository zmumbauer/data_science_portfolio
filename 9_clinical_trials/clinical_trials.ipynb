{
 "cells": [
  {
   "cell_type": "markdown",
   "id": "858418f3",
   "metadata": {},
   "source": "# Clinical Trial Success Prediction"
  },
  {
   "metadata": {
    "ExecuteTime": {
     "end_time": "2025-07-14T06:36:40.408573Z",
     "start_time": "2025-07-14T06:35:57.142287Z"
    }
   },
   "cell_type": "code",
   "source": [
    "# Load packages and data\n",
    "import pandas as pd\n",
    "import matplotlib.pyplot as plt\n",
    "import seaborn as sns\n",
    "from sklearn.model_selection import train_test_split\n",
    "from sklearn.preprocessing import LabelEncoder\n",
    "from sklearn.ensemble import RandomForestClassifier\n",
    "from xgboost import XGBClassifier\n",
    "from sklearn.linear_model import LogisticRegression\n",
    "from sklearn.metrics import roc_auc_score, classification_report, confusion_matrix\n",
    "import shap\n",
    "from sklearn.impute import SimpleImputer\n",
    "from sklearn.compose import ColumnTransformer\n",
    "from sklearn.preprocessing import OrdinalEncoder\n",
    "from sklearn.pipeline import Pipeline\n",
    "import os\n",
    "\n",
    "# Load AACT tables\n",
    "studies = pd.read_csv(\"clinical_data/studies.txt\", sep=\"|\", low_memory=False)\n",
    "sponsors = pd.read_csv(\"clinical_data/sponsors.txt\", sep=\"|\", low_memory=False)\n",
    "interventions = pd.read_csv(\"clinical_data/interventions.txt\", sep=\"|\", low_memory=False)\n",
    "designs = pd.read_csv(\"clinical_data/designs.txt\", sep=\"|\", low_memory=False)\n",
    "conditions = pd.read_csv(\"clinical_data/conditions.txt\", sep=\"|\", low_memory=False)\n",
    "eligibilities = pd.read_csv(\"clinical_data/eligibilities.txt\", sep=\"|\", low_memory=False)\n",
    "design_outcomes = pd.read_csv(\"clinical_data/design_outcomes.txt\", sep=\"|\", low_memory=False)\n"
   ],
   "id": "3be9fa15bd97c465",
   "outputs": [],
   "execution_count": 15
  },
  {
   "metadata": {
    "ExecuteTime": {
     "end_time": "2025-07-14T06:37:00.731397Z",
     "start_time": "2025-07-14T06:36:40.450791Z"
    }
   },
   "cell_type": "code",
   "source": [
    "# Aggregate outcome types and condition names\n",
    "condition_map = conditions.groupby(\"nct_id\")[\"name\"].apply(lambda x: \"|\".join(set(x))).reset_index()\n",
    "outcome_map = design_outcomes.groupby(\"nct_id\")[\"outcome_type\"].apply(lambda x: \"|\".join(set(x))).reset_index()\n",
    "\n",
    "# Merge tables\n",
    "df = (\n",
    "    studies[[\"nct_id\", \"phase\", \"study_type\", \"enrollment\", \"results_first_submitted_date\"]]\n",
    "    .merge(designs[[\"nct_id\", \"allocation\", \"masking\"]], on=\"nct_id\", how=\"left\")\n",
    "    .merge(sponsors[[\"nct_id\", \"agency_class\"]], on=\"nct_id\", how=\"left\")\n",
    "    .merge(interventions[[\"nct_id\", \"intervention_type\"]], on=\"nct_id\", how=\"left\")\n",
    "    .merge(condition_map, on=\"nct_id\", how=\"left\")\n",
    "    .merge(outcome_map, on=\"nct_id\", how=\"left\")\n",
    "    .merge(eligibilities[[\"nct_id\", \"gender\", \"minimum_age\", \"maximum_age\", \"healthy_volunteers\"]], on=\"nct_id\", how=\"left\")\n",
    ")\n",
    "\n",
    "# check if outcome_type is present\n",
    "print('Columns after merge:', df.columns.tolist())\n",
    "print('Sample rows after merge:')\n",
    "print(df.head())\n",
    "\n",
    "df[\"trial_success\"] = df[\"results_first_submitted_date\"].notnull().astype(int)\n",
    "\n",
    "# Parse age fields\n",
    "df[\"min_age_num\"] = df[\"minimum_age\"].str.extract(r\"(\\d+)\").astype(float)\n",
    "df[\"max_age_num\"] = df[\"maximum_age\"].str.extract(r\"(\\d+)\").astype(float)\n",
    "df[\"age_range\"] = df[\"max_age_num\"] - df[\"min_age_num\"]\n",
    "df[\"gender_all\"] = (df[\"gender\"] == \"ALL\").astype(int)\n",
    "df[\"gender_female_only\"] = (df[\"gender\"] == \"FEMALE\").astype(int)\n",
    "df[\"gender_male_only\"] = (df[\"gender\"] == \"MALE\").astype(int)\n",
    "\n",
    "# Create has_primary_outcome BEFORE dummification or dropping\n",
    "if 'outcome_type' in df.columns:\n",
    "    df[\"has_primary_outcome\"] = df[\"outcome_type\"].str.contains(\"primary\", case=False, na=False).astype(int)\n",
    "    # Dummify outcome_type\n",
    "    all_outcome_types = df[\"outcome_type\"].str.get_dummies(sep=\"|\")\n",
    "    df = pd.concat([df, all_outcome_types], axis=1)\n",
    "    # Only drop outcome_type after all features that need it are created\n",
    "    df = df.drop(\"outcome_type\", axis=1)\n"
   ],
   "id": "e05d3cba94e78d05",
   "outputs": [
    {
     "name": "stdout",
     "output_type": "stream",
     "text": [
      "Columns after merge: ['nct_id', 'phase', 'study_type', 'enrollment', 'results_first_submitted_date', 'allocation', 'masking', 'agency_class', 'intervention_type', 'name', 'outcome_type', 'gender', 'minimum_age', 'maximum_age', 'healthy_volunteers']\n",
      "Sample rows after merge:\n",
      "        nct_id   phase      study_type  enrollment  \\\n",
      "0  NCT02556710  PHASE3  INTERVENTIONAL       480.0   \n",
      "1  NCT02556710  PHASE3  INTERVENTIONAL       480.0   \n",
      "2  NCT03826823     NaN  INTERVENTIONAL        89.0   \n",
      "3  NCT02742103  PHASE2  INTERVENTIONAL        83.0   \n",
      "4  NCT02742103  PHASE2  INTERVENTIONAL        83.0   \n",
      "\n",
      "  results_first_submitted_date  allocation masking agency_class  \\\n",
      "0                   2022-07-12  RANDOMIZED  DOUBLE     INDUSTRY   \n",
      "1                   2022-07-12  RANDOMIZED  DOUBLE     INDUSTRY   \n",
      "2                          NaN         NaN    NONE        OTHER   \n",
      "3                   2020-05-26  RANDOMIZED  DOUBLE     INDUSTRY   \n",
      "4                   2020-05-26  RANDOMIZED  DOUBLE     INDUSTRY   \n",
      "\n",
      "  intervention_type                                               name  \\\n",
      "0        BIOLOGICAL                         Osteoarthritis of the Knee   \n",
      "1              DRUG                         Osteoarthritis of the Knee   \n",
      "2            DEVICE                                        Infertility   \n",
      "3        BIOLOGICAL  Acute Myocardial Infarction|Moderate Renal Imp...   \n",
      "4             OTHER  Acute Myocardial Infarction|Moderate Renal Imp...   \n",
      "\n",
      "        outcome_type  gender minimum_age maximum_age healthy_volunteers  \n",
      "0  secondary|primary     ALL    40 Years    85 Years                  f  \n",
      "1  secondary|primary     ALL    40 Years    85 Years                  f  \n",
      "2  secondary|primary  FEMALE    18 Years    43 Years                  f  \n",
      "3  secondary|primary     ALL    18 Years         NaN                  f  \n",
      "4  secondary|primary     ALL    18 Years         NaN                  f  \n"
     ]
    }
   ],
   "execution_count": 16
  },
  {
   "metadata": {},
   "cell_type": "markdown",
   "source": "## EDA",
   "id": "fbc1ce7b3ff9c227"
  },
  {
   "metadata": {
    "ExecuteTime": {
     "end_time": "2025-07-14T06:56:30.235910Z",
     "start_time": "2025-07-14T06:56:18.930622Z"
    }
   },
   "cell_type": "code",
   "source": [
    "# Missing Values\n",
    "missing = df.isnull().mean().sort_values(ascending=False)\n",
    "print(\"Missing value ratio per column:\\n\", missing)\n",
    "plt.figure(figsize=(10, 6))\n",
    "sns.barplot(x=missing[missing > 0], y=missing[missing > 0].index, color='skyblue')\n",
    "plt.title('Missing Value Ratio per Column')\n",
    "plt.xlabel('Fraction Missing')\n",
    "plt.ylabel('Column')\n",
    "plt.tight_layout()\n",
    "plt.savefig(os.path.join(viz_dir, \"eda_missing_values_barplot.png\"))\n",
    "plt.close()\n",
    "\n",
    "# Target Balance\n",
    "plt.figure(figsize=(6,4))\n",
    "sns.countplot(x='trial_success', data=df)\n",
    "plt.title('Trial Success Distribution')\n",
    "plt.xticks([0, 1], ['Failure', 'Success'])\n",
    "plt.tight_layout()\n",
    "plt.savefig(os.path.join(viz_dir, \"eda_trial_success_distribution.png\"))\n",
    "plt.close()\n",
    "\n",
    "# Phase Distribution\n",
    "plt.figure(figsize=(8,4))\n",
    "sns.countplot(x='phase', hue='trial_success', data=df)\n",
    "plt.title('Trial Phase vs Success')\n",
    "plt.xticks(rotation=45)\n",
    "plt.tight_layout()\n",
    "plt.savefig(os.path.join(viz_dir, \"eda_phase_vs_success.png\"))\n",
    "plt.close()\n",
    "\n",
    "# Sponsor Type\n",
    "plt.figure(figsize=(8,4))\n",
    "sns.countplot(x='agency_class', hue='trial_success', data=df)\n",
    "plt.title('Sponsor Type vs Success')\n",
    "plt.xticks(rotation=45)\n",
    "plt.tight_layout()\n",
    "plt.savefig(os.path.join(viz_dir, \"eda_sponsor_type_vs_success.png\"))\n",
    "plt.close()\n",
    "\n",
    "# Intervention Type\n",
    "plt.figure(figsize=(8,4))\n",
    "sns.countplot(x='intervention_type', hue='trial_success', data=df)\n",
    "plt.title('Intervention Type vs Success')\n",
    "plt.xticks(rotation=45)\n",
    "plt.tight_layout()\n",
    "plt.savefig(os.path.join(viz_dir, \"eda_intervention_type_vs_success.png\"))\n",
    "plt.close()\n",
    "\n",
    "# Outcome Type\n",
    "if 'outcome_type' in df.columns:\n",
    "    plt.figure(figsize=(8,4))\n",
    "    sns.countplot(x='outcome_type', hue='trial_success', data=df)\n",
    "    plt.title('Outcome Type vs Success')\n",
    "    plt.xticks(rotation=45)\n",
    "    plt.tight_layout()\n",
    "    plt.savefig(os.path.join(viz_dir, \"eda_outcome_type_vs_success.png\"))\n",
    "    plt.close()\n",
    "\n",
    "# Enrollment Distribution (Log scale)\n",
    "df['enrollment'] = pd.to_numeric(df['enrollment'], errors='coerce')\n",
    "plt.figure(figsize=(8,4))\n",
    "sns.histplot(df['enrollment'], bins=100, log_scale=True)\n",
    "plt.title('Log-Scaled Enrollment Distribution')\n",
    "plt.tight_layout()\n",
    "plt.savefig(os.path.join(viz_dir, \"eda_log_enrollment_distribution.png\"))\n",
    "plt.close()\n",
    "\n",
    "# Age Range Distribution\n",
    "df['min_age_num'] = df['minimum_age'].str.extract(r'(\\\\d+)').astype(float)\n",
    "df['max_age_num'] = df['maximum_age'].str.extract(r'(\\\\d+)').astype(float)\n",
    "plt.figure(figsize=(8,4))\n",
    "sns.histplot(df['max_age_num'] - df['min_age_num'])\n",
    "plt.title('Participant Age Range')\n",
    "plt.xlabel('Age Range (years)')\n",
    "plt.tight_layout()\n",
    "plt.savefig(os.path.join(viz_dir, \"eda_age_range_distribution.png\"))\n",
    "plt.close()\n",
    "\n",
    "# Gender Breakdown\n",
    "plt.figure(figsize=(8,4))\n",
    "sns.countplot(x='gender', hue='trial_success', data=df)\n",
    "plt.title('Gender Eligibility vs Success')\n",
    "plt.xticks(rotation=45)\n",
    "plt.tight_layout()\n",
    "plt.savefig(os.path.join(viz_dir, \"eda_gender_vs_success.png\"))\n",
    "plt.close()\n",
    "\n",
    "# Heatmap of Correlations (numeric only)\n",
    "numeric = df[['enrollment', 'min_age_num', 'max_age_num']].dropna()\n",
    "corr = numeric.corr()\n",
    "plt.figure(figsize=(6,5))\n",
    "sns.heatmap(corr, annot=True, cmap='coolwarm')\n",
    "plt.title('Correlation Heatmap')\n",
    "plt.tight_layout()\n",
    "plt.savefig(os.path.join(viz_dir, \"eda_correlation_heatmap.png\"))\n",
    "plt.close()"
   ],
   "id": "e0159c3784a1c36b",
   "outputs": [
    {
     "name": "stdout",
     "output_type": "stream",
     "text": [
      "Missing value ratio per column:\n",
      " results_first_submitted_date    0.838614\n",
      "maximum_age                     0.468809\n",
      "minimum_age                     0.061095\n",
      "healthy_volunteers              0.015334\n",
      "name                            0.000607\n",
      "study_type                      0.000581\n",
      "min_age_num                     0.000000\n",
      "primary                         0.000000\n",
      "other                           0.000000\n",
      "has_primary_outcome             0.000000\n",
      "gender_male_only                0.000000\n",
      "gender_female_only              0.000000\n",
      "gender_all                      0.000000\n",
      "age_range                       0.000000\n",
      "max_age_num                     0.000000\n",
      "nct_id                          0.000000\n",
      "trial_success                   0.000000\n",
      "phase                           0.000000\n",
      "gender                          0.000000\n",
      "intervention_type               0.000000\n",
      "agency_class                    0.000000\n",
      "masking                         0.000000\n",
      "allocation                      0.000000\n",
      "enrollment                      0.000000\n",
      "secondary                       0.000000\n",
      "dtype: float64\n"
     ]
    },
    {
     "name": "stderr",
     "output_type": "stream",
     "text": [
      "/Users/zachmumbauer/code/gen_ai/.venv/lib/python3.11/site-packages/seaborn/matrix.py:202: RuntimeWarning: All-NaN slice encountered\n",
      "  vmin = np.nanmin(calc_data)\n",
      "/Users/zachmumbauer/code/gen_ai/.venv/lib/python3.11/site-packages/seaborn/matrix.py:207: RuntimeWarning: All-NaN slice encountered\n",
      "  vmax = np.nanmax(calc_data)\n"
     ]
    }
   ],
   "execution_count": 28
  },
  {
   "metadata": {
    "ExecuteTime": {
     "end_time": "2025-07-14T06:37:01.304534Z",
     "start_time": "2025-07-14T06:37:00.758552Z"
    }
   },
   "cell_type": "code",
   "source": [
    "# Analyze missing values\n",
    "missing_percentage = df.isnull().sum() / len(df) * 100\n",
    "missing_info = pd.DataFrame({'column': missing_percentage.index, 'percentage': missing_percentage.values})\n",
    "missing_info = missing_info.sort_values(by='percentage', ascending=False)\n",
    "print(\"Missing Values Percentage:\")\n",
    "print(missing_info[missing_info['percentage'] > 0])\n",
    "\n",
    "# Ensure visualization output directory exists\n",
    "viz_dir = \"clinical_visualizations\"\n",
    "os.makedirs(viz_dir, exist_ok=True)\n",
    "\n",
    "# Plot missing values\n",
    "plt.figure(figsize=(10, 6))\n",
    "sns.barplot(data=missing_info[missing_info['percentage'] > 0], x='percentage', y='column', color='skyblue')\n",
    "plt.title(\"Missing Value Percentage by Column\")\n",
    "plt.xlabel(\"Percent Missing\")\n",
    "plt.ylabel(\"Column\")\n",
    "plt.tight_layout()\n",
    "plt.savefig(os.path.join(viz_dir, \"missing_values_barplot.png\"))\n",
    "plt.close()\n"
   ],
   "id": "828b0776e7fee45e",
   "outputs": [
    {
     "name": "stdout",
     "output_type": "stream",
     "text": [
      "Missing Values Percentage:\n",
      "                          column  percentage\n",
      "4   results_first_submitted_date   83.861409\n",
      "1                          phase   54.006581\n",
      "17                     age_range   48.815198\n",
      "12                   maximum_age   46.880946\n",
      "16                   max_age_num   46.880946\n",
      "5                     allocation   31.616661\n",
      "6                        masking   17.544515\n",
      "15                   min_age_num    6.109521\n",
      "11                   minimum_age    6.109521\n",
      "8              intervention_type    5.740141\n",
      "13            healthy_volunteers    1.533373\n",
      "3                     enrollment    0.926235\n",
      "10                        gender    0.108348\n",
      "9                           name    0.060720\n",
      "7                   agency_class    0.058127\n",
      "2                     study_type    0.058127\n"
     ]
    }
   ],
   "execution_count": 17
  },
  {
   "metadata": {
    "ExecuteTime": {
     "end_time": "2025-07-14T06:37:02.059895Z",
     "start_time": "2025-07-14T06:37:01.326833Z"
    }
   },
   "cell_type": "code",
   "source": [
    "# Impute missing values\n",
    "# Numerical columns: Impute with median\n",
    "for col in [\"enrollment\", \"min_age_num\", \"max_age_num\", \"age_range\"]:\n",
    "    df[col] = df[col].fillna(df[col].median())\n",
    "\n",
    "# Categorical columns: Impute with mode\n",
    "for col in [\"phase\", \"allocation\", \"masking\", \"agency_class\", \"intervention_type\", \"gender\", \"outcome_type\"]:\n",
    "    if col in df.columns:\n",
    "        df[col] = df[col].fillna(df[col].mode()[0])\n",
    "        if df[col].dtype == 'object':\n",
    "            df[col] = df[col].infer_objects(copy=False)\n"
   ],
   "id": "f8ea5e6c54bb49fd",
   "outputs": [],
   "execution_count": 18
  },
  {
   "metadata": {},
   "cell_type": "markdown",
   "source": "## Preprocessing for modeling",
   "id": "717a0a29b61ac4b0"
  },
  {
   "metadata": {
    "ExecuteTime": {
     "end_time": "2025-07-14T06:40:18.276887Z",
     "start_time": "2025-07-14T06:40:17.229777Z"
    }
   },
   "cell_type": "code",
   "source": [
    "outcome_type_cols = [col for col in df.columns if col.startswith('outcome_type_') and col != 'outcome_type']\n",
    "# Only include columns that actually exist in df\n",
    "model_features = [\n",
    "    \"phase\", \"study_type\", \"allocation\", \"masking\", \"agency_class\",\n",
    "    \"intervention_type\", \"enrollment\", \"age_range\",\n",
    "    \"healthy_volunteers_bool\", \"has_primary_outcome\",\n",
    "    \"gender_all\", \"gender_female_only\", \"gender_male_only\", \"trial_success\"\n",
    "] + outcome_type_cols\n",
    "model_features = [col for col in model_features if col in df.columns]\n",
    "model_df = df[model_features].copy() # Use .copy() to avoid SettingWithCopyWarning\n",
    "\n",
    "# One-hot encode categoricals\n",
    "categorical_cols = [\"phase\", \"study_type\", \"allocation\", \"masking\", \"agency_class\", \"intervention_type\"]\n",
    "categorical_cols = [col for col in categorical_cols if col in model_df.columns]\n",
    "print(\"Columns in model_df before get_dummies:\", model_df.columns.tolist())\n",
    "print(\"Categorical columns to encode:\", categorical_cols)\n",
    "model_df = pd.get_dummies(model_df, columns=categorical_cols, drop_first=True)\n",
    "\n",
    "# No need for further preprocessing, as all features are now numeric\n",
    "X = model_df.drop(\"trial_success\", axis=1)\n",
    "y = model_df[\"trial_success\"]\n",
    "X_train, X_test, y_train, y_test = train_test_split(X, y, test_size=0.2, random_state=42)\n"
   ],
   "id": "259c20b801bd7130",
   "outputs": [
    {
     "name": "stdout",
     "output_type": "stream",
     "text": [
      "Columns in model_df before get_dummies: ['phase', 'study_type', 'allocation', 'masking', 'agency_class', 'intervention_type', 'enrollment', 'age_range', 'has_primary_outcome', 'gender_all', 'gender_female_only', 'gender_male_only', 'trial_success']\n",
      "Categorical columns to encode: ['phase', 'study_type', 'allocation', 'masking', 'agency_class', 'intervention_type']\n"
     ]
    }
   ],
   "execution_count": 23
  },
  {
   "metadata": {
    "ExecuteTime": {
     "end_time": "2025-07-14T06:46:32.783050Z",
     "start_time": "2025-07-14T06:44:26.569840Z"
    }
   },
   "cell_type": "code",
   "source": [
    "# Train models\n",
    "models = {\n",
    "    'Logistic Regression': LogisticRegression(max_iter=1000),\n",
    "    'Random Forest': RandomForestClassifier(),\n",
    "    'XGBoost': XGBClassifier(eval_metric='logloss')\n",
    "}\n",
    "\n",
    "for name, model in models.items():\n",
    "    if name == 'Logistic Regression':\n",
    "        from sklearn.preprocessing import StandardScaler\n",
    "        scaler = StandardScaler()\n",
    "        X_train_scaled = scaler.fit_transform(X_train)\n",
    "        X_test_scaled = scaler.transform(X_test)\n",
    "        model.fit(X_train_scaled, y_train)\n",
    "        y_pred = model.predict(X_test_scaled)\n",
    "    else:\n",
    "        model.fit(X_train, y_train)\n",
    "        y_pred = model.predict(X_test)\n",
    "    auc = roc_auc_score(y_test, y_pred)\n",
    "    print(f\"Model: {name}\")\n",
    "    print(f\"AUC: {auc:.4f}\")\n",
    "    print(classification_report(y_test, y_pred))\n",
    "    print(confusion_matrix(y_test, y_pred))\n",
    "    print(\"-\" * 40)\n"
   ],
   "id": "28e526f51588b9f9",
   "outputs": [
    {
     "name": "stdout",
     "output_type": "stream",
     "text": [
      "Model: Logistic Regression\n",
      "AUC: 0.5222\n",
      "              precision    recall  f1-score   support\n",
      "\n",
      "           0       0.84      0.99      0.91    265017\n",
      "           1       0.58      0.05      0.09     51188\n",
      "\n",
      "    accuracy                           0.84    316205\n",
      "   macro avg       0.71      0.52      0.50    316205\n",
      "weighted avg       0.80      0.84      0.78    316205\n",
      "\n",
      "[[263095   1922]\n",
      " [ 48547   2641]]\n",
      "----------------------------------------\n",
      "Model: Random Forest\n",
      "AUC: 0.8049\n",
      "              precision    recall  f1-score   support\n",
      "\n",
      "           0       0.93      0.96      0.95    265017\n",
      "           1       0.78      0.65      0.71     51188\n",
      "\n",
      "    accuracy                           0.91    316205\n",
      "   macro avg       0.86      0.80      0.83    316205\n",
      "weighted avg       0.91      0.91      0.91    316205\n",
      "\n",
      "[[255562   9455]\n",
      " [ 18145  33043]]\n",
      "----------------------------------------\n"
     ]
    },
    {
     "name": "stderr",
     "output_type": "stream",
     "text": [
      "/Users/zachmumbauer/code/gen_ai/.venv/lib/python3.11/site-packages/xgboost/training.py:183: UserWarning: [02:46:30] WARNING: /Users/runner/work/xgboost/xgboost/src/learner.cc:738: \n",
      "Parameters: { \"use_label_encoder\" } are not used.\n",
      "\n",
      "  bst.update(dtrain, iteration=i, fobj=obj)\n"
     ]
    },
    {
     "name": "stdout",
     "output_type": "stream",
     "text": [
      "Model: XGBoost\n",
      "AUC: 0.6084\n",
      "              precision    recall  f1-score   support\n",
      "\n",
      "           0       0.87      0.97      0.92    265017\n",
      "           1       0.63      0.24      0.35     51188\n",
      "\n",
      "    accuracy                           0.85    316205\n",
      "   macro avg       0.75      0.61      0.64    316205\n",
      "weighted avg       0.83      0.85      0.83    316205\n",
      "\n",
      "[[257567   7450]\n",
      " [ 38648  12540]]\n",
      "----------------------------------------\n"
     ]
    }
   ],
   "execution_count": 25
  },
  {
   "metadata": {
    "ExecuteTime": {
     "end_time": "2025-07-21T01:36:40.593142Z",
     "start_time": "2025-07-21T01:36:40.414585Z"
    }
   },
   "cell_type": "code",
   "source": [
    "# SHAP values for XGBoost\n",
    "xgb_model = models['XGBoost']\n",
    "X_train_float = X_train.astype(float)\n",
    "X_test_float = X_test.astype(float)\n",
    "explainer = shap.Explainer(xgb_model, X_train_float)\n",
    "shap_values = explainer(X_test_float)\n",
    "\n",
    "shap.summary_plot(shap_values, X_test_float, plot_type='bar', show=False)\n",
    "plt.tight_layout()\n",
    "plt.savefig(os.path.join(viz_dir, \"shap_summary_bar.png\"))\n",
    "plt.close()\n"
   ],
   "id": "4728de8709f01556",
   "outputs": [
    {
     "ename": "NameError",
     "evalue": "name 'models' is not defined",
     "output_type": "error",
     "traceback": [
      "\u001B[31m---------------------------------------------------------------------------\u001B[39m",
      "\u001B[31mNameError\u001B[39m                                 Traceback (most recent call last)",
      "\u001B[36mCell\u001B[39m\u001B[36m \u001B[39m\u001B[32mIn[1]\u001B[39m\u001B[32m, line 2\u001B[39m\n\u001B[32m      1\u001B[39m \u001B[38;5;66;03m# SHAP values for XGBoost\u001B[39;00m\n\u001B[32m----> \u001B[39m\u001B[32m2\u001B[39m xgb_model = \u001B[43mmodels\u001B[49m[\u001B[33m'\u001B[39m\u001B[33mXGBoost\u001B[39m\u001B[33m'\u001B[39m]\n\u001B[32m      3\u001B[39m \u001B[38;5;66;03m# Ensure input is float for SHAP\u001B[39;00m\n\u001B[32m      4\u001B[39m X_train_float = X_train.astype(\u001B[38;5;28mfloat\u001B[39m)\n",
      "\u001B[31mNameError\u001B[39m: name 'models' is not defined"
     ]
    }
   ],
   "execution_count": 1
  }
 ],
 "metadata": {},
 "nbformat": 4,
 "nbformat_minor": 5
}
