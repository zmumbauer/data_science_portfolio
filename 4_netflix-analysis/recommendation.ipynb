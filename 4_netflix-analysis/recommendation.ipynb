{
 "cells": [
  {
   "cell_type": "markdown",
   "id": "86e3e6ac",
   "metadata": {},
   "source": [
    "# 10.2 Exercise: Recommender System\n"
   ]
  },
  {
   "cell_type": "code",
   "execution_count": 16,
   "id": "c99f7234",
   "metadata": {
    "ExecuteTime": {
     "end_time": "2025-05-19T01:21:32.272787Z",
     "start_time": "2025-05-19T01:21:32.267747Z"
    }
   },
   "outputs": [],
   "source": [
    "# Import libraries\n",
    "import pandas as pd\n",
    "import warnings"
   ]
  },
  {
   "cell_type": "code",
   "execution_count": 17,
   "id": "f7605dffd4afde9a",
   "metadata": {
    "ExecuteTime": {
     "end_time": "2025-05-19T01:21:32.413954Z",
     "start_time": "2025-05-19T01:21:32.281461Z"
    }
   },
   "outputs": [],
   "source": [
    "# Load data\n",
    "movies = pd.read_csv('movies.csv')\n",
    "ratings = pd.read_csv('ratings.csv')\n",
    "movie_ratings = ratings.merge(movies, on='movieId')\n",
    "user_movie_matrix = movie_ratings.pivot_table(index='userId', columns='title', values='rating')\n",
    "movie_stats = movie_ratings.groupby('title')['rating'].agg(['mean', 'count'])"
   ]
  },
  {
   "cell_type": "code",
   "execution_count": 18,
   "id": "8c72ed5f",
   "metadata": {
    "ExecuteTime": {
     "end_time": "2025-05-19T01:21:32.432113Z",
     "start_time": "2025-05-19T01:21:32.428020Z"
    }
   },
   "outputs": [],
   "source": [
    "def recommend_movies_corr_filtered(movie_title, ratings_matrix, min_ratings=50, n=10):\n",
    "    # If the requested movie isn't in the matrix, return a message\n",
    "    if movie_title not in ratings_matrix:\n",
    "        return f\"Movie '{movie_title}' not found.\"\n",
    "\n",
    "    # Filter out movies that have fewer than `min_ratings` total user ratings\n",
    "    sufficient_data = movie_stats[movie_stats['count'] >= min_ratings].index\n",
    "    filtered_matrix = ratings_matrix[sufficient_data.intersection(ratings_matrix.columns)]\n",
    "\n",
    "    # Drop movies with zero variance (same rating from everyone) since they can't be used in Pearson correlation\n",
    "    filtered_matrix = filtered_matrix.loc[:, filtered_matrix.std(skipna=True) > 0]\n",
    "\n",
    "    # Check the target movie exists after filtering\n",
    "    if movie_title not in filtered_matrix:\n",
    "        return f\"Movie '{movie_title}' has insufficient data after filtering.\"\n",
    "\n",
    "    # Get the column of ratings for the selected movie\n",
    "    target_ratings = filtered_matrix[movie_title]\n",
    "\n",
    "    # Compute Pearson correlation between the selected movie and all others\n",
    "    # but suppress warnings (the output had things like RuntimeWarning: Degrees of freedom <= 0 for slice)\n",
    "    with warnings.catch_warnings():\n",
    "        warnings.simplefilter(\"ignore\", category=RuntimeWarning)\n",
    "        correlations = filtered_matrix.corrwith(target_ratings)\n",
    "\n",
    "    # Convert correlation results to a DataFrame and drop any NaNs\n",
    "    corr_df = pd.DataFrame(correlations, columns=['correlation']).dropna()\n",
    "\n",
    "    # Join with total rating counts to filter out low-signal correlations\n",
    "    corr_df = corr_df.join(movie_stats['count'])\n",
    "\n",
    "    # Keep only those movies with enough co-ratings and sort by correlation\n",
    "    filtered = corr_df[corr_df['count'] >= min_ratings].sort_values('correlation', ascending=False)\n",
    "\n",
    "    # Return the top N recommendations, excluding the original movie itself\n",
    "    return filtered.drop(index=movie_title, errors='ignore').head(n)"
   ]
  },
  {
   "cell_type": "code",
   "execution_count": 19,
   "id": "23f4d663",
   "metadata": {
    "ExecuteTime": {
     "end_time": "2025-05-19T01:21:32.481639Z",
     "start_time": "2025-05-19T01:21:32.443830Z"
    }
   },
   "outputs": [
    {
     "data": {
      "text/html": [
       "<div>\n",
       "<style scoped>\n",
       "    .dataframe tbody tr th:only-of-type {\n",
       "        vertical-align: middle;\n",
       "    }\n",
       "\n",
       "    .dataframe tbody tr th {\n",
       "        vertical-align: top;\n",
       "    }\n",
       "\n",
       "    .dataframe thead th {\n",
       "        text-align: right;\n",
       "    }\n",
       "</style>\n",
       "<table border=\"1\" class=\"dataframe\">\n",
       "  <thead>\n",
       "    <tr style=\"text-align: right;\">\n",
       "      <th></th>\n",
       "      <th>correlation</th>\n",
       "      <th>count</th>\n",
       "    </tr>\n",
       "    <tr>\n",
       "      <th>title</th>\n",
       "      <th></th>\n",
       "      <th></th>\n",
       "    </tr>\n",
       "  </thead>\n",
       "  <tbody>\n",
       "    <tr>\n",
       "      <th>Toy Story 2 (1999)</th>\n",
       "      <td>0.699211</td>\n",
       "      <td>97</td>\n",
       "    </tr>\n",
       "    <tr>\n",
       "      <th>Arachnophobia (1990)</th>\n",
       "      <td>0.652424</td>\n",
       "      <td>53</td>\n",
       "    </tr>\n",
       "    <tr>\n",
       "      <th>Incredibles, The (2004)</th>\n",
       "      <td>0.643301</td>\n",
       "      <td>125</td>\n",
       "    </tr>\n",
       "    <tr>\n",
       "      <th>Finding Nemo (2003)</th>\n",
       "      <td>0.618701</td>\n",
       "      <td>141</td>\n",
       "    </tr>\n",
       "    <tr>\n",
       "      <th>Aladdin (1992)</th>\n",
       "      <td>0.611892</td>\n",
       "      <td>183</td>\n",
       "    </tr>\n",
       "    <tr>\n",
       "      <th>Erin Brockovich (2000)</th>\n",
       "      <td>0.598016</td>\n",
       "      <td>70</td>\n",
       "    </tr>\n",
       "    <tr>\n",
       "      <th>Wallace &amp; Gromit: The Wrong Trousers (1993)</th>\n",
       "      <td>0.589625</td>\n",
       "      <td>56</td>\n",
       "    </tr>\n",
       "    <tr>\n",
       "      <th>Blazing Saddles (1974)</th>\n",
       "      <td>0.585892</td>\n",
       "      <td>62</td>\n",
       "    </tr>\n",
       "    <tr>\n",
       "      <th>Wolf of Wall Street, The (2013)</th>\n",
       "      <td>0.578479</td>\n",
       "      <td>54</td>\n",
       "    </tr>\n",
       "    <tr>\n",
       "      <th>Toy Story 3 (2010)</th>\n",
       "      <td>0.577446</td>\n",
       "      <td>55</td>\n",
       "    </tr>\n",
       "  </tbody>\n",
       "</table>\n",
       "</div>"
      ],
      "text/plain": [
       "                                             correlation  count\n",
       "title                                                          \n",
       "Toy Story 2 (1999)                              0.699211     97\n",
       "Arachnophobia (1990)                            0.652424     53\n",
       "Incredibles, The (2004)                         0.643301    125\n",
       "Finding Nemo (2003)                             0.618701    141\n",
       "Aladdin (1992)                                  0.611892    183\n",
       "Erin Brockovich (2000)                          0.598016     70\n",
       "Wallace & Gromit: The Wrong Trousers (1993)     0.589625     56\n",
       "Blazing Saddles (1974)                          0.585892     62\n",
       "Wolf of Wall Street, The (2013)                 0.578479     54\n",
       "Toy Story 3 (2010)                              0.577446     55"
      ]
     },
     "execution_count": 19,
     "metadata": {},
     "output_type": "execute_result"
    }
   ],
   "source": [
    "# Example\n",
    "recommend_movies_corr_filtered('Toy Story (1995)', user_movie_matrix)"
   ]
  },
  {
   "cell_type": "code",
   "execution_count": 20,
   "id": "f0d2aebd",
   "metadata": {
    "ExecuteTime": {
     "end_time": "2025-05-19T01:21:32.523228Z",
     "start_time": "2025-05-19T01:21:32.516600Z"
    }
   },
   "outputs": [
    {
     "data": {
      "application/vnd.jupyter.widget-view+json": {
       "model_id": "2e0034d1870445d8828649b70bb343c0",
       "version_major": 2,
       "version_minor": 0
      },
      "text/plain": [
       "Dropdown(description='Pick Movie:', options=('2001: A Space Odyssey (1968)', 'Ace Ventura: Pet Detective (1994…"
      ]
     },
     "metadata": {},
     "output_type": "display_data"
    },
    {
     "data": {
      "application/vnd.jupyter.widget-view+json": {
       "model_id": "afb41544c1a1463090c0c740b65bb313",
       "version_major": 2,
       "version_minor": 0
      },
      "text/plain": [
       "Output()"
      ]
     },
     "metadata": {},
     "output_type": "display_data"
    }
   ],
   "source": [
    "# User input\n",
    "import ipywidgets as widgets\n",
    "from IPython.display import display\n",
    "\n",
    "popular_movies = movie_stats[movie_stats['count'] >= 100].index.tolist()\n",
    "popular_movies.sort()\n",
    "movie_dropdown = widgets.Dropdown(options=popular_movies, description='Pick Movie:')\n",
    "output = widgets.Output()\n",
    "\n",
    "def on_movie_selected(change):\n",
    "    with output:\n",
    "        output.clear_output()\n",
    "        print(f\"Top 10 recommendations for: {change.new}\")\n",
    "        display(recommend_movies_corr_filtered(change.new, user_movie_matrix))\n",
    "\n",
    "movie_dropdown.observe(on_movie_selected, names='value')\n",
    "display(movie_dropdown, output)"
   ]
  },
  {
   "cell_type": "markdown",
   "id": "29b2384a778d5ba",
   "metadata": {},
   "source": [
    "## Process Summary\n",
    "\n",
    "1. **Load Data**: Import ratings and movies data from CSV files.\n",
    "2. **Preprocess**: Merge ratings with movie titles and create a user-movie ratings matrix.\n",
    "3. **Correlation Calculation**: Compute correlations between the input movie and all others using shared ratings.\n",
    "4. **Filtering**: Filter out movies with fewer than 50 shared ratings to improve recommendation quality.\n",
    "5. **Recommendation**: Return top 10 correlated movies excluding the input.\n",
    "\n",
    "The recommender system is built using item-item similarity via Pearson correlation between movie rating vectors. The idea is that if two movies tend to be rated similarly by the same users, they are likely to appeal to the same person."
   ]
  },
  {
   "cell_type": "code",
   "execution_count": null,
   "id": "74195726ff6b5a3a",
   "metadata": {
    "ExecuteTime": {
     "end_time": "2025-05-19T01:21:32.562429Z",
     "start_time": "2025-05-19T01:21:32.560849Z"
    }
   },
   "outputs": [],
   "source": []
  }
 ],
 "metadata": {
  "kernelspec": {
   "display_name": "Python 3 (ipykernel)",
   "language": "python",
   "name": "python3"
  },
  "language_info": {
   "codemirror_mode": {
    "name": "ipython",
    "version": 3
   },
   "file_extension": ".py",
   "mimetype": "text/x-python",
   "name": "python",
   "nbconvert_exporter": "python",
   "pygments_lexer": "ipython3",
   "version": "3.9.6"
  }
 },
 "nbformat": 4,
 "nbformat_minor": 5
}
